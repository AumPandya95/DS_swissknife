{
 "cells": [
  {
   "cell_type": "code",
   "execution_count": 54,
   "id": "bridal-referral",
   "metadata": {},
   "outputs": [],
   "source": [
    "import numpy as np\n",
    "import pandas as pd\n",
    "import matplotlib.pyplot as plt\n",
    "\n",
    "import statsmodels.api as sm\n",
    "from statsmodels.tsa.arima.model import ARIMA\n",
    "from scipy import signal"
   ]
  },
  {
   "cell_type": "markdown",
   "id": "tested-council",
   "metadata": {},
   "source": [
    "### Example statsmodels code"
   ]
  },
  {
   "cell_type": "code",
   "execution_count": 22,
   "id": "intensive-beatles",
   "metadata": {},
   "outputs": [],
   "source": [
    "dta = sm.datasets.sunspots.load_pandas().data\n",
    "dta.index = pd.Index(sm.tsa.datetools.dates_from_range('1700', '2008'))\n",
    "del dta[\"YEAR\"]"
   ]
  },
  {
   "cell_type": "code",
   "execution_count": 23,
   "id": "handy-berry",
   "metadata": {},
   "outputs": [
    {
     "data": {
      "text/html": [
       "<div>\n",
       "<style scoped>\n",
       "    .dataframe tbody tr th:only-of-type {\n",
       "        vertical-align: middle;\n",
       "    }\n",
       "\n",
       "    .dataframe tbody tr th {\n",
       "        vertical-align: top;\n",
       "    }\n",
       "\n",
       "    .dataframe thead th {\n",
       "        text-align: right;\n",
       "    }\n",
       "</style>\n",
       "<table border=\"1\" class=\"dataframe\">\n",
       "  <thead>\n",
       "    <tr style=\"text-align: right;\">\n",
       "      <th></th>\n",
       "      <th>SUNACTIVITY</th>\n",
       "    </tr>\n",
       "  </thead>\n",
       "  <tbody>\n",
       "    <tr>\n",
       "      <th>1700-12-31</th>\n",
       "      <td>5.0</td>\n",
       "    </tr>\n",
       "    <tr>\n",
       "      <th>1701-12-31</th>\n",
       "      <td>11.0</td>\n",
       "    </tr>\n",
       "    <tr>\n",
       "      <th>1702-12-31</th>\n",
       "      <td>16.0</td>\n",
       "    </tr>\n",
       "    <tr>\n",
       "      <th>1703-12-31</th>\n",
       "      <td>23.0</td>\n",
       "    </tr>\n",
       "    <tr>\n",
       "      <th>1704-12-31</th>\n",
       "      <td>36.0</td>\n",
       "    </tr>\n",
       "  </tbody>\n",
       "</table>\n",
       "</div>"
      ],
      "text/plain": [
       "            SUNACTIVITY\n",
       "1700-12-31          5.0\n",
       "1701-12-31         11.0\n",
       "1702-12-31         16.0\n",
       "1703-12-31         23.0\n",
       "1704-12-31         36.0"
      ]
     },
     "execution_count": 23,
     "metadata": {},
     "output_type": "execute_result"
    }
   ],
   "source": [
    "dta.head()"
   ]
  },
  {
   "cell_type": "code",
   "execution_count": 24,
   "id": "compliant-relation",
   "metadata": {},
   "outputs": [
    {
     "name": "stderr",
     "output_type": "stream",
     "text": [
      "/home/aumaron/Desktop/other_projects/venv/lib/python3.7/site-packages/statsmodels/tsa/base/tsa_model.py:527: ValueWarning: No frequency information was provided, so inferred frequency A-DEC will be used.\n",
      "  % freq, ValueWarning)\n",
      "/home/aumaron/Desktop/other_projects/venv/lib/python3.7/site-packages/statsmodels/tsa/base/tsa_model.py:527: ValueWarning: No frequency information was provided, so inferred frequency A-DEC will be used.\n",
      "  % freq, ValueWarning)\n",
      "/home/aumaron/Desktop/other_projects/venv/lib/python3.7/site-packages/statsmodels/tsa/base/tsa_model.py:527: ValueWarning: No frequency information was provided, so inferred frequency A-DEC will be used.\n",
      "  % freq, ValueWarning)\n"
     ]
    }
   ],
   "source": [
    "arma_mod20 = ARIMA(dta, order=(2, 0, 0)).fit()"
   ]
  },
  {
   "cell_type": "code",
   "execution_count": 25,
   "id": "unable-topic",
   "metadata": {},
   "outputs": [
    {
     "name": "stdout",
     "output_type": "stream",
     "text": [
      "                               SARIMAX Results                                \n",
      "==============================================================================\n",
      "Dep. Variable:            SUNACTIVITY   No. Observations:                  309\n",
      "Model:                 ARIMA(2, 0, 0)   Log Likelihood               -1307.319\n",
      "Date:                Mon, 12 Apr 2021   AIC                           2622.637\n",
      "Time:                        16:11:44   BIC                           2637.570\n",
      "Sample:                    12-31-1700   HQIC                          2628.607\n",
      "                         - 12-31-2008                                         \n",
      "Covariance Type:                  opg                                         \n",
      "==============================================================================\n",
      "                 coef    std err          z      P>|z|      [0.025      0.975]\n",
      "------------------------------------------------------------------------------\n",
      "const         49.7462      3.938     12.631      0.000      42.027      57.465\n",
      "ar.L1          1.3906      0.037     37.694      0.000       1.318       1.463\n",
      "ar.L2         -0.6886      0.036    -19.363      0.000      -0.758      -0.619\n",
      "sigma2       274.7272     18.897     14.538      0.000     237.689     311.765\n",
      "===================================================================================\n",
      "Ljung-Box (L1) (Q):                   2.40   Jarque-Bera (JB):                80.38\n",
      "Prob(Q):                              0.12   Prob(JB):                         0.00\n",
      "Heteroskedasticity (H):               1.65   Skew:                             0.83\n",
      "Prob(H) (two-sided):                  0.01   Kurtosis:                         4.87\n",
      "===================================================================================\n",
      "\n",
      "Warnings:\n",
      "[1] Covariance matrix calculated using the outer product of gradients (complex-step).\n"
     ]
    }
   ],
   "source": [
    "print(arma_mod20.summary())"
   ]
  },
  {
   "cell_type": "code",
   "execution_count": 26,
   "id": "equipped-aaron",
   "metadata": {},
   "outputs": [
    {
     "name": "stdout",
     "output_type": "stream",
     "text": [
      "                               SARIMAX Results                                \n",
      "==============================================================================\n",
      "Dep. Variable:            SUNACTIVITY   No. Observations:                  309\n",
      "Model:                 ARIMA(0, 1, 1)   Log Likelihood               -1368.639\n",
      "Date:                Mon, 12 Apr 2021   AIC                           2741.278\n",
      "Time:                        16:11:44   BIC                           2748.738\n",
      "Sample:                    12-31-1700   HQIC                          2744.261\n",
      "                         - 12-31-2008                                         \n",
      "Covariance Type:                  opg                                         \n",
      "==============================================================================\n",
      "                 coef    std err          z      P>|z|      [0.025      0.975]\n",
      "------------------------------------------------------------------------------\n",
      "ma.L1          0.4758      0.040     11.774      0.000       0.397       0.555\n",
      "sigma2       423.4922     26.598     15.922      0.000     371.361     475.623\n",
      "===================================================================================\n",
      "Ljung-Box (L1) (Q):                   5.89   Jarque-Bera (JB):                29.10\n",
      "Prob(Q):                              0.02   Prob(JB):                         0.00\n",
      "Heteroskedasticity (H):               1.90   Skew:                             0.34\n",
      "Prob(H) (two-sided):                  0.00   Kurtosis:                         4.34\n",
      "===================================================================================\n",
      "\n",
      "Warnings:\n",
      "[1] Covariance matrix calculated using the outer product of gradients (complex-step).\n"
     ]
    },
    {
     "name": "stderr",
     "output_type": "stream",
     "text": [
      "/home/aumaron/Desktop/other_projects/venv/lib/python3.7/site-packages/statsmodels/tsa/base/tsa_model.py:527: ValueWarning: No frequency information was provided, so inferred frequency A-DEC will be used.\n",
      "  % freq, ValueWarning)\n",
      "/home/aumaron/Desktop/other_projects/venv/lib/python3.7/site-packages/statsmodels/tsa/base/tsa_model.py:527: ValueWarning: No frequency information was provided, so inferred frequency A-DEC will be used.\n",
      "  % freq, ValueWarning)\n",
      "/home/aumaron/Desktop/other_projects/venv/lib/python3.7/site-packages/statsmodels/tsa/base/tsa_model.py:527: ValueWarning: No frequency information was provided, so inferred frequency A-DEC will be used.\n",
      "  % freq, ValueWarning)\n"
     ]
    }
   ],
   "source": [
    "arma_mod_011 = ARIMA(dta, order=(0, 1, 1)).fit()\n",
    "print(arma_mod_011.summary())"
   ]
  },
  {
   "cell_type": "markdown",
   "id": "surface-exemption",
   "metadata": {},
   "source": [
    "### CO2 Time Series Data\n",
    "### (1) ARIMA model with no seasonality"
   ]
  },
  {
   "cell_type": "code",
   "execution_count": 27,
   "id": "medical-sunrise",
   "metadata": {},
   "outputs": [
    {
     "data": {
      "text/html": [
       "<div>\n",
       "<style scoped>\n",
       "    .dataframe tbody tr th:only-of-type {\n",
       "        vertical-align: middle;\n",
       "    }\n",
       "\n",
       "    .dataframe tbody tr th {\n",
       "        vertical-align: top;\n",
       "    }\n",
       "\n",
       "    .dataframe thead th {\n",
       "        text-align: right;\n",
       "    }\n",
       "</style>\n",
       "<table border=\"1\" class=\"dataframe\">\n",
       "  <thead>\n",
       "    <tr style=\"text-align: right;\">\n",
       "      <th></th>\n",
       "      <th>Jan</th>\n",
       "      <th>Feb</th>\n",
       "      <th>Mar</th>\n",
       "      <th>Apr</th>\n",
       "      <th>May</th>\n",
       "      <th>Jun</th>\n",
       "      <th>Jul</th>\n",
       "      <th>Aug</th>\n",
       "      <th>Sep</th>\n",
       "      <th>Oct</th>\n",
       "      <th>Nov</th>\n",
       "      <th>Dec</th>\n",
       "    </tr>\n",
       "  </thead>\n",
       "  <tbody>\n",
       "    <tr>\n",
       "      <th>1994</th>\n",
       "      <td>363.05</td>\n",
       "      <td>364.18</td>\n",
       "      <td>364.87</td>\n",
       "      <td>364.47</td>\n",
       "      <td>364.32</td>\n",
       "      <td>362.13</td>\n",
       "      <td>356.72</td>\n",
       "      <td>350.88</td>\n",
       "      <td>350.69</td>\n",
       "      <td>356.06</td>\n",
       "      <td>360.09</td>\n",
       "      <td>363.27</td>\n",
       "    </tr>\n",
       "    <tr>\n",
       "      <th>1995</th>\n",
       "      <td>363.49</td>\n",
       "      <td>364.94</td>\n",
       "      <td>366.72</td>\n",
       "      <td>366.33</td>\n",
       "      <td>365.75</td>\n",
       "      <td>364.32</td>\n",
       "      <td>358.59</td>\n",
       "      <td>352.06</td>\n",
       "      <td>353.45</td>\n",
       "      <td>357.27</td>\n",
       "      <td>362.34</td>\n",
       "      <td>365.65</td>\n",
       "    </tr>\n",
       "    <tr>\n",
       "      <th>1996</th>\n",
       "      <td>366.93</td>\n",
       "      <td>366.71</td>\n",
       "      <td>367.63</td>\n",
       "      <td>368.15</td>\n",
       "      <td>369.14</td>\n",
       "      <td>367.33</td>\n",
       "      <td>361.53</td>\n",
       "      <td>356.11</td>\n",
       "      <td>354.51</td>\n",
       "      <td>360.12</td>\n",
       "      <td>363.85</td>\n",
       "      <td>365.52</td>\n",
       "    </tr>\n",
       "    <tr>\n",
       "      <th>1997</th>\n",
       "      <td>367.72</td>\n",
       "      <td>369.08</td>\n",
       "      <td>368.17</td>\n",
       "      <td>368.83</td>\n",
       "      <td>369.49</td>\n",
       "      <td>367.57</td>\n",
       "      <td>360.79</td>\n",
       "      <td>355.16</td>\n",
       "      <td>356.01</td>\n",
       "      <td>360.71</td>\n",
       "      <td>364.77</td>\n",
       "      <td>367.81</td>\n",
       "    </tr>\n",
       "    <tr>\n",
       "      <th>1998</th>\n",
       "      <td>369.40</td>\n",
       "      <td>370.12</td>\n",
       "      <td>370.88</td>\n",
       "      <td>370.53</td>\n",
       "      <td>371.56</td>\n",
       "      <td>369.28</td>\n",
       "      <td>364.50</td>\n",
       "      <td>357.46</td>\n",
       "      <td>360.54</td>\n",
       "      <td>364.04</td>\n",
       "      <td>368.74</td>\n",
       "      <td>371.58</td>\n",
       "    </tr>\n",
       "    <tr>\n",
       "      <th>1999</th>\n",
       "      <td>372.60</td>\n",
       "      <td>373.85</td>\n",
       "      <td>373.75</td>\n",
       "      <td>374.10</td>\n",
       "      <td>374.50</td>\n",
       "      <td>372.04</td>\n",
       "      <td>364.81</td>\n",
       "      <td>359.11</td>\n",
       "      <td>359.65</td>\n",
       "      <td>364.94</td>\n",
       "      <td>369.82</td>\n",
       "      <td>372.62</td>\n",
       "    </tr>\n",
       "    <tr>\n",
       "      <th>2000</th>\n",
       "      <td>373.23</td>\n",
       "      <td>375.13</td>\n",
       "      <td>374.83</td>\n",
       "      <td>375.42</td>\n",
       "      <td>376.18</td>\n",
       "      <td>374.01</td>\n",
       "      <td>366.54</td>\n",
       "      <td>360.78</td>\n",
       "      <td>361.77</td>\n",
       "      <td>367.51</td>\n",
       "      <td>370.58</td>\n",
       "      <td>373.37</td>\n",
       "    </tr>\n",
       "    <tr>\n",
       "      <th>2001</th>\n",
       "      <td>375.49</td>\n",
       "      <td>375.94</td>\n",
       "      <td>376.42</td>\n",
       "      <td>377.48</td>\n",
       "      <td>377.67</td>\n",
       "      <td>374.78</td>\n",
       "      <td>367.38</td>\n",
       "      <td>361.67</td>\n",
       "      <td>363.39</td>\n",
       "      <td>367.74</td>\n",
       "      <td>373.18</td>\n",
       "      <td>374.41</td>\n",
       "    </tr>\n",
       "    <tr>\n",
       "      <th>2002</th>\n",
       "      <td>376.68</td>\n",
       "      <td>377.42</td>\n",
       "      <td>378.27</td>\n",
       "      <td>378.73</td>\n",
       "      <td>379.01</td>\n",
       "      <td>375.95</td>\n",
       "      <td>370.78</td>\n",
       "      <td>364.07</td>\n",
       "      <td>365.36</td>\n",
       "      <td>370.25</td>\n",
       "      <td>374.04</td>\n",
       "      <td>377.99</td>\n",
       "    </tr>\n",
       "    <tr>\n",
       "      <th>2003</th>\n",
       "      <td>379.03</td>\n",
       "      <td>379.36</td>\n",
       "      <td>380.90</td>\n",
       "      <td>381.39</td>\n",
       "      <td>382.38</td>\n",
       "      <td>381.02</td>\n",
       "      <td>373.78</td>\n",
       "      <td>367.97</td>\n",
       "      <td>368.55</td>\n",
       "      <td>372.28</td>\n",
       "      <td>377.75</td>\n",
       "      <td>379.99</td>\n",
       "    </tr>\n",
       "    <tr>\n",
       "      <th>2004</th>\n",
       "      <td>382.44</td>\n",
       "      <td>382.36</td>\n",
       "      <td>381.58</td>\n",
       "      <td>383.21</td>\n",
       "      <td>383.58</td>\n",
       "      <td>382.59</td>\n",
       "      <td>374.58</td>\n",
       "      <td>368.69</td>\n",
       "      <td>368.55</td>\n",
       "      <td>373.39</td>\n",
       "      <td>378.49</td>\n",
       "      <td>381.62</td>\n",
       "    </tr>\n",
       "  </tbody>\n",
       "</table>\n",
       "</div>"
      ],
      "text/plain": [
       "         Jan     Feb     Mar     Apr     May     Jun     Jul     Aug     Sep  \\\n",
       "1994  363.05  364.18  364.87  364.47  364.32  362.13  356.72  350.88  350.69   \n",
       "1995  363.49  364.94  366.72  366.33  365.75  364.32  358.59  352.06  353.45   \n",
       "1996  366.93  366.71  367.63  368.15  369.14  367.33  361.53  356.11  354.51   \n",
       "1997  367.72  369.08  368.17  368.83  369.49  367.57  360.79  355.16  356.01   \n",
       "1998  369.40  370.12  370.88  370.53  371.56  369.28  364.50  357.46  360.54   \n",
       "1999  372.60  373.85  373.75  374.10  374.50  372.04  364.81  359.11  359.65   \n",
       "2000  373.23  375.13  374.83  375.42  376.18  374.01  366.54  360.78  361.77   \n",
       "2001  375.49  375.94  376.42  377.48  377.67  374.78  367.38  361.67  363.39   \n",
       "2002  376.68  377.42  378.27  378.73  379.01  375.95  370.78  364.07  365.36   \n",
       "2003  379.03  379.36  380.90  381.39  382.38  381.02  373.78  367.97  368.55   \n",
       "2004  382.44  382.36  381.58  383.21  383.58  382.59  374.58  368.69  368.55   \n",
       "\n",
       "         Oct     Nov     Dec  \n",
       "1994  356.06  360.09  363.27  \n",
       "1995  357.27  362.34  365.65  \n",
       "1996  360.12  363.85  365.52  \n",
       "1997  360.71  364.77  367.81  \n",
       "1998  364.04  368.74  371.58  \n",
       "1999  364.94  369.82  372.62  \n",
       "2000  367.51  370.58  373.37  \n",
       "2001  367.74  373.18  374.41  \n",
       "2002  370.25  374.04  377.99  \n",
       "2003  372.28  377.75  379.99  \n",
       "2004  373.39  378.49  381.62  "
      ]
     },
     "execution_count": 27,
     "metadata": {},
     "output_type": "execute_result"
    }
   ],
   "source": [
    "co2_data = pd.read_csv('/home/aumaron/Desktop/other_projects/datasets/TS_CO2_Data.csv')\n",
    "co2_data"
   ]
  },
  {
   "cell_type": "code",
   "execution_count": 28,
   "id": "particular-tuesday",
   "metadata": {},
   "outputs": [
    {
     "data": {
      "text/plain": [
       "array([363.05, 364.18, 364.87, 364.47, 364.32, 362.13, 356.72, 350.88,\n",
       "       350.69, 356.06, 360.09, 363.27, 363.49, 364.94, 366.72, 366.33,\n",
       "       365.75, 364.32, 358.59, 352.06, 353.45, 357.27, 362.34, 365.65,\n",
       "       366.93, 366.71, 367.63, 368.15, 369.14, 367.33, 361.53, 356.11,\n",
       "       354.51, 360.12, 363.85, 365.52, 367.72, 369.08, 368.17, 368.83,\n",
       "       369.49, 367.57, 360.79, 355.16, 356.01, 360.71, 364.77, 367.81,\n",
       "       369.4 , 370.12, 370.88, 370.53, 371.56, 369.28, 364.5 , 357.46,\n",
       "       360.54, 364.04, 368.74, 371.58, 372.6 , 373.85, 373.75, 374.1 ,\n",
       "       374.5 , 372.04, 364.81, 359.11, 359.65, 364.94, 369.82, 372.62,\n",
       "       373.23, 375.13, 374.83, 375.42, 376.18, 374.01, 366.54, 360.78,\n",
       "       361.77, 367.51, 370.58, 373.37, 375.49, 375.94, 376.42, 377.48,\n",
       "       377.67, 374.78, 367.38, 361.67, 363.39, 367.74, 373.18, 374.41,\n",
       "       376.68, 377.42, 378.27, 378.73, 379.01, 375.95, 370.78, 364.07,\n",
       "       365.36, 370.25, 374.04, 377.99, 379.03, 379.36, 380.9 , 381.39,\n",
       "       382.38, 381.02, 373.78, 367.97, 368.55, 372.28, 377.75, 379.99,\n",
       "       382.44, 382.36, 381.58, 383.21, 383.58, 382.59, 374.58, 368.69,\n",
       "       368.55, 373.39, 378.49, 381.62])"
      ]
     },
     "execution_count": 28,
     "metadata": {},
     "output_type": "execute_result"
    }
   ],
   "source": [
    "# Convert from matrix to vector\n",
    "co2_vector = co2_data.values.flatten()\n",
    "co2_vector"
   ]
  },
  {
   "cell_type": "code",
   "execution_count": 29,
   "id": "informed-robertson",
   "metadata": {},
   "outputs": [],
   "source": [
    "co2_model_011 = ARIMA(endog=co2_vector, order=(0, 1, 1)).fit()"
   ]
  },
  {
   "cell_type": "code",
   "execution_count": 30,
   "id": "geographic-friendship",
   "metadata": {},
   "outputs": [
    {
     "name": "stdout",
     "output_type": "stream",
     "text": [
      "                               SARIMAX Results                                \n",
      "==============================================================================\n",
      "Dep. Variable:                      y   No. Observations:                  132\n",
      "Model:                 ARIMA(0, 1, 1)   Log Likelihood                -311.517\n",
      "Date:                Mon, 12 Apr 2021   AIC                            627.034\n",
      "Time:                        16:11:45   BIC                            632.785\n",
      "Sample:                             0   HQIC                           629.371\n",
      "                                - 132                                         \n",
      "Covariance Type:                  opg                                         \n",
      "==============================================================================\n",
      "                 coef    std err          z      P>|z|      [0.025      0.975]\n",
      "------------------------------------------------------------------------------\n",
      "ma.L1          0.6744      0.071      9.494      0.000       0.535       0.814\n",
      "sigma2         6.7766      0.797      8.508      0.000       5.215       8.338\n",
      "===================================================================================\n",
      "Ljung-Box (L1) (Q):                   7.13   Jarque-Bera (JB):                 3.67\n",
      "Prob(Q):                              0.01   Prob(JB):                         0.16\n",
      "Heteroskedasticity (H):               1.35   Skew:                            -0.39\n",
      "Prob(H) (two-sided):                  0.33   Kurtosis:                         3.28\n",
      "===================================================================================\n",
      "\n",
      "Warnings:\n",
      "[1] Covariance matrix calculated using the outer product of gradients (complex-step).\n"
     ]
    }
   ],
   "source": [
    "print(co2_model_011.summary())"
   ]
  },
  {
   "cell_type": "markdown",
   "id": "funky-field",
   "metadata": {},
   "source": [
    "### (2) ARIMA model with seasonal and non-seasonal components"
   ]
  },
  {
   "cell_type": "code",
   "execution_count": 31,
   "id": "perfect-request",
   "metadata": {},
   "outputs": [],
   "source": [
    "co2_composite_model_011 = ARIMA(endog=co2_vector, order=(0, 1, 1), seasonal_order=(0, 1, 1, 12)).fit()"
   ]
  },
  {
   "cell_type": "markdown",
   "id": "daily-turtle",
   "metadata": {},
   "source": [
    "print(co2_composite_model_011.summary())"
   ]
  },
  {
   "cell_type": "markdown",
   "id": "hollywood-arizona",
   "metadata": {},
   "source": [
    "### Code for out-of-sample forecasting & corresponding confidence interval"
   ]
  },
  {
   "cell_type": "code",
   "execution_count": 32,
   "id": "local-promotion",
   "metadata": {},
   "outputs": [],
   "source": [
    "# Option 1: Predict the next 12 values by choosing '132' as the start index for out-of-sample prediction\n",
    "predict_co2 = co2_composite_model_011.predict(132, 132+12)"
   ]
  },
  {
   "cell_type": "code",
   "execution_count": 33,
   "id": "deadly-marshall",
   "metadata": {},
   "outputs": [
    {
     "data": {
      "text/plain": [
       "array([382.88008831, 383.5531236 , 383.92927625, 384.55873587,\n",
       "       385.05191543, 383.07277951, 376.3312297 , 370.33059759,\n",
       "       371.09032469, 375.74949158, 380.37360261, 383.12802228,\n",
       "       384.68012434])"
      ]
     },
     "execution_count": 33,
     "metadata": {},
     "output_type": "execute_result"
    }
   ],
   "source": [
    "predict_co2"
   ]
  },
  {
   "cell_type": "code",
   "execution_count": 34,
   "id": "loose-watts",
   "metadata": {},
   "outputs": [],
   "source": [
    "# Option 2: Forecasting based on 'forecast' function in ARIMAResults\n",
    "predict_co2_oos = co2_composite_model_011.forecast(steps=12)"
   ]
  },
  {
   "cell_type": "code",
   "execution_count": 35,
   "id": "laughing-weight",
   "metadata": {},
   "outputs": [
    {
     "data": {
      "text/plain": [
       "array([382.88008831, 383.5531236 , 383.92927625, 384.55873587,\n",
       "       385.05191543, 383.07277951, 376.3312297 , 370.33059759,\n",
       "       371.09032469, 375.74949158, 380.37360261, 383.12802228])"
      ]
     },
     "execution_count": 35,
     "metadata": {},
     "output_type": "execute_result"
    }
   ],
   "source": [
    "predict_co2_oos"
   ]
  },
  {
   "cell_type": "code",
   "execution_count": 36,
   "id": "catholic-blogger",
   "metadata": {},
   "outputs": [],
   "source": [
    "# Option 3: Perform forecasting using  ARIMAResults object with confidence interval\n",
    "predict_co2_PI_oos = co2_composite_model_011.get_forecast(steps=12)"
   ]
  },
  {
   "cell_type": "code",
   "execution_count": 37,
   "id": "concrete-convergence",
   "metadata": {},
   "outputs": [
    {
     "data": {
      "text/plain": [
       "array([382.88008831, 383.5531236 , 383.92927625, 384.55873587,\n",
       "       385.05191543, 383.07277951, 376.3312297 , 370.33059759,\n",
       "       371.09032469, 375.74949158, 380.37360261, 383.12802228])"
      ]
     },
     "execution_count": 37,
     "metadata": {},
     "output_type": "execute_result"
    }
   ],
   "source": [
    "predict_co2_PI_oos.predicted_mean"
   ]
  },
  {
   "cell_type": "code",
   "execution_count": 38,
   "id": "black-appreciation",
   "metadata": {},
   "outputs": [
    {
     "data": {
      "text/plain": [
       "True"
      ]
     },
     "execution_count": 38,
     "metadata": {},
     "output_type": "execute_result"
    }
   ],
   "source": [
    "# Results are identical to those obtained using 'forecast'\n",
    "np.all(predict_co2_PI_oos.predicted_mean == predict_co2_oos)"
   ]
  },
  {
   "cell_type": "code",
   "execution_count": 39,
   "id": "consistent-birth",
   "metadata": {},
   "outputs": [
    {
     "data": {
      "text/plain": [
       "array([[381.42939551, 384.33078111],\n",
       "       [381.97935859, 385.12688861],\n",
       "       [382.24138911, 385.61716339],\n",
       "       [382.76396856, 386.35350319],\n",
       "       [383.15628455, 386.9475463 ],\n",
       "       [381.08138726, 385.06417177],\n",
       "       [374.24847436, 378.41398504],\n",
       "       [368.16032191, 372.50087326],\n",
       "       [368.83592384, 373.34472555],\n",
       "       [373.41399379, 378.08498936],\n",
       "       [377.95973091, 382.78747432],\n",
       "       [380.63824251, 385.61780205]])"
      ]
     },
     "execution_count": 39,
     "metadata": {},
     "output_type": "execute_result"
    }
   ],
   "source": [
    "# 95% confidence interval for each of the 12 predicted values\n",
    "predict_co2_PI_oos.conf_int(alpha=0.05)"
   ]
  },
  {
   "cell_type": "markdown",
   "id": "provincial-orientation",
   "metadata": {},
   "source": [
    "### In-sample vs. OOS forecasting"
   ]
  },
  {
   "cell_type": "code",
   "execution_count": 40,
   "id": "whole-pharmacy",
   "metadata": {},
   "outputs": [
    {
     "name": "stdout",
     "output_type": "stream",
     "text": [
      "                               SARIMAX Results                                \n",
      "==============================================================================\n",
      "Dep. Variable:                      y   No. Observations:                  132\n",
      "Model:                 ARIMA(1, 0, 0)   Log Likelihood                -348.791\n",
      "Date:                Mon, 12 Apr 2021   AIC                            703.581\n",
      "Time:                        16:11:48   BIC                            712.229\n",
      "Sample:                             0   HQIC                           707.095\n",
      "                                - 132                                         \n",
      "Covariance Type:                  opg                                         \n",
      "==============================================================================\n",
      "                 coef    std err          z      P>|z|      [0.025      0.975]\n",
      "------------------------------------------------------------------------------\n",
      "const        369.4554      3.506    105.381      0.000     362.584     376.327\n",
      "ar.L1          0.9024      0.040     22.420      0.000       0.823       0.981\n",
      "sigma2        11.4055      1.818      6.273      0.000       7.842      14.969\n",
      "===================================================================================\n",
      "Ljung-Box (L1) (Q):                  51.02   Jarque-Bera (JB):                14.81\n",
      "Prob(Q):                              0.00   Prob(JB):                         0.00\n",
      "Heteroskedasticity (H):               1.21   Skew:                            -0.81\n",
      "Prob(H) (two-sided):                  0.53   Kurtosis:                         2.80\n",
      "===================================================================================\n",
      "\n",
      "Warnings:\n",
      "[1] Covariance matrix calculated using the outer product of gradients (complex-step).\n"
     ]
    }
   ],
   "source": [
    "co2_model_100 = ARIMA(endog=co2_vector, order=(1, 0, 0)).fit()\n",
    "print(co2_model_100.summary())"
   ]
  },
  {
   "cell_type": "code",
   "execution_count": 41,
   "id": "fabulous-window",
   "metadata": {},
   "outputs": [],
   "source": [
    "# In-sample dynamic = TRUE; forecasted values are used for stepwise prediction\n",
    "predict_co2_dynamic_true = co2_model_100.predict(122, 131, dynamic=True)\n",
    "\n",
    "# In-sample dynamic = False; actual values are used for stepwise prediction\n",
    "predict_co2_dynamic_false = co2_model_100.predict(122, 131, dynamic=False)"
   ]
  },
  {
   "cell_type": "code",
   "execution_count": 42,
   "id": "parallel-elephant",
   "metadata": {},
   "outputs": [
    {
     "data": {
      "text/plain": [
       "array([381.10028051, 379.96353191, 378.93775007, 378.01210266,\n",
       "       377.17681481, 376.42306581, 375.74289605, 375.12912287,\n",
       "       374.5752648 , 374.07547307])"
      ]
     },
     "execution_count": 42,
     "metadata": {},
     "output_type": "execute_result"
    }
   ],
   "source": [
    "predict_co2_dynamic_true"
   ]
  },
  {
   "cell_type": "code",
   "execution_count": 43,
   "id": "executive-volleyball",
   "metadata": {},
   "outputs": [
    {
     "data": {
      "text/plain": [
       "array([381.10028051, 380.3964223 , 381.86730549, 382.20118695,\n",
       "       381.30782844, 374.07974603, 368.76471415, 368.63838062,\n",
       "       373.00591107, 377.60806092])"
      ]
     },
     "execution_count": 43,
     "metadata": {},
     "output_type": "execute_result"
    }
   ],
   "source": [
    "predict_co2_dynamic_false"
   ]
  },
  {
   "cell_type": "code",
   "execution_count": 44,
   "id": "inner-crisis",
   "metadata": {},
   "outputs": [
    {
     "data": {
      "text/plain": [
       "381.58"
      ]
     },
     "execution_count": 44,
     "metadata": {},
     "output_type": "execute_result"
    }
   ],
   "source": [
    "co2_vector[122]"
   ]
  },
  {
   "cell_type": "code",
   "execution_count": 45,
   "id": "revolutionary-position",
   "metadata": {},
   "outputs": [
    {
     "data": {
      "text/plain": [
       "380.39663903999997"
      ]
     },
     "execution_count": 45,
     "metadata": {},
     "output_type": "execute_result"
    }
   ],
   "source": [
    "# 122 (0-indexed) true value used to predict value at 123\n",
    "369.4554 + 0.9024*(co2_vector[122] - 369.4554)"
   ]
  },
  {
   "cell_type": "code",
   "execution_count": 46,
   "id": "first-camel",
   "metadata": {},
   "outputs": [
    {
     "data": {
      "text/plain": [
       "379.963740172224"
      ]
     },
     "execution_count": 46,
     "metadata": {},
     "output_type": "execute_result"
    }
   ],
   "source": [
    "# 122 (0-indexed) forecasted value used to predict value at 123\n",
    "369.4554 + 0.9024*(381.10028051 - 369.4554)"
   ]
  },
  {
   "cell_type": "markdown",
   "id": "filled-norman",
   "metadata": {},
   "source": [
    "### Use of periodogram to estimate the periodicity in the data\n",
    "### (1) De-trend  linear data"
   ]
  },
  {
   "cell_type": "code",
   "execution_count": 47,
   "id": "liked-mauritius",
   "metadata": {},
   "outputs": [],
   "source": [
    "f, Pxx_den = signal.periodogram(x=co2_vector, detrend='linear')"
   ]
  },
  {
   "cell_type": "code",
   "execution_count": 52,
   "id": "senior-identity",
   "metadata": {
    "scrolled": true
   },
   "outputs": [
    {
     "data": {
      "text/plain": [
       "array([3.58391079e-25, 4.98223878e+00, 1.03645360e+01, 1.72919350e+01,\n",
       "       6.49037104e+00, 5.23624879e+00, 1.10278251e+00, 7.24743431e-01,\n",
       "       1.00557765e+00, 2.34958345e+00, 3.67225230e+00, 3.01756372e+03,\n",
       "       1.54608394e-01, 5.10719025e-01, 1.21965957e+00, 1.13832319e-02,\n",
       "       9.06348696e-01, 9.09899917e-01, 3.56919562e-01, 1.54766407e+00,\n",
       "       3.13673403e-01, 2.98412098e+00, 5.67229235e+02, 3.86992451e-01,\n",
       "       9.54063953e-01, 1.40138078e+00, 1.63317883e-01, 1.00375742e-02,\n",
       "       8.29218916e-02, 3.65079476e-01, 1.43317379e+00, 4.95480438e-01,\n",
       "       5.48345932e-01, 5.24430122e+01, 1.75713360e+00, 1.80488654e-01,\n",
       "       4.36125989e-01, 6.03370282e-01, 5.77749380e-02, 9.09551769e-01,\n",
       "       8.93517065e-01, 5.75352648e-01, 4.01318226e-01, 5.79502665e-02,\n",
       "       2.48840288e+00, 7.52566640e-02, 2.94142009e-01, 1.07526008e+00,\n",
       "       7.82275857e-01, 1.66194795e-01, 1.61572794e+00, 7.08496038e-01,\n",
       "       8.44974040e-01, 3.57749947e-01, 4.62352258e-02, 1.81045796e-01,\n",
       "       5.43170242e-01, 4.92973870e-02, 8.28855057e-01, 8.74191283e-01,\n",
       "       4.37714196e-01, 1.21634312e-01, 1.00840647e+00, 1.66836963e+00,\n",
       "       5.07262024e-01, 6.60520679e-02, 4.91612035e-02])"
      ]
     },
     "execution_count": 52,
     "metadata": {},
     "output_type": "execute_result"
    }
   ],
   "source": [
    "Pxx_den"
   ]
  },
  {
   "cell_type": "code",
   "execution_count": 55,
   "id": "seventh-decline",
   "metadata": {},
   "outputs": [
    {
     "data": {
      "image/png": "[encoded data removed]",
      "text/plain": [
       "<Figure size 432x288 with 1 Axes>"
      ]
     },
     "metadata": {
      "needs_background": "light"
     },
     "output_type": "display_data"
    }
   ],
   "source": [
    "plt.plot(f[:len(Pxx_den)//2], np.abs(Pxx_den[:len(Pxx_den)//2])/len(Pxx_den));\n",
    "plt.xlabel('frequency (1/yr)')\n",
    "plt.ylabel('amplitude');"
   ]
  },
  {
   "cell_type": "code",
   "execution_count": 51,
   "id": "reasonable-fiction",
   "metadata": {},
   "outputs": [
    {
     "data": {
      "text/plain": [
       "0.08333333333333334"
      ]
     },
     "execution_count": 51,
     "metadata": {},
     "output_type": "execute_result"
    }
   ],
   "source": [
    "f[Pxx_den.argmax()]"
   ]
  },
  {
   "cell_type": "code",
   "execution_count": null,
   "id": "flying-input",
   "metadata": {},
   "outputs": [],
   "source": [
    "len(co2_vector)/2"
   ]
  },
  {
   "cell_type": "code",
   "execution_count": null,
   "id": "plastic-little",
   "metadata": {},
   "outputs": [],
   "source": [
    "len(f)"
   ]
  },
  {
   "cell_type": "code",
   "execution_count": null,
   "id": "challenging-hypothetical",
   "metadata": {},
   "outputs": [],
   "source": [
    "len(Pxx_den)"
   ]
  },
  {
   "cell_type": "code",
   "execution_count": null,
   "id": "derived-liquid",
   "metadata": {},
   "outputs": [],
   "source": [
    "Pxx_den[0:20]"
   ]
  },
  {
   "cell_type": "code",
   "execution_count": 16,
   "id": "egyptian-albuquerque",
   "metadata": {},
   "outputs": [
    {
     "data": {
      "text/plain": [
       "11"
      ]
     },
     "execution_count": 16,
     "metadata": {},
     "output_type": "execute_result"
    }
   ],
   "source": [
    "np.where(Pxx_den == Pxx_den.max())[0][0]"
   ]
  },
  {
   "cell_type": "code",
   "execution_count": 57,
   "id": "overall-excerpt",
   "metadata": {},
   "outputs": [
    {
     "data": {
      "text/plain": [
       "11.999999999999998"
      ]
     },
     "execution_count": 57,
     "metadata": {},
     "output_type": "execute_result"
    }
   ],
   "source": [
    "# Periodicity\n",
    "1/0.08333333333333334"
   ]
  },
  {
   "cell_type": "markdown",
   "id": "pregnant-wound",
   "metadata": {},
   "source": [
    "### (2) Linear de-trending is not performed"
   ]
  },
  {
   "cell_type": "code",
   "execution_count": null,
   "id": "refined-albany",
   "metadata": {},
   "outputs": [],
   "source": [
    "f_no_trend, Pxx_den_no_trend = signal.periodogram(x=co2_vector)"
   ]
  },
  {
   "cell_type": "code",
   "execution_count": null,
   "id": "present-curve",
   "metadata": {},
   "outputs": [],
   "source": [
    "np.where(Pxx_den_no_trend == Pxx_den_no_trend.max())[0][0]"
   ]
  },
  {
   "cell_type": "code",
   "execution_count": null,
   "id": "rental-belize",
   "metadata": {},
   "outputs": [],
   "source": [
    "1/f[1]"
   ]
  },
  {
   "cell_type": "code",
   "execution_count": null,
   "id": "weighted-latvia",
   "metadata": {},
   "outputs": [],
   "source": []
  }
 ],
 "metadata": {
  "kernelspec": {
   "display_name": "Python 3 (ipykernel)",
   "language": "python",
   "name": "python3"
  },
  "language_info": {
   "codemirror_mode": {
    "name": "ipython",
    "version": 3
   },
   "file_extension": ".py",
   "mimetype": "text/x-python",
   "name": "python",
   "nbconvert_exporter": "python",
   "pygments_lexer": "ipython3",
   "version": "3.8.10"
  }
 },
 "nbformat": 4,
 "nbformat_minor": 5
}
