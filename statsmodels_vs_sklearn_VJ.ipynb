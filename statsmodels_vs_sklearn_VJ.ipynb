{
 "cells": [
  {
   "cell_type": "code",
   "execution_count": 1,
   "id": "entertaining-productivity",
   "metadata": {},
   "outputs": [],
   "source": [
    "import numpy as np\n",
    "import pandas as pd\n",
    "from sklearn import linear_model\n",
    "import statsmodels.api as sm\n",
    "from statsmodels.sandbox.regression.predstd import wls_prediction_std"
   ]
  },
  {
   "cell_type": "markdown",
   "id": "structural-people",
   "metadata": {},
   "source": [
    "### Model Development Using StatsModels APIs"
   ]
  },
  {
   "cell_type": "code",
   "execution_count": 2,
   "id": "juvenile-protest",
   "metadata": {},
   "outputs": [],
   "source": [
    "# Understanding the use of bias in linear models implemented in statsmodels.api\n",
    "duncan_prestige = sm.datasets.get_rdataset(\"Duncan\", \"carData\")\n",
    "Y = duncan_prestige.data['income']\n",
    "X = duncan_prestige.data['education']"
   ]
  },
  {
   "cell_type": "code",
   "execution_count": 3,
   "id": "second-shanghai",
   "metadata": {
    "scrolled": true
   },
   "outputs": [
    {
     "data": {
      "text/html": [
       "<div>\n",
       "<style scoped>\n",
       "    .dataframe tbody tr th:only-of-type {\n",
       "        vertical-align: middle;\n",
       "    }\n",
       "\n",
       "    .dataframe tbody tr th {\n",
       "        vertical-align: top;\n",
       "    }\n",
       "\n",
       "    .dataframe thead th {\n",
       "        text-align: right;\n",
       "    }\n",
       "</style>\n",
       "<table border=\"1\" class=\"dataframe\">\n",
       "  <thead>\n",
       "    <tr style=\"text-align: right;\">\n",
       "      <th></th>\n",
       "      <th>type</th>\n",
       "      <th>income</th>\n",
       "      <th>education</th>\n",
       "      <th>prestige</th>\n",
       "    </tr>\n",
       "  </thead>\n",
       "  <tbody>\n",
       "    <tr>\n",
       "      <th>accountant</th>\n",
       "      <td>prof</td>\n",
       "      <td>62</td>\n",
       "      <td>86</td>\n",
       "      <td>82</td>\n",
       "    </tr>\n",
       "    <tr>\n",
       "      <th>pilot</th>\n",
       "      <td>prof</td>\n",
       "      <td>72</td>\n",
       "      <td>76</td>\n",
       "      <td>83</td>\n",
       "    </tr>\n",
       "    <tr>\n",
       "      <th>architect</th>\n",
       "      <td>prof</td>\n",
       "      <td>75</td>\n",
       "      <td>92</td>\n",
       "      <td>90</td>\n",
       "    </tr>\n",
       "    <tr>\n",
       "      <th>author</th>\n",
       "      <td>prof</td>\n",
       "      <td>55</td>\n",
       "      <td>90</td>\n",
       "      <td>76</td>\n",
       "    </tr>\n",
       "    <tr>\n",
       "      <th>chemist</th>\n",
       "      <td>prof</td>\n",
       "      <td>64</td>\n",
       "      <td>86</td>\n",
       "      <td>90</td>\n",
       "    </tr>\n",
       "  </tbody>\n",
       "</table>\n",
       "</div>"
      ],
      "text/plain": [
       "            type  income  education  prestige\n",
       "accountant  prof      62         86        82\n",
       "pilot       prof      72         76        83\n",
       "architect   prof      75         92        90\n",
       "author      prof      55         90        76\n",
       "chemist     prof      64         86        90"
      ]
     },
     "execution_count": 3,
     "metadata": {},
     "output_type": "execute_result"
    }
   ],
   "source": [
    "duncan_prestige.data.head()"
   ]
  },
  {
   "cell_type": "code",
   "execution_count": 4,
   "id": "treated-minimum",
   "metadata": {},
   "outputs": [],
   "source": [
    "duncan_prestige.data.to_csv('Duncan_Data_Set.csv')"
   ]
  },
  {
   "cell_type": "code",
   "execution_count": 5,
   "id": "western-boston",
   "metadata": {},
   "outputs": [
    {
     "name": "stderr",
     "output_type": "stream",
     "text": [
      "/home/aumaron/Desktop/other_projects/venv/lib/python3.7/site-packages/numpy/core/fromnumeric.py:2580: FutureWarning: Method .ptp is deprecated and will be removed in a future version. Use numpy.ptp instead.\n",
      "  return ptp(axis=axis, out=out, **kwargs)\n"
     ]
    },
    {
     "data": {
      "text/html": [
       "<div>\n",
       "<style scoped>\n",
       "    .dataframe tbody tr th:only-of-type {\n",
       "        vertical-align: middle;\n",
       "    }\n",
       "\n",
       "    .dataframe tbody tr th {\n",
       "        vertical-align: top;\n",
       "    }\n",
       "\n",
       "    .dataframe thead th {\n",
       "        text-align: right;\n",
       "    }\n",
       "</style>\n",
       "<table border=\"1\" class=\"dataframe\">\n",
       "  <thead>\n",
       "    <tr style=\"text-align: right;\">\n",
       "      <th></th>\n",
       "      <th>const</th>\n",
       "      <th>education</th>\n",
       "    </tr>\n",
       "  </thead>\n",
       "  <tbody>\n",
       "    <tr>\n",
       "      <th>accountant</th>\n",
       "      <td>1.0</td>\n",
       "      <td>86</td>\n",
       "    </tr>\n",
       "    <tr>\n",
       "      <th>pilot</th>\n",
       "      <td>1.0</td>\n",
       "      <td>76</td>\n",
       "    </tr>\n",
       "    <tr>\n",
       "      <th>architect</th>\n",
       "      <td>1.0</td>\n",
       "      <td>92</td>\n",
       "    </tr>\n",
       "    <tr>\n",
       "      <th>author</th>\n",
       "      <td>1.0</td>\n",
       "      <td>90</td>\n",
       "    </tr>\n",
       "    <tr>\n",
       "      <th>chemist</th>\n",
       "      <td>1.0</td>\n",
       "      <td>86</td>\n",
       "    </tr>\n",
       "  </tbody>\n",
       "</table>\n",
       "</div>"
      ],
      "text/plain": [
       "            const  education\n",
       "accountant    1.0         86\n",
       "pilot         1.0         76\n",
       "architect     1.0         92\n",
       "author        1.0         90\n",
       "chemist       1.0         86"
      ]
     },
     "execution_count": 5,
     "metadata": {},
     "output_type": "execute_result"
    }
   ],
   "source": [
    "X = sm.add_constant(X)\n",
    "X.head()"
   ]
  },
  {
   "cell_type": "code",
   "execution_count": 6,
   "id": "reflected-mexico",
   "metadata": {},
   "outputs": [
    {
     "data": {
      "text/html": [
       "<table class=\"simpletable\">\n",
       "<caption>OLS Regression Results</caption>\n",
       "<tr>\n",
       "  <th>Dep. Variable:</th>         <td>income</td>      <th>  R-squared:         </th> <td>   0.525</td>\n",
       "</tr>\n",
       "<tr>\n",
       "  <th>Model:</th>                   <td>OLS</td>       <th>  Adj. R-squared:    </th> <td>   0.514</td>\n",
       "</tr>\n",
       "<tr>\n",
       "  <th>Method:</th>             <td>Least Squares</td>  <th>  F-statistic:       </th> <td>   47.51</td>\n",
       "</tr>\n",
       "<tr>\n",
       "  <th>Date:</th>             <td>Mon, 03 May 2021</td> <th>  Prob (F-statistic):</th> <td>1.84e-08</td>\n",
       "</tr>\n",
       "<tr>\n",
       "  <th>Time:</th>                 <td>14:41:16</td>     <th>  Log-Likelihood:    </th> <td> -190.42</td>\n",
       "</tr>\n",
       "<tr>\n",
       "  <th>No. Observations:</th>      <td>    45</td>      <th>  AIC:               </th> <td>   384.8</td>\n",
       "</tr>\n",
       "<tr>\n",
       "  <th>Df Residuals:</th>          <td>    43</td>      <th>  BIC:               </th> <td>   388.5</td>\n",
       "</tr>\n",
       "<tr>\n",
       "  <th>Df Model:</th>              <td>     1</td>      <th>                     </th>     <td> </td>   \n",
       "</tr>\n",
       "<tr>\n",
       "  <th>Covariance Type:</th>      <td>nonrobust</td>    <th>                     </th>     <td> </td>   \n",
       "</tr>\n",
       "</table>\n",
       "<table class=\"simpletable\">\n",
       "<tr>\n",
       "      <td></td>         <th>coef</th>     <th>std err</th>      <th>t</th>      <th>P>|t|</th>  <th>[0.025</th>    <th>0.975]</th>  \n",
       "</tr>\n",
       "<tr>\n",
       "  <th>const</th>     <td>   10.6035</td> <td>    5.198</td> <td>    2.040</td> <td> 0.048</td> <td>    0.120</td> <td>   21.087</td>\n",
       "</tr>\n",
       "<tr>\n",
       "  <th>education</th> <td>    0.5949</td> <td>    0.086</td> <td>    6.893</td> <td> 0.000</td> <td>    0.421</td> <td>    0.769</td>\n",
       "</tr>\n",
       "</table>\n",
       "<table class=\"simpletable\">\n",
       "<tr>\n",
       "  <th>Omnibus:</th>       <td> 9.841</td> <th>  Durbin-Watson:     </th> <td>   1.736</td>\n",
       "</tr>\n",
       "<tr>\n",
       "  <th>Prob(Omnibus):</th> <td> 0.007</td> <th>  Jarque-Bera (JB):  </th> <td>  10.609</td>\n",
       "</tr>\n",
       "<tr>\n",
       "  <th>Skew:</th>          <td> 0.776</td> <th>  Prob(JB):          </th> <td> 0.00497</td>\n",
       "</tr>\n",
       "<tr>\n",
       "  <th>Kurtosis:</th>      <td> 4.802</td> <th>  Cond. No.          </th> <td>    123.</td>\n",
       "</tr>\n",
       "</table><br/><br/>Notes:<br/>[1] Standard Errors assume that the covariance matrix of the errors is correctly specified."
      ],
      "text/plain": [
       "<class 'statsmodels.iolib.summary.Summary'>\n",
       "\"\"\"\n",
       "                            OLS Regression Results                            \n",
       "==============================================================================\n",
       "Dep. Variable:                 income   R-squared:                       0.525\n",
       "Model:                            OLS   Adj. R-squared:                  0.514\n",
       "Method:                 Least Squares   F-statistic:                     47.51\n",
       "Date:                Mon, 03 May 2021   Prob (F-statistic):           1.84e-08\n",
       "Time:                        14:41:16   Log-Likelihood:                -190.42\n",
       "No. Observations:                  45   AIC:                             384.8\n",
       "Df Residuals:                      43   BIC:                             388.5\n",
       "Df Model:                           1                                         \n",
       "Covariance Type:            nonrobust                                         \n",
       "==============================================================================\n",
       "                 coef    std err          t      P>|t|      [0.025      0.975]\n",
       "------------------------------------------------------------------------------\n",
       "const         10.6035      5.198      2.040      0.048       0.120      21.087\n",
       "education      0.5949      0.086      6.893      0.000       0.421       0.769\n",
       "==============================================================================\n",
       "Omnibus:                        9.841   Durbin-Watson:                   1.736\n",
       "Prob(Omnibus):                  0.007   Jarque-Bera (JB):               10.609\n",
       "Skew:                           0.776   Prob(JB):                      0.00497\n",
       "Kurtosis:                       4.802   Cond. No.                         123.\n",
       "==============================================================================\n",
       "\n",
       "Notes:\n",
       "[1] Standard Errors assume that the covariance matrix of the errors is correctly specified.\n",
       "\"\"\""
      ]
     },
     "execution_count": 6,
     "metadata": {},
     "output_type": "execute_result"
    }
   ],
   "source": [
    "# hasconst=None\n",
    "model = sm.OLS(Y,X)\n",
    "results = model.fit()\n",
    "results.summary()"
   ]
  },
  {
   "cell_type": "code",
   "execution_count": 7,
   "id": "alpine-heath",
   "metadata": {},
   "outputs": [],
   "source": [
    "# hasconst=True (same result as that obtained using hasconst=None)\n",
    "# model_true = sm.OLS(Y, X, hasconst=True)\n",
    "# results_true = model.fit()\n",
    "# results_true.summary()"
   ]
  },
  {
   "cell_type": "code",
   "execution_count": 8,
   "id": "responsible-kingston",
   "metadata": {},
   "outputs": [],
   "source": [
    "# hasconst=False (same result as that obtained using hasconst=None)\n",
    "# model_false = sm.OLS(Y, X, hasconst=False)\n",
    "# results_false = model.fit()\n",
    "# results_false.summary()"
   ]
  },
  {
   "cell_type": "code",
   "execution_count": 7,
   "id": "spare-export",
   "metadata": {},
   "outputs": [],
   "source": [
    "# Regularized regression\n",
    "model = sm.OLS(Y,X)\n",
    "temp = model.fit() #Step needed to populate 'normalized_cov_params'"
   ]
  },
  {
   "cell_type": "code",
   "execution_count": 8,
   "id": "european-projection",
   "metadata": {},
   "outputs": [
    {
     "data": {
      "text/plain": [
       "array([[ 9.30974511e-02, -1.34857729e-03],\n",
       "       [-1.34857729e-03,  2.56600331e-05]])"
      ]
     },
     "execution_count": 8,
     "metadata": {},
     "output_type": "execute_result"
    }
   ],
   "source": [
    "model.normalized_cov_params"
   ]
  },
  {
   "cell_type": "code",
   "execution_count": 9,
   "id": "logical-primary",
   "metadata": {},
   "outputs": [
    {
     "data": {
      "text/plain": [
       "const        6.474853\n",
       "education    0.654390\n",
       "dtype: float64"
      ]
     },
     "execution_count": 9,
     "metadata": {},
     "output_type": "execute_result"
    }
   ],
   "source": [
    "# hasconst=None, regularized regression (lasso)\n",
    "results_lasso = model.fit_regularized(method='elastic_net', alpha=1, L1_wt=1.0)\n",
    "results_lasso.params"
   ]
  },
  {
   "cell_type": "code",
   "execution_count": 10,
   "id": "broad-seattle",
   "metadata": {},
   "outputs": [
    {
     "data": {
      "text/html": [
       "<table class=\"simpletable\">\n",
       "<caption>OLS Regression Results</caption>\n",
       "<tr>\n",
       "  <th>Dep. Variable:</th>         <td>income</td>      <th>  R-squared:         </th> <td>   0.518</td>\n",
       "</tr>\n",
       "<tr>\n",
       "  <th>Model:</th>                   <td>OLS</td>       <th>  Adj. R-squared:    </th> <td>   0.507</td>\n",
       "</tr>\n",
       "<tr>\n",
       "  <th>Method:</th>             <td>Least Squares</td>  <th>  F-statistic:       </th> <td>   46.20</td>\n",
       "</tr>\n",
       "<tr>\n",
       "  <th>Date:</th>             <td>Mon, 03 May 2021</td> <th>  Prob (F-statistic):</th> <td>2.53e-08</td>\n",
       "</tr>\n",
       "<tr>\n",
       "  <th>Time:</th>                 <td>14:41:56</td>     <th>  Log-Likelihood:    </th> <td> -190.75</td>\n",
       "</tr>\n",
       "<tr>\n",
       "  <th>No. Observations:</th>      <td>    45</td>      <th>  AIC:               </th> <td>   385.5</td>\n",
       "</tr>\n",
       "<tr>\n",
       "  <th>Df Residuals:</th>          <td>    43</td>      <th>  BIC:               </th> <td>   389.1</td>\n",
       "</tr>\n",
       "<tr>\n",
       "  <th>Df Model:</th>              <td>     1</td>      <th>                     </th>     <td> </td>   \n",
       "</tr>\n",
       "<tr>\n",
       "  <th>Covariance Type:</th>      <td>nonrobust</td>    <th>                     </th>     <td> </td>   \n",
       "</tr>\n",
       "</table>\n",
       "<table class=\"simpletable\">\n",
       "<tr>\n",
       "      <td></td>         <th>coef</th>     <th>std err</th>      <th>t</th>      <th>P>|t|</th>  <th>[0.025</th>    <th>0.975]</th>  \n",
       "</tr>\n",
       "<tr>\n",
       "  <th>const</th>     <td>    6.4749</td> <td>    5.236</td> <td>    1.237</td> <td> 0.223</td> <td>   -4.085</td> <td>   17.035</td>\n",
       "</tr>\n",
       "<tr>\n",
       "  <th>education</th> <td>    0.6544</td> <td>    0.087</td> <td>    7.528</td> <td> 0.000</td> <td>    0.479</td> <td>    0.830</td>\n",
       "</tr>\n",
       "</table>\n",
       "<table class=\"simpletable\">\n",
       "<tr>\n",
       "  <th>Omnibus:</th>       <td>11.455</td> <th>  Durbin-Watson:     </th> <td>   1.726</td>\n",
       "</tr>\n",
       "<tr>\n",
       "  <th>Prob(Omnibus):</th> <td> 0.003</td> <th>  Jarque-Bera (JB):  </th> <td>  14.359</td>\n",
       "</tr>\n",
       "<tr>\n",
       "  <th>Skew:</th>          <td> 0.810</td> <th>  Prob(JB):          </th> <td>0.000762</td>\n",
       "</tr>\n",
       "<tr>\n",
       "  <th>Kurtosis:</th>      <td> 5.244</td> <th>  Cond. No.          </th> <td>    123.</td>\n",
       "</tr>\n",
       "</table><br/><br/>Notes:<br/>[1] Standard Errors assume that the covariance matrix of the errors is correctly specified."
      ],
      "text/plain": [
       "<class 'statsmodels.iolib.summary.Summary'>\n",
       "\"\"\"\n",
       "                            OLS Regression Results                            \n",
       "==============================================================================\n",
       "Dep. Variable:                 income   R-squared:                       0.518\n",
       "Model:                            OLS   Adj. R-squared:                  0.507\n",
       "Method:                 Least Squares   F-statistic:                     46.20\n",
       "Date:                Mon, 03 May 2021   Prob (F-statistic):           2.53e-08\n",
       "Time:                        14:41:56   Log-Likelihood:                -190.75\n",
       "No. Observations:                  45   AIC:                             385.5\n",
       "Df Residuals:                      43   BIC:                             389.1\n",
       "Df Model:                           1                                         \n",
       "Covariance Type:            nonrobust                                         \n",
       "==============================================================================\n",
       "                 coef    std err          t      P>|t|      [0.025      0.975]\n",
       "------------------------------------------------------------------------------\n",
       "const          6.4749      5.236      1.237      0.223      -4.085      17.035\n",
       "education      0.6544      0.087      7.528      0.000       0.479       0.830\n",
       "==============================================================================\n",
       "Omnibus:                       11.455   Durbin-Watson:                   1.726\n",
       "Prob(Omnibus):                  0.003   Jarque-Bera (JB):               14.359\n",
       "Skew:                           0.810   Prob(JB):                     0.000762\n",
       "Kurtosis:                       5.244   Cond. No.                         123.\n",
       "==============================================================================\n",
       "\n",
       "Notes:\n",
       "[1] Standard Errors assume that the covariance matrix of the errors is correctly specified.\n",
       "\"\"\""
      ]
     },
     "execution_count": 10,
     "metadata": {},
     "output_type": "execute_result"
    }
   ],
   "source": [
    "# Step needed to generate output in the same format as that for OLS\n",
    "results_lasso_format = sm.regression.linear_model.OLSResults(model, \n",
    "                                               results_lasso.params,        #Value populated using regularized regression\n",
    "                                               model.normalized_cov_params) #Value populated using OLS\n",
    "results_lasso_format.summary()"
   ]
  },
  {
   "cell_type": "markdown",
   "id": "rolled-indicator",
   "metadata": {},
   "source": [
    "### Compare the results obtained using sklearn"
   ]
  },
  {
   "cell_type": "code",
   "execution_count": 11,
   "id": "wicked-ridge",
   "metadata": {},
   "outputs": [
    {
     "name": "stdout",
     "output_type": "stream",
     "text": [
      "[10.60349832  0.59485944]\n",
      "0.0\n"
     ]
    }
   ],
   "source": [
    "# Linear regression with no penalty\n",
    "lm_sk = linear_model.LinearRegression(fit_intercept=False) #X already includes the intercept column\n",
    "lm_sk.fit(X, Y)\n",
    "print(lm_sk.coef_)\n",
    "print(lm_sk.intercept_)"
   ]
  },
  {
   "cell_type": "code",
   "execution_count": 12,
   "id": "turned-texas",
   "metadata": {},
   "outputs": [
    {
     "name": "stdout",
     "output_type": "stream",
     "text": [
      "[6.47667182 0.65436359]\n",
      "0.0\n"
     ]
    }
   ],
   "source": [
    "#Linear regression with lasso penalty\n",
    "lm_lasso_sk = linear_model.Lasso(alpha=1, fit_intercept=False)\n",
    "lm_lasso_sk.fit(X, Y)\n",
    "print(lm_lasso_sk.coef_)\n",
    "print(lm_lasso_sk.intercept_)"
   ]
  },
  {
   "cell_type": "markdown",
   "id": "adolescent-settlement",
   "metadata": {},
   "source": [
    "### Compare the LASSO results for different values of alpha"
   ]
  },
  {
   "cell_type": "code",
   "execution_count": 13,
   "id": "geographic-afternoon",
   "metadata": {},
   "outputs": [],
   "source": [
    "model = sm.OLS(Y, X)\n",
    "temp = model.fit() #Step needed to populate 'normalized_cov_params'"
   ]
  },
  {
   "cell_type": "code",
   "execution_count": 14,
   "id": "charming-canadian",
   "metadata": {},
   "outputs": [
    {
     "name": "stdout",
     "output_type": "stream",
     "text": [
      "const        4.410506\n",
      "education    0.684156\n",
      "dtype: float64\n",
      "[4.41158416 0.68413992]\n"
     ]
    }
   ],
   "source": [
    "current_val_alpha = 1.5\n",
    "\n",
    "# Lasso using statsmodels\n",
    "results_lasso = model.fit_regularized(method='elastic_net', alpha=current_val_alpha, L1_wt=1.0)\n",
    "print(results_lasso.params)\n",
    "\n",
    "# Lasso using sklearn\n",
    "lm_lasso_sk = linear_model.Lasso(alpha=current_val_alpha, fit_intercept=False)\n",
    "lm_lasso_sk.fit(X, Y)\n",
    "print(lm_lasso_sk.coef_)"
   ]
  },
  {
   "cell_type": "code",
   "execution_count": 15,
   "id": "completed-advantage",
   "metadata": {},
   "outputs": [
    {
     "name": "stdout",
     "output_type": "stream",
     "text": [
      "const        0.281811\n",
      "education    0.743687\n",
      "dtype: float64\n",
      "[0.28193285 0.74368498]\n"
     ]
    }
   ],
   "source": [
    "current_val_alpha = 2.5\n",
    "\n",
    "# Lasso using statsmodels\n",
    "results_lasso = model.fit_regularized(method='elastic_net', alpha=current_val_alpha, L1_wt=1.0)\n",
    "print(results_lasso.params)\n",
    "\n",
    "# Lasso using sklearn\n",
    "lm_lasso_sk = linear_model.Lasso(alpha=current_val_alpha, fit_intercept=False)\n",
    "lm_lasso_sk.fit(X, Y)\n",
    "print(lm_lasso_sk.coef_)"
   ]
  },
  {
   "cell_type": "code",
   "execution_count": 16,
   "id": "demanding-advantage",
   "metadata": {},
   "outputs": [
    {
     "name": "stdout",
     "output_type": "stream",
     "text": [
      "const        0.00000\n",
      "education    0.74708\n",
      "dtype: float64\n",
      "[0.        0.7470799]\n"
     ]
    }
   ],
   "source": [
    "current_val_alpha = 5\n",
    "\n",
    "# Lasso using statsmodels\n",
    "results_lasso = model.fit_regularized(method='elastic_net', alpha=current_val_alpha, L1_wt=1.0)\n",
    "print(results_lasso.params)\n",
    "\n",
    "# Lasso using sklearn\n",
    "lm_lasso_sk = linear_model.Lasso(alpha=current_val_alpha, fit_intercept=False)\n",
    "lm_lasso_sk.fit(X, Y)\n",
    "print(lm_lasso_sk.coef_)"
   ]
  },
  {
   "cell_type": "markdown",
   "id": "revolutionary-accused",
   "metadata": {},
   "source": [
    "### Predicted Values"
   ]
  },
  {
   "cell_type": "code",
   "execution_count": 17,
   "id": "hawaiian-expense",
   "metadata": {},
   "outputs": [
    {
     "data": {
      "text/plain": [
       "accountant    64.248871\n",
       "pilot         56.778072\n",
       "dtype: float64"
      ]
     },
     "execution_count": 17,
     "metadata": {},
     "output_type": "execute_result"
    }
   ],
   "source": [
    "results_lasso.predict(X.iloc[0:2, :])"
   ]
  },
  {
   "cell_type": "code",
   "execution_count": 18,
   "id": "medieval-buying",
   "metadata": {},
   "outputs": [
    {
     "name": "stdout",
     "output_type": "stream",
     "text": [
      "accountant    61.761410\n",
      "pilot         55.812816\n",
      "dtype: float64\n"
     ]
    }
   ],
   "source": [
    "# Obtain 95% confidence interval for the predicted values\n",
    "# Only feasible for non-regularized models\n",
    "print(temp.predict(X.iloc[0:2, :]))\n",
    "prstd, iv_l, iv_u = wls_prediction_std(temp, X.iloc[0:2, :])"
   ]
  },
  {
   "cell_type": "code",
   "execution_count": 19,
   "id": "written-holocaust",
   "metadata": {},
   "outputs": [
    {
     "data": {
      "text/plain": [
       "array([26.53931647, 20.83620125])"
      ]
     },
     "execution_count": 19,
     "metadata": {},
     "output_type": "execute_result"
    }
   ],
   "source": [
    "iv_l"
   ]
  },
  {
   "cell_type": "code",
   "execution_count": 20,
   "id": "enhanced-conservation",
   "metadata": {},
   "outputs": [
    {
     "data": {
      "text/plain": [
       "array([96.98350385, 90.78943027])"
      ]
     },
     "execution_count": 20,
     "metadata": {},
     "output_type": "execute_result"
    }
   ],
   "source": [
    "iv_u"
   ]
  },
  {
   "cell_type": "code",
   "execution_count": 21,
   "id": "relative-adelaide",
   "metadata": {},
   "outputs": [
    {
     "data": {
      "text/html": [
       "<div>\n",
       "<style scoped>\n",
       "    .dataframe tbody tr th:only-of-type {\n",
       "        vertical-align: middle;\n",
       "    }\n",
       "\n",
       "    .dataframe tbody tr th {\n",
       "        vertical-align: top;\n",
       "    }\n",
       "\n",
       "    .dataframe thead th {\n",
       "        text-align: right;\n",
       "    }\n",
       "</style>\n",
       "<table border=\"1\" class=\"dataframe\">\n",
       "  <thead>\n",
       "    <tr style=\"text-align: right;\">\n",
       "      <th></th>\n",
       "      <th>Lower</th>\n",
       "      <th>Upper</th>\n",
       "    </tr>\n",
       "  </thead>\n",
       "  <tbody>\n",
       "    <tr>\n",
       "      <th>0</th>\n",
       "      <td>26.539316</td>\n",
       "      <td>96.983504</td>\n",
       "    </tr>\n",
       "    <tr>\n",
       "      <th>1</th>\n",
       "      <td>20.836201</td>\n",
       "      <td>90.789430</td>\n",
       "    </tr>\n",
       "  </tbody>\n",
       "</table>\n",
       "</div>"
      ],
      "text/plain": [
       "       Lower      Upper\n",
       "0  26.539316  96.983504\n",
       "1  20.836201  90.789430"
      ]
     },
     "execution_count": 21,
     "metadata": {},
     "output_type": "execute_result"
    }
   ],
   "source": [
    "conf_int = pd.DataFrame(data=np.hstack([iv_l[:, None], iv_u[:, None]])\n",
    "                        , columns=['Lower', 'Upper'])\n",
    "conf_int"
   ]
  },
  {
   "cell_type": "markdown",
   "id": "empirical-buffalo",
   "metadata": {},
   "source": [
    "### Compare the result with that obtained using glmnet in R"
   ]
  },
  {
   "cell_type": "code",
   "execution_count": 22,
   "id": "jewish-sapphire",
   "metadata": {},
   "outputs": [
    {
     "name": "stdout",
     "output_type": "stream",
     "text": [
      "            education  prestige\n",
      "accountant         86        82\n",
      "pilot              76        83\n",
      "architect          92        90\n",
      "author             90        76\n",
      "chemist            86        90\n"
     ]
    },
    {
     "name": "stderr",
     "output_type": "stream",
     "text": [
      "/home/aumaron/Desktop/other_projects/venv/lib/python3.7/site-packages/numpy/core/fromnumeric.py:2580: FutureWarning: Method .ptp is deprecated and will be removed in a future version. Use numpy.ptp instead.\n",
      "  return ptp(axis=axis, out=out, **kwargs)\n"
     ]
    },
    {
     "data": {
      "text/html": [
       "<div>\n",
       "<style scoped>\n",
       "    .dataframe tbody tr th:only-of-type {\n",
       "        vertical-align: middle;\n",
       "    }\n",
       "\n",
       "    .dataframe tbody tr th {\n",
       "        vertical-align: top;\n",
       "    }\n",
       "\n",
       "    .dataframe thead th {\n",
       "        text-align: right;\n",
       "    }\n",
       "</style>\n",
       "<table border=\"1\" class=\"dataframe\">\n",
       "  <thead>\n",
       "    <tr style=\"text-align: right;\">\n",
       "      <th></th>\n",
       "      <th>const</th>\n",
       "      <th>education</th>\n",
       "      <th>prestige</th>\n",
       "    </tr>\n",
       "  </thead>\n",
       "  <tbody>\n",
       "    <tr>\n",
       "      <th>accountant</th>\n",
       "      <td>1.0</td>\n",
       "      <td>86</td>\n",
       "      <td>82</td>\n",
       "    </tr>\n",
       "    <tr>\n",
       "      <th>pilot</th>\n",
       "      <td>1.0</td>\n",
       "      <td>76</td>\n",
       "      <td>83</td>\n",
       "    </tr>\n",
       "    <tr>\n",
       "      <th>architect</th>\n",
       "      <td>1.0</td>\n",
       "      <td>92</td>\n",
       "      <td>90</td>\n",
       "    </tr>\n",
       "    <tr>\n",
       "      <th>author</th>\n",
       "      <td>1.0</td>\n",
       "      <td>90</td>\n",
       "      <td>76</td>\n",
       "    </tr>\n",
       "    <tr>\n",
       "      <th>chemist</th>\n",
       "      <td>1.0</td>\n",
       "      <td>86</td>\n",
       "      <td>90</td>\n",
       "    </tr>\n",
       "  </tbody>\n",
       "</table>\n",
       "</div>"
      ],
      "text/plain": [
       "            const  education  prestige\n",
       "accountant    1.0         86        82\n",
       "pilot         1.0         76        83\n",
       "architect     1.0         92        90\n",
       "author        1.0         90        76\n",
       "chemist       1.0         86        90"
      ]
     },
     "execution_count": 22,
     "metadata": {},
     "output_type": "execute_result"
    }
   ],
   "source": [
    "X_new = duncan_prestige.data[['education', 'prestige']]\n",
    "print(X_new.head())\n",
    "\n",
    "X_new = sm.add_constant(X_new)\n",
    "X_new.head()"
   ]
  },
  {
   "cell_type": "code",
   "execution_count": 23,
   "id": "assigned-couple",
   "metadata": {},
   "outputs": [
    {
     "name": "stdout",
     "output_type": "stream",
     "text": [
      "const        6.068219\n",
      "education    0.102869\n",
      "prestige     0.615934\n",
      "dtype: float64\n"
     ]
    }
   ],
   "source": [
    "# Initial parameter estimates for lasso are NOT obtained using OLS\n",
    "model_r = sm.OLS(Y, X_new)\n",
    "current_val_alpha = 1\n",
    "results_lasso = model_r.fit_regularized(method='elastic_net', alpha=current_val_alpha, L1_wt=1.0)\n",
    "print(results_lasso.params)"
   ]
  },
  {
   "cell_type": "code",
   "execution_count": 24,
   "id": "immediate-coordinator",
   "metadata": {},
   "outputs": [
    {
     "name": "stdout",
     "output_type": "stream",
     "text": [
      "const        6.297060\n",
      "education    0.091185\n",
      "prestige     0.624407\n",
      "dtype: float64\n"
     ]
    }
   ],
   "source": [
    "# Initial parameter estimates for lasso are obtained using OLS\n",
    "model_r = sm.OLS(Y, X_new)\n",
    "temp = model_r.fit() \n",
    "\n",
    "current_val_alpha = 1\n",
    "results_lasso = model_r.fit_regularized(method='elastic_net', alpha=current_val_alpha, L1_wt=1.0\n",
    "                                        , start_params=temp.params)\n",
    "print(results_lasso.params)"
   ]
  },
  {
   "cell_type": "code",
   "execution_count": 25,
   "id": "logical-description",
   "metadata": {},
   "outputs": [
    {
     "name": "stdout",
     "output_type": "stream",
     "text": [
      "const        10.426361\n",
      "education     0.032263\n",
      "prestige      0.623724\n",
      "dtype: float64\n"
     ]
    }
   ],
   "source": [
    "# alpha=0 gives the same result as that obtained in R\n",
    "model_r = sm.OLS(Y, X_new)\n",
    "temp = model_r.fit() #Step needed to populate 'normalized_cov_params'\n",
    "\n",
    "results_lasso = model_r.fit_regularized(method='elastic_net', alpha=0, L1_wt=1.0\n",
    "                                        , start_params=temp.params)\n",
    "print(results_lasso.params)"
   ]
  },
  {
   "cell_type": "code",
   "execution_count": null,
   "id": "global-murder",
   "metadata": {},
   "outputs": [],
   "source": []
  }
 ],
 "metadata": {
  "kernelspec": {
   "display_name": "Python 3 (ipykernel)",
   "language": "python",
   "name": "python3"
  },
  "language_info": {
   "codemirror_mode": {
    "name": "ipython",
    "version": 3
   },
   "file_extension": ".py",
   "mimetype": "text/x-python",
   "name": "python",
   "nbconvert_exporter": "python",
   "pygments_lexer": "ipython3",
   "version": "3.8.10"
  }
 },
 "nbformat": 4,
 "nbformat_minor": 5
}
