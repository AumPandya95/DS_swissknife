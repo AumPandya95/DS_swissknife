{
 "cells": [
  {
   "cell_type": "code",
   "execution_count": 35,
   "id": "genetic-census",
   "metadata": {},
   "outputs": [
    {
     "data": {
      "text/plain": [
       "'1.2.1'"
      ]
     },
     "execution_count": 35,
     "metadata": {},
     "output_type": "execute_result"
    }
   ],
   "source": [
    "import pandas as pd\n",
    "import numpy as np\n",
    "pd.__version__"
   ]
  },
  {
   "cell_type": "code",
   "execution_count": 36,
   "id": "norwegian-sheet",
   "metadata": {},
   "outputs": [
    {
     "name": "stdout",
     "output_type": "stream",
     "text": [
      "Collecting pandas==0.25.3\n",
      "  Using cached pandas-0.25.3-cp37-cp37m-manylinux1_x86_64.whl (10.4 MB)\n",
      "Requirement already satisfied: python-dateutil>=2.6.1 in /home/aumaron/Desktop/other_projects/venv/lib/python3.7/site-packages (from pandas==0.25.3) (2.8.1)\n",
      "Requirement already satisfied: numpy>=1.13.3 in /home/aumaron/Desktop/other_projects/venv/lib/python3.7/site-packages (from pandas==0.25.3) (1.19.5)\n",
      "Requirement already satisfied: pytz>=2017.2 in /home/aumaron/Desktop/other_projects/venv/lib/python3.7/site-packages (from pandas==0.25.3) (2021.1)\n",
      "Requirement already satisfied: six>=1.5 in /home/aumaron/Desktop/other_projects/venv/lib/python3.7/site-packages (from python-dateutil>=2.6.1->pandas==0.25.3) (1.14.0)\n",
      "Installing collected packages: pandas\n",
      "  Attempting uninstall: pandas\n",
      "    Found existing installation: pandas 1.2.1\n",
      "    Uninstalling pandas-1.2.1:\n",
      "      Successfully uninstalled pandas-1.2.1\n",
      "Successfully installed pandas-0.25.3\n"
     ]
    }
   ],
   "source": [
    "!pip install pandas=='0.25.3'"
   ]
  },
  {
   "cell_type": "code",
   "execution_count": 42,
   "id": "pediatric-liechtenstein",
   "metadata": {},
   "outputs": [],
   "source": [
    "time_series_data = pd.Series([-4801437.19, 1761188.96, -270300.70999999996, -4178163.7100000004, 4632051.969999999, -5393208.649999999, 2760529.67, -605301.4799999995, 6734722.98, -8489289.790000001, -1354712.4900000002, 1119246.08, 5779055.780000001, -1029468.9600000009, 545920.9900000002, -2535959.6399999997, -160174.4400000004, -2419089.68, 3123979.57, 5516368.340000001, -5306687.28, 4233416.04, -3643162.9000000004, -1614264.71, 249987.98000000045, -2115163.0800000005, 10006138.940000001, -7530486.950000001, -2886445.2199999997, 656409.9900000002, 985029.4100000001, 688501.96, -3461456.43, 1063632.58, 6126332.859999999, -16725.179999999702, -1474098.08, -883147.6200000001, -3943669.89, 4752597.0, -1082448.7400000002, -4483958.37, 5842732.85, -290000.5599999996, -3788354.3200000003, 4173927.7300000004, -1504901.62, -1537969.83, 1123939.0499999998, 1496232.33, -1269915.9399999995, -2519750.0700000003, 7942998.859999999, -6714138.869999999, 549395.29, 639529.0499999998, -2206370.7800000003, 854682.1399999997, 5444558.3100000005, -5464422.07, -992120.8599999994, -711968.1900000004, 5361700.069999999, 1883912.6600000001, -4785280.72, -2733929.3899999997, 6619948.1899999995, -4853274.399999999, 680019.5300000003, 3607724.6999999993, -5002636.39, 341343.9799999995, 783869.6200000001, 6937342.510000001, -6280630.79, -1025991.25, 1159082.8899999997, 2114741.05, -5351795.24, 3288481.9999999995, -38557.87999999989, -3074268.4999999995, 2409442.52, -1300259.9300000006, 598342.9600000009, 505362.1199999992, -1525466.6499999994, 6343042.4799999995, -7390705.449999999, 3463364.4])"
   ]
  },
  {
   "cell_type": "code",
   "execution_count": 52,
   "id": "alpine-vessel",
   "metadata": {},
   "outputs": [
    {
     "name": "stdout",
     "output_type": "stream",
     "text": [
      "[-4801437.19, -1191992.8074999999, -821478.7085049833, -1927356.8612252478, -44328.985341072104, -1433617.794283731, -422996.7383469379, -464471.94564925705, 1101820.939622015, -912850.9982443772, -1003117.7768834172, -579073.3626350361, 668831.8820968807, 340255.92174894613, 379588.20777020464, -172787.10548015177, -170415.6475210844, -590608.942344259, 100025.17163665044, 1102939.0928370436, -79937.35468602793, 713912.3247032989, -86202.6818429657, -366300.467441823, -253500.62069164187, -593829.6961933856, 1342023.8598455505, -277035.600287305, -752886.6275706189, -496026.8700029551, -226207.59799688548, -59625.86131235196, -678964.5959893074, -361783.4419754448, 818925.7551779589, 666878.4131544861, 277377.71198230545, 66270.11566331188, -663101.018556033, 321893.0303190392, 66489.91828024178, -761045.2328244478, 439856.4990601735, 307135.79193970223, -437587.94767099543, 400951.59976333485, 54405.05438387266, -235136.64089327017, 11981.290243118268, 281856.96392376395, -293.69902411082086, -458390.13874911435, 1069171.8653243359, -346003.38311789825, -183201.00376709818, -33611.7511536417, -428663.10420840204, -195325.54807118903, 830115.2775773574, -314352.81284485344, -437583.9619317209, -487472.2004989765, 576017.1045967885, 813816.9254153359, -204203.03119698528, -664154.0925813165, 660230.0590728723, -342226.4852238661, -156363.39313334177, 528016.8031452554, -477557.15745634417, -328665.9624770657, -126386.67776311302, 1157928.1766357555, -194537.48345130088, -345710.9315311477, -72112.00161075887, 325497.70748616406, -706737.5084345888, 19666.116028939454, 9079.934008974687, -551528.9122007838, -13170.43853345003, -247186.72089406624, -93454.04562884477, 15421.624332626207, -264739.8874255261, 936675.1142022641, -577394.1058216742, 157289.26940695962]\n"
     ]
    },
    {
     "data": {
      "text/plain": [
       "0              NaN\n",
       "1     4.640477e+06\n",
       "2     3.162399e+06\n",
       "3     3.058619e+06\n",
       "4     4.183506e+06\n",
       "          ...     \n",
       "85    2.622647e+06\n",
       "86    2.453596e+06\n",
       "87    3.484617e+06\n",
       "88    4.625672e+06\n",
       "89    4.495031e+06\n",
       "Length: 90, dtype: float64"
      ]
     },
     "execution_count": 52,
     "metadata": {},
     "output_type": "execute_result"
    }
   ],
   "source": [
    "moving_avg = time_series_data.ewm(span=10).mean()\n",
    "moving_std = time_series_data.ewm(span=10).std()\n",
    "print(list(map(float, moving_avg.values[:90])))\n",
    "moving_std"
   ]
  },
  {
   "cell_type": "code",
   "execution_count": 16,
   "id": "handmade-panic",
   "metadata": {},
   "outputs": [
    {
     "data": {
      "text/plain": [
       "19"
      ]
     },
     "execution_count": 16,
     "metadata": {},
     "output_type": "execute_result"
    }
   ],
   "source": [
    "len(moving_avg)"
   ]
  },
  {
   "cell_type": "code",
   "execution_count": 64,
   "id": "vital-implement",
   "metadata": {},
   "outputs": [
    {
     "data": {
      "text/plain": [
       "array([       nan, 0.1986201 , 1.06143622, 2.14456573, 1.27856378,\n",
       "       0.9563564 , 0.04286154, 1.94228371, 2.09976443, 0.07590038,\n",
       "       0.40990729, 1.35096555, 0.34008648, 0.04536828, 0.71598889,\n",
       "       0.00327028, 0.64761384, 1.13832118, 1.63376032, 1.72007669,\n",
       "       1.01086688, 1.02811686, 0.36194399, 0.15944541, 0.53158967,\n",
       "       3.25641917, 1.69769663, 0.43866928, 0.2570608 , 0.29678049,\n",
       "       0.20090935, 0.82287458, 0.43710604, 1.76568336, 0.19691602,\n",
       "       0.55563577, 0.32306927, 1.2213747 , 1.59859721, 0.37216324,\n",
       "       1.31495583, 1.81620616, 0.17190508, 1.06328029, 1.19424163,\n",
       "       0.48076625, 0.43406899, 0.4019975 , 0.47762708, 0.539763  ,\n",
       "       0.94154202, 3.19658201, 1.87028437, 0.18207919, 0.18434345,\n",
       "       0.53637942, 0.34049582, 1.63525948, 1.62578909, 0.15625964,\n",
       "       0.06976406, 1.64334564, 0.32676672, 1.53011383, 0.62973223,\n",
       "       1.92885169, 1.2195703 , 0.21920911, 0.88805585, 1.3397693 ,\n",
       "       0.18787645, 0.28118164, 1.95812885, 1.7112793 , 0.16762035,\n",
       "       0.33443496, 0.53134607, 1.48330126, 0.96016932, 0.01420354,\n",
       "       0.8315406 , 0.82694574, 0.37250062, 0.26682036, 0.20742345,\n",
       "       0.58753173, 2.69310121, 2.38975511, 0.87355053])"
      ]
     },
     "execution_count": 64,
     "metadata": {},
     "output_type": "execute_result"
    }
   ],
   "source": [
    "# Ignore the first observation while identifying outliers\n",
    "# Moving average at time t considers the data till t and is the predicted value at (t+1)\n",
    "is_outlier = np.zeros(90)\n",
    "temp = np.abs(time_series_data.values[1:90] - moving_avg.values[0:-1])/moving_std.values[0:-1]\n",
    "temp"
   ]
  },
  {
   "cell_type": "code",
   "execution_count": 66,
   "id": "everyday-nickname",
   "metadata": {},
   "outputs": [
    {
     "name": "stdout",
     "output_type": "stream",
     "text": [
      "[0. 0. 0. 0. 1. 0. 0. 0. 0. 1. 0. 0. 0. 0. 0. 0. 0. 0. 0. 0. 0. 0. 0. 0.\n",
      " 0. 0. 1. 0. 0. 0. 0. 0. 0. 0. 0. 0. 0. 0. 0. 0. 0. 0. 0. 0. 0. 0. 0. 0.\n",
      " 0. 0. 0. 0. 1. 0. 0. 0. 0. 0. 0. 0. 0. 0. 0. 0. 0. 0. 0. 0. 0. 0. 0. 0.\n",
      " 0. 0. 0. 0. 0. 0. 0. 0. 0. 0. 0. 0. 0. 0. 0. 1. 1. 0.]\n"
     ]
    }
   ],
   "source": [
    "is_outlier[1:] = (temp>2).astype(int)\n",
    "print(is_outlier)"
   ]
  },
  {
   "cell_type": "code",
   "execution_count": 59,
   "id": "certain-anime",
   "metadata": {
    "scrolled": true
   },
   "outputs": [],
   "source": [
    "is_outlier[1:] = (temp > 2).astype(int)"
   ]
  },
  {
   "cell_type": "code",
   "execution_count": 68,
   "id": "successful-permit",
   "metadata": {},
   "outputs": [
    {
     "data": {
      "text/plain": [
       "array([ 4,  9, 26, 52, 87, 88])"
      ]
     },
     "execution_count": 68,
     "metadata": {},
     "output_type": "execute_result"
    }
   ],
   "source": [
    "# Locations of predicted outliers\n",
    "np.where(is_outlier == 1)[0]"
   ]
  },
  {
   "cell_type": "code",
   "execution_count": 7,
   "id": "funky-purchase",
   "metadata": {},
   "outputs": [
    {
     "data": {
      "text/plain": [
       "array([11, 15, 18])"
      ]
     },
     "execution_count": 7,
     "metadata": {},
     "output_type": "execute_result"
    }
   ],
   "source": [
    "# Locations of true outliers\n",
    "np.where(time_series_data != 1)[0]"
   ]
  },
  {
   "cell_type": "code",
   "execution_count": null,
   "id": "fatal-enclosure",
   "metadata": {},
   "outputs": [],
   "source": []
  }
 ],
 "metadata": {
  "kernelspec": {
   "display_name": "Python 3",
   "language": "python",
   "name": "python3"
  },
  "language_info": {
   "codemirror_mode": {
    "name": "ipython",
    "version": 3
   },
   "file_extension": ".py",
   "mimetype": "text/x-python",
   "name": "python",
   "nbconvert_exporter": "python",
   "pygments_lexer": "ipython3",
   "version": "3.7.5"
  }
 },
 "nbformat": 4,
 "nbformat_minor": 5
}
