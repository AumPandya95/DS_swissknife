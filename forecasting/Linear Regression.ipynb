{
 "cells": [
  {
   "cell_type": "code",
   "execution_count": 1,
   "id": "hairy-structure",
   "metadata": {},
   "outputs": [],
   "source": [
    "import numpy as np\n",
    "import pandas as pd\n",
    "from sklearn import linear_model\n",
    "import matplotlib.pyplot as plt\n",
    "from sklearn.metrics import mean_squared_error\n",
    "from sklearn.metrics import r2_score\n",
    "import timeit\n",
    "from sklearn.model_selection import cross_val_score\n",
    "from sklearn.model_selection import KFold"
   ]
  },
  {
   "cell_type": "code",
   "execution_count": 2,
   "id": "several-sewing",
   "metadata": {},
   "outputs": [],
   "source": [
    "import os\n",
    "os.getcwd()\n",
    "os.chdir(\"/home/aumaron/Desktop/other_projects/\")"
   ]
  },
  {
   "cell_type": "code",
   "execution_count": 3,
   "id": "numerous-paint",
   "metadata": {
    "scrolled": true
   },
   "outputs": [
    {
     "name": "stdout",
     "output_type": "stream",
     "text": [
      "(60, 13)\n"
     ]
    }
   ],
   "source": [
    "# Data\n",
    "demand_forecast = pd.read_excel(\"datasets/Daily_Demand_Forecasting_Orders.xlsx\", engine=\"openpyxl\")\n",
    "demand_forecast.dropna(how=\"all\", subset=[\"Target (Total orders)\"], inplace=True)\n",
    "\n",
    "demand_forecast.fillna(demand_forecast.mean(), inplace=True)\n",
    "\n",
    "print(demand_forecast.shape)\n",
    "target = np.array(demand_forecast.loc[:, \"Target (Total orders)\"])\n",
    "demand_forecast.drop(columns=[\"Target (Total orders)\"], inplace=True)\n",
    "train_array = np.array(demand_forecast)"
   ]
  },
  {
   "cell_type": "code",
   "execution_count": 4,
   "id": "challenging-dance",
   "metadata": {},
   "outputs": [],
   "source": [
    "# split data into train and test sets\n",
    "from sklearn.model_selection import train_test_split\n",
    "\n",
    "seed = 10\n",
    "X_train, X_test, y_train, y_test = train_test_split(train_array, target, test_size=0.25, random_state=seed)"
   ]
  },
  {
   "cell_type": "code",
   "execution_count": null,
   "id": "neutral-thirty",
   "metadata": {},
   "outputs": [],
   "source": [
    "# standardScaler\n",
    "def _standard_scaler(_data):\n",
    "    # Scaling the data\n",
    "    scale = StandardScaler().fit(_data)\n",
    "    _data[i] = scale.transform(_data)\n",
    "    return _data"
   ]
  },
  {
   "cell_type": "markdown",
   "id": "retired-jurisdiction",
   "metadata": {},
   "source": [
    "### Linear Regression: Without penalty"
   ]
  },
  {
   "cell_type": "code",
   "execution_count": 5,
   "id": "russian-fourth",
   "metadata": {},
   "outputs": [
    {
     "data": {
      "text/plain": [
       "<matplotlib.collections.PathCollection at 0x7fb939583590>"
      ]
     },
     "execution_count": 5,
     "metadata": {},
     "output_type": "execute_result"
    },
    {
     "data": {
      "image/png": "[encoded data removed]",
      "text/plain": [
       "<Figure size 432x288 with 1 Axes>"
      ]
     },
     "metadata": {
      "needs_background": "light"
     },
     "output_type": "display_data"
    }
   ],
   "source": [
    "plt.scatter([i for i in range(X_train.shape[0])], y_train)"
   ]
  },
  {
   "cell_type": "code",
   "execution_count": 6,
   "id": "accredited-channel",
   "metadata": {},
   "outputs": [
    {
     "data": {
      "text/plain": [
       "LinearRegression()"
      ]
     },
     "execution_count": 6,
     "metadata": {},
     "output_type": "execute_result"
    }
   ],
   "source": [
    "reg = linear_model.LinearRegression()\n",
    "reg.fit(X_train, y_train)"
   ]
  },
  {
   "cell_type": "code",
   "execution_count": 7,
   "id": "administrative-terrorism",
   "metadata": {},
   "outputs": [
    {
     "name": "stdout",
     "output_type": "stream",
     "text": [
      "[-5.68434189e-14  5.68434189e-13  1.30739863e-12 -8.52651283e-14\n",
      " -1.98951966e-13 -7.95807864e-13 -5.11590770e-13  1.42108547e-13\n",
      "  2.84217094e-13 -3.41060513e-13 -3.41060513e-13 -1.47792889e-12\n",
      "  5.96855898e-13  2.04636308e-12 -6.53699317e-13]\n"
     ]
    }
   ],
   "source": [
    "pred = reg.predict(X_test)\n",
    "print(pred - y_test)"
   ]
  },
  {
   "cell_type": "code",
   "execution_count": 8,
   "id": "military-demonstration",
   "metadata": {},
   "outputs": [],
   "source": [
    "mse = mean_squared_error(y_true=y_test, y_pred=pred, squared=False)\n",
    "score = reg.score(X_train, y_train)"
   ]
  },
  {
   "cell_type": "code",
   "execution_count": 9,
   "id": "seven-manner",
   "metadata": {},
   "outputs": [
    {
     "data": {
      "text/plain": [
       "8.353275304503185e-13"
      ]
     },
     "execution_count": 9,
     "metadata": {},
     "output_type": "execute_result"
    }
   ],
   "source": [
    "mse"
   ]
  },
  {
   "cell_type": "code",
   "execution_count": 7,
   "id": "spectacular-harassment",
   "metadata": {},
   "outputs": [
    {
     "data": {
      "text/plain": [
       "LinearRegression()"
      ]
     },
     "execution_count": 7,
     "metadata": {},
     "output_type": "execute_result"
    }
   ],
   "source": [
    "a = linear_model.LinearRegression()\n",
    "a"
   ]
  },
  {
   "cell_type": "markdown",
   "id": "invisible-passage",
   "metadata": {},
   "source": [
    "### Linear Model"
   ]
  },
  {
   "cell_type": "code",
   "execution_count": 7,
   "id": "amateur-imagination",
   "metadata": {},
   "outputs": [],
   "source": [
    "# testcode = '''\n",
    "def forecast_linear_model(train_array, \n",
    "                          target, \n",
    "                          _test_size=0.25, \n",
    "                          _alpha=None,\n",
    "                          _l1_ratio=0.5,\n",
    "                          with_penalty=True, \n",
    "                          regulariser=None):\n",
    "    \"\"\"\n",
    "    Linear model function.\n",
    "    \n",
    "    train_array: np.array\n",
    "        Training data\n",
    "    target: np.array\n",
    "        Feature/ attribute to be predicted\n",
    "    _test_size: float\n",
    "        proportion of test data\n",
    "    alpha: float, default 0.1 if with_penalty=True\n",
    "    _l1_ratio: float, default 0.5 if with_penalty and regulariser='elasticnet'\n",
    "    with_penalty: bool, default=True\n",
    "    regulariser: str, default=\"l1\"\n",
    "        Type of regularisation; 'l1' or 'elasticnet'\n",
    "    \"\"\"\n",
    "    out_dict = {}\n",
    "    if not with_penalty:\n",
    "        clf = linear_model.LinearRegression()\n",
    "#         print('Lin Reg')\n",
    "    else:\n",
    "        if not _alpha:\n",
    "            _alpha = 0.1\n",
    "        if regulariser:\n",
    "            if regulariser == \"l1\" or regulariser == \"lasso\":\n",
    "                clf = linear_model.Lasso(alpha=_alpha)\n",
    "#                 print('Lasso')\n",
    "            else:\n",
    "                clf = linear_model.ElasticNet(l1_ratio=_l1_ratio)\n",
    "#                 print('Elastic')\n",
    "        else:\n",
    "            clf = linear_model.ElasticNet(l1_ratio=_l1_ratio)\n",
    "#             print('Elastic')\n",
    "#     print('regulariser ->', regulariser)\n",
    "#     print('l1_ratio ->', _l1_ratio)\n",
    "    # split data into train and test sets\n",
    "    for i in range(1):\n",
    "        from sklearn.model_selection import train_test_split\n",
    "    #     seed = 10\n",
    "        X_train, X_test, y_train, y_test = train_test_split(train_array, target, test_size=_test_size)\n",
    "    \n",
    "        clf.fit(X_train, y_train)\n",
    "        pred = clf.predict(X_test)\n",
    "        mse = mean_squared_error(y_test, pred, squared=False)\n",
    "    #     score = reg.score(pred)\n",
    "        _score = r2_score(y_test, pred)\n",
    "        \n",
    "        out_dict[f\"coeff{i}\"] = clf.coef_\n",
    "        out_dict[f\"predict{i}\"] = pred\n",
    "        out_dict[f\"mse{i}\"] = mse\n",
    "        out_dict[f\"score{i}\"] = _score\n",
    "    \n",
    "    return out_dict\n"
   ]
  },
  {
   "cell_type": "code",
   "execution_count": 12,
   "id": "english-settlement",
   "metadata": {},
   "outputs": [
    {
     "name": "stdout",
     "output_type": "stream",
     "text": [
      "{'coeff0': array([ 1.73085530e-13,  2.11134929e-13, -1.53249389e-14, -3.54217185e-15,\n",
      "        1.00000000e+00,  1.00000000e+00,  1.00000000e+00, -1.35610060e-15,\n",
      "        1.12350450e-17,  1.06251813e-17,  2.92734587e-18,  4.35849273e-17]), 'predict0': array([297.174, 333.359, 316.849, 231.035, 539.577, 281.42 , 323.603,\n",
      "       286.412, 415.187, 255.061, 224.675, 229.249, 416.83 , 259.246,\n",
      "       233.126]), 'mse0': 1.3140136311680785e-12, 'score0': 1.0}\n"
     ]
    }
   ],
   "source": [
    "__mse = []\n",
    "__alpha = []\n",
    "# for _alph in np.arange(0.1, 1, 0.1):\n",
    "__out = forecast_linear_model(train_array,\n",
    "                             target,\n",
    "                             _test_size=0.25,\n",
    "                             _alpha=_alph,\n",
    "                             _l1_ratio=0.5,\n",
    "                             regulariser=\"lasso\",\n",
    "                             with_penalty=False)\n",
    "print(__out)\n",
    "#     print(f\"For alpha of {_alph} -\\n Coef -> {_out['coeff']} \\n RMSE -> {_out['mse']} \\n R2 score -> {_out['score']}\\n\")\n",
    "#     __mse.append(_out['mse'])\n",
    "#     __alpha.append(_alph)\n",
    "# print(np.array(__alpha))\n",
    "# plt.plot(np.array(__alpha), np.array(__mse))\n",
    "# plt.xlabel(\"alpha\")\n",
    "# plt.ylabel(\"RMSE\")\n",
    "# plt.show()"
   ]
  },
  {
   "cell_type": "code",
   "execution_count": 15,
   "id": "positive-ecuador",
   "metadata": {},
   "outputs": [
    {
     "name": "stdout",
     "output_type": "stream",
     "text": [
      "[-0.00000000e+00  0.00000000e+00  5.09499517e-03  3.64093460e-03\n",
      "  9.96440670e-01  9.97040772e-01  9.96313152e-01  1.46424036e-05\n",
      " -2.18371104e-06 -1.44770803e-06 -1.62770126e-06  2.56323718e-07]\n",
      "[ 1.73085530e-13  2.11134929e-13 -1.53249389e-14 -3.54217185e-15\n",
      "  1.00000000e+00  1.00000000e+00  1.00000000e+00 -1.35610060e-15\n",
      "  1.12350450e-17  1.06251813e-17  2.92734587e-18  4.35849273e-17]\n"
     ]
    }
   ],
   "source": [
    "# For regression with lasso penaliser\n",
    "print(_out[\"coeff0\"])\n",
    "# For regular regression\n",
    "print(__out[\"coeff0\"])"
   ]
  },
  {
   "cell_type": "markdown",
   "id": "bulgarian-script",
   "metadata": {},
   "source": [
    "### Performance Testing"
   ]
  },
  {
   "cell_type": "code",
   "execution_count": 21,
   "id": "happy-transfer",
   "metadata": {},
   "outputs": [
    {
     "name": "stdout",
     "output_type": "stream",
     "text": [
      "1.83 ms ± 10.5 µs per loop (mean ± std. dev. of 7 runs, 1000 loops each)\n"
     ]
    }
   ],
   "source": [
    "%%timeit -n 1000\n",
    "_out = forecast_linear_model(train_array,\n",
    "                                 target,\n",
    "                                 _test_size=0.25,\n",
    "                                 _alpha=0.1,\n",
    "                                 _l1_ratio=0.5,\n",
    "                                 regulariser=\"l1\",\n",
    "                                 with_penalty=True)"
   ]
  },
  {
   "cell_type": "code",
   "execution_count": 22,
   "id": "applied-enough",
   "metadata": {},
   "outputs": [
    {
     "name": "stdout",
     "output_type": "stream",
     "text": [
      "1.99 ms ± 16.9 µs per loop (mean ± std. dev. of 7 runs, 1000 loops each)\n"
     ]
    }
   ],
   "source": [
    "%%timeit -n 1000\n",
    "_out = forecast_linear_model(train_array,\n",
    "                                 target,\n",
    "                                 _test_size=0.25,\n",
    "                                 _alpha=0.1,\n",
    "                                 _l1_ratio=0.5,\n",
    "                                 regulariser=\"elasticnet\",\n",
    "                                 with_penalty=True)"
   ]
  },
  {
   "cell_type": "code",
   "execution_count": 23,
   "id": "human-breakdown",
   "metadata": {},
   "outputs": [
    {
     "name": "stdout",
     "output_type": "stream",
     "text": [
      "1.97 ms ± 4.72 µs per loop (mean ± std. dev. of 7 runs, 1000 loops each)\n"
     ]
    }
   ],
   "source": [
    "%%timeit -n 1000\n",
    "_out = forecast_linear_model(train_array,\n",
    "                                 target,\n",
    "                                 _test_size=0.25,\n",
    "                                 _alpha=0.1,\n",
    "                                 _l1_ratio=0.5,\n",
    "                                 regulariser=None,\n",
    "                                 with_penalty=True)"
   ]
  },
  {
   "cell_type": "markdown",
   "id": "veterinary-uncle",
   "metadata": {},
   "source": [
    "### Testing on dummy data of size 10000 X 10"
   ]
  },
  {
   "cell_type": "code",
   "execution_count": 9,
   "id": "rural-theology",
   "metadata": {},
   "outputs": [],
   "source": [
    "import numpy\n",
    "# x is your dataset\n",
    "x = numpy.random.rand(10000, 50)\n",
    "numpy.random.shuffle(x)\n",
    "train_array = x[:, :49]\n",
    "target = x[:, 49:50]\n",
    "# split data into train and test sets\n",
    "# from sklearn.model_selection import train_test_split\n",
    "\n",
    "# seed = 10\n",
    "# X_train, X_test, y_train, y_test = train_test_split(train_array, target, test_size=0.25, random_state=seed)"
   ]
  },
  {
   "cell_type": "code",
   "execution_count": 10,
   "id": "organic-tobago",
   "metadata": {},
   "outputs": [
    {
     "name": "stdout",
     "output_type": "stream",
     "text": [
      "156 ms ± 12.5 ms per loop (mean ± std. dev. of 7 runs, 10 loops each)\n",
      "144 ms ± 19.8 ms per loop (mean ± std. dev. of 7 runs, 10 loops each)\n",
      "149 ms ± 22.7 ms per loop (mean ± std. dev. of 7 runs, 10 loops each)\n"
     ]
    }
   ],
   "source": [
    "res = []\n",
    "for _reg in [\"l1\", \"elasticnet\", None]:\n",
    "    a = %timeit -o forecast_linear_model(train_array,target,_test_size=0.25,_alpha=0.1,_l1_ratio=0.5,regulariser=_reg,with_penalty=True)\n",
    "    res.append(a)"
   ]
  },
  {
   "cell_type": "code",
   "execution_count": 11,
   "id": "compliant-handy",
   "metadata": {},
   "outputs": [
    {
     "name": "stdout",
     "output_type": "stream",
     "text": [
      "-----------\n",
      "[0.1627075149999655, 0.14740139660002569, 0.16278652430000876, 0.16385655869999027, 0.16279121970001142, 0.16306924759996946, 0.12833500850001656]\n",
      "-----------\n",
      "[0.1570165136000014, 0.13132073649999257, 0.10836402709996946, 0.12848766090000935, 0.1568398131000322, 0.16351024270002198, 0.16305706269999973]\n",
      "-----------\n",
      "[0.17002039550002337, 0.12736693659999218, 0.10381658319997769, 0.16206501739998203, 0.16471989689998737, 0.16447293810001612, 0.15182346760002474]\n"
     ]
    }
   ],
   "source": [
    "for i in range(3):\n",
    "    print(\"-----------\")\n",
    "    print(res[i].timings)"
   ]
  },
  {
   "cell_type": "code",
   "execution_count": null,
   "id": "conventional-ferry",
   "metadata": {},
   "outputs": [],
   "source": []
  }
 ],
 "metadata": {
  "kernelspec": {
   "display_name": "Python 3 (ipykernel)",
   "language": "python",
   "name": "python3"
  },
  "language_info": {
   "codemirror_mode": {
    "name": "ipython",
    "version": 3
   },
   "file_extension": ".py",
   "mimetype": "text/x-python",
   "name": "python",
   "nbconvert_exporter": "python",
   "pygments_lexer": "ipython3",
   "version": "3.8.10"
  }
 },
 "nbformat": 4,
 "nbformat_minor": 5
}
