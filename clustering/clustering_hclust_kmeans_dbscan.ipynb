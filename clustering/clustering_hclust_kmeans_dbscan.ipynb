{
 "cells": [
  {
   "cell_type": "code",
   "execution_count": 2,
   "id": "amended-grove",
   "metadata": {},
   "outputs": [],
   "source": [
    "import os\n",
    "import numpy as np\n",
    "import pandas as pd\n",
    "import matplotlib.pyplot as plt\n",
    "from scipy.cluster.hierarchy import dendrogram\n",
    "from sklearn.preprocessing import StandardScaler\n",
    "from sklearn.cluster import AgglomerativeClustering, KMeans\n",
    "import timeit"
   ]
  },
  {
   "cell_type": "code",
   "execution_count": 3,
   "id": "useful-charm",
   "metadata": {},
   "outputs": [],
   "source": [
    "os.getcwd()\n",
    "os.chdir(\"/home/aumaron/Desktop/other_projects/\")"
   ]
  },
  {
   "cell_type": "code",
   "execution_count": 4,
   "id": "sixth-congress",
   "metadata": {},
   "outputs": [],
   "source": [
    "previous_year = pd.read_excel(\"datasets/Online_Retail_II.xlsx\", engine=\"openpyxl\", sheet_name=\"Year 2009-2010\")\n",
    "current_year = pd.read_excel(\"datasets/Online_Retail_II.xlsx\", engine=\"openpyxl\", sheet_name=\"Year 2010-2011\")"
   ]
  },
  {
   "cell_type": "code",
   "execution_count": 5,
   "id": "sound-india",
   "metadata": {},
   "outputs": [],
   "source": [
    "frames = [previous_year, current_year]\n",
    "data = pd.concat(frames)\n",
    "data.dropna(subset=[\"Customer ID\", \"Invoice\", \"InvoiceDate\"], how=\"any\", inplace=True)\n",
    "data[\"InvoiceDate\"] = pd.to_datetime(data[\"InvoiceDate\"])\n",
    "data[\"Total Price\"] = data[\"Quantity\"] * data[\"Price\"]"
   ]
  },
  {
   "cell_type": "markdown",
   "id": "mental-norway",
   "metadata": {},
   "source": [
    "data.to_csv(\"datasets/aggregated_online_retail.csv\")"
   ]
  },
  {
   "cell_type": "code",
   "execution_count": 6,
   "id": "invisible-interface",
   "metadata": {},
   "outputs": [
    {
     "data": {
      "text/html": [
       "<div>\n",
       "<style scoped>\n",
       "    .dataframe tbody tr th:only-of-type {\n",
       "        vertical-align: middle;\n",
       "    }\n",
       "\n",
       "    .dataframe tbody tr th {\n",
       "        vertical-align: top;\n",
       "    }\n",
       "\n",
       "    .dataframe thead th {\n",
       "        text-align: right;\n",
       "    }\n",
       "</style>\n",
       "<table border=\"1\" class=\"dataframe\">\n",
       "  <thead>\n",
       "    <tr style=\"text-align: right;\">\n",
       "      <th></th>\n",
       "      <th>Customer ID</th>\n",
       "      <th>Recency</th>\n",
       "      <th>Frequency</th>\n",
       "      <th>MonetaryValue</th>\n",
       "    </tr>\n",
       "  </thead>\n",
       "  <tbody>\n",
       "    <tr>\n",
       "      <th>0</th>\n",
       "      <td>12346.0</td>\n",
       "      <td>325</td>\n",
       "      <td>17</td>\n",
       "      <td>-64.68</td>\n",
       "    </tr>\n",
       "    <tr>\n",
       "      <th>1</th>\n",
       "      <td>12347.0</td>\n",
       "      <td>1</td>\n",
       "      <td>8</td>\n",
       "      <td>5633.32</td>\n",
       "    </tr>\n",
       "    <tr>\n",
       "      <th>2</th>\n",
       "      <td>12348.0</td>\n",
       "      <td>74</td>\n",
       "      <td>5</td>\n",
       "      <td>2019.40</td>\n",
       "    </tr>\n",
       "    <tr>\n",
       "      <th>3</th>\n",
       "      <td>12349.0</td>\n",
       "      <td>18</td>\n",
       "      <td>5</td>\n",
       "      <td>4404.54</td>\n",
       "    </tr>\n",
       "    <tr>\n",
       "      <th>4</th>\n",
       "      <td>12350.0</td>\n",
       "      <td>309</td>\n",
       "      <td>1</td>\n",
       "      <td>334.40</td>\n",
       "    </tr>\n",
       "    <tr>\n",
       "      <th>...</th>\n",
       "      <td>...</td>\n",
       "      <td>...</td>\n",
       "      <td>...</td>\n",
       "      <td>...</td>\n",
       "    </tr>\n",
       "    <tr>\n",
       "      <th>5937</th>\n",
       "      <td>18283.0</td>\n",
       "      <td>3</td>\n",
       "      <td>22</td>\n",
       "      <td>2736.65</td>\n",
       "    </tr>\n",
       "    <tr>\n",
       "      <th>5938</th>\n",
       "      <td>18284.0</td>\n",
       "      <td>429</td>\n",
       "      <td>2</td>\n",
       "      <td>436.68</td>\n",
       "    </tr>\n",
       "    <tr>\n",
       "      <th>5939</th>\n",
       "      <td>18285.0</td>\n",
       "      <td>660</td>\n",
       "      <td>1</td>\n",
       "      <td>427.00</td>\n",
       "    </tr>\n",
       "    <tr>\n",
       "      <th>5940</th>\n",
       "      <td>18286.0</td>\n",
       "      <td>476</td>\n",
       "      <td>3</td>\n",
       "      <td>1188.43</td>\n",
       "    </tr>\n",
       "    <tr>\n",
       "      <th>5941</th>\n",
       "      <td>18287.0</td>\n",
       "      <td>42</td>\n",
       "      <td>8</td>\n",
       "      <td>4177.89</td>\n",
       "    </tr>\n",
       "  </tbody>\n",
       "</table>\n",
       "<p>5942 rows × 4 columns</p>\n",
       "</div>"
      ],
      "text/plain": [
       "      Customer ID  Recency  Frequency  MonetaryValue\n",
       "0         12346.0      325         17         -64.68\n",
       "1         12347.0        1          8        5633.32\n",
       "2         12348.0       74          5        2019.40\n",
       "3         12349.0       18          5        4404.54\n",
       "4         12350.0      309          1         334.40\n",
       "...           ...      ...        ...            ...\n",
       "5937      18283.0        3         22        2736.65\n",
       "5938      18284.0      429          2         436.68\n",
       "5939      18285.0      660          1         427.00\n",
       "5940      18286.0      476          3        1188.43\n",
       "5941      18287.0       42          8        4177.89\n",
       "\n",
       "[5942 rows x 4 columns]"
      ]
     },
     "execution_count": 6,
     "metadata": {},
     "output_type": "execute_result"
    }
   ],
   "source": [
    "reference_date = data[\"InvoiceDate\"].max()\n",
    "\n",
    "rfm_matrix = data.groupby([\"Customer ID\"]).aggregate(\n",
    "    {\n",
    "        \"InvoiceDate\": lambda date: (reference_date - date.max()).days,\n",
    "        \"Invoice\": \"nunique\",\n",
    "        \"Total Price\": \"sum\"\n",
    "    }\n",
    ").reset_index()\n",
    "\n",
    "rfm_matrix.rename(\n",
    "    columns={\n",
    "        \"InvoiceDate\": \"Recency\",\n",
    "        \"Invoice\": \"Frequency\",\n",
    "        \"Total Price\": \"MonetaryValue\"\n",
    "    },\n",
    "    inplace=True\n",
    ")\n",
    "\n",
    "rfm_matrix"
   ]
  },
  {
   "cell_type": "code",
   "execution_count": 7,
   "id": "failing-andrew",
   "metadata": {},
   "outputs": [],
   "source": [
    "# Normalising the RFM matrix\n",
    "numerical_columns = [\"Recency\", \"Frequency\", \"MonetaryValue\"]\n",
    "for i in numerical_columns:\n",
    "    scale = StandardScaler().fit(rfm_matrix[[i]])\n",
    "    rfm_matrix[i] = scale.transform(rfm_matrix[[i]])"
   ]
  },
  {
   "cell_type": "code",
   "execution_count": 8,
   "id": "traditional-limit",
   "metadata": {},
   "outputs": [
    {
     "data": {
      "text/html": [
       "<div>\n",
       "<style scoped>\n",
       "    .dataframe tbody tr th:only-of-type {\n",
       "        vertical-align: middle;\n",
       "    }\n",
       "\n",
       "    .dataframe tbody tr th {\n",
       "        vertical-align: top;\n",
       "    }\n",
       "\n",
       "    .dataframe thead th {\n",
       "        text-align: right;\n",
       "    }\n",
       "</style>\n",
       "<table border=\"1\" class=\"dataframe\">\n",
       "  <thead>\n",
       "    <tr style=\"text-align: right;\">\n",
       "      <th></th>\n",
       "      <th>Customer ID</th>\n",
       "      <th>Recency</th>\n",
       "      <th>Frequency</th>\n",
       "      <th>MonetaryValue</th>\n",
       "    </tr>\n",
       "  </thead>\n",
       "  <tbody>\n",
       "    <tr>\n",
       "      <th>0</th>\n",
       "      <td>12346.0</td>\n",
       "      <td>0.581058</td>\n",
       "      <td>0.591554</td>\n",
       "      <td>-0.205148</td>\n",
       "    </tr>\n",
       "    <tr>\n",
       "      <th>1</th>\n",
       "      <td>12347.0</td>\n",
       "      <td>-0.948397</td>\n",
       "      <td>0.028030</td>\n",
       "      <td>0.202646</td>\n",
       "    </tr>\n",
       "    <tr>\n",
       "      <th>2</th>\n",
       "      <td>12348.0</td>\n",
       "      <td>-0.603798</td>\n",
       "      <td>-0.159812</td>\n",
       "      <td>-0.055995</td>\n",
       "    </tr>\n",
       "    <tr>\n",
       "      <th>3</th>\n",
       "      <td>12349.0</td>\n",
       "      <td>-0.868148</td>\n",
       "      <td>-0.159812</td>\n",
       "      <td>0.114705</td>\n",
       "    </tr>\n",
       "    <tr>\n",
       "      <th>4</th>\n",
       "      <td>12350.0</td>\n",
       "      <td>0.505529</td>\n",
       "      <td>-0.410267</td>\n",
       "      <td>-0.176587</td>\n",
       "    </tr>\n",
       "    <tr>\n",
       "      <th>...</th>\n",
       "      <td>...</td>\n",
       "      <td>...</td>\n",
       "      <td>...</td>\n",
       "      <td>...</td>\n",
       "    </tr>\n",
       "    <tr>\n",
       "      <th>5937</th>\n",
       "      <td>18283.0</td>\n",
       "      <td>-0.938956</td>\n",
       "      <td>0.904623</td>\n",
       "      <td>-0.004663</td>\n",
       "    </tr>\n",
       "    <tr>\n",
       "      <th>5938</th>\n",
       "      <td>18284.0</td>\n",
       "      <td>1.071994</td>\n",
       "      <td>-0.347653</td>\n",
       "      <td>-0.169267</td>\n",
       "    </tr>\n",
       "    <tr>\n",
       "      <th>5939</th>\n",
       "      <td>18285.0</td>\n",
       "      <td>2.162439</td>\n",
       "      <td>-0.410267</td>\n",
       "      <td>-0.169959</td>\n",
       "    </tr>\n",
       "    <tr>\n",
       "      <th>5940</th>\n",
       "      <td>18286.0</td>\n",
       "      <td>1.293860</td>\n",
       "      <td>-0.285039</td>\n",
       "      <td>-0.115465</td>\n",
       "    </tr>\n",
       "    <tr>\n",
       "      <th>5941</th>\n",
       "      <td>18287.0</td>\n",
       "      <td>-0.754855</td>\n",
       "      <td>0.028030</td>\n",
       "      <td>0.098484</td>\n",
       "    </tr>\n",
       "  </tbody>\n",
       "</table>\n",
       "<p>5942 rows × 4 columns</p>\n",
       "</div>"
      ],
      "text/plain": [
       "      Customer ID   Recency  Frequency  MonetaryValue\n",
       "0         12346.0  0.581058   0.591554      -0.205148\n",
       "1         12347.0 -0.948397   0.028030       0.202646\n",
       "2         12348.0 -0.603798  -0.159812      -0.055995\n",
       "3         12349.0 -0.868148  -0.159812       0.114705\n",
       "4         12350.0  0.505529  -0.410267      -0.176587\n",
       "...           ...       ...        ...            ...\n",
       "5937      18283.0 -0.938956   0.904623      -0.004663\n",
       "5938      18284.0  1.071994  -0.347653      -0.169267\n",
       "5939      18285.0  2.162439  -0.410267      -0.169959\n",
       "5940      18286.0  1.293860  -0.285039      -0.115465\n",
       "5941      18287.0 -0.754855   0.028030       0.098484\n",
       "\n",
       "[5942 rows x 4 columns]"
      ]
     },
     "execution_count": 8,
     "metadata": {},
     "output_type": "execute_result"
    }
   ],
   "source": [
    "rfm_matrix"
   ]
  },
  {
   "cell_type": "markdown",
   "id": "adaptive-dragon",
   "metadata": {},
   "source": [
    "## Hierarchical Clustering"
   ]
  },
  {
   "cell_type": "code",
   "execution_count": null,
   "id": "exceptional-painting",
   "metadata": {},
   "outputs": [],
   "source": [
    "%%timeit\n",
    "# Hierarchical clustering\n",
    "# By default n_clusters = 4\n",
    "\n",
    "cluster = AgglomerativeClustering(n_clusters=None,\n",
    "                                  distance_threshold=0,\n",
    "                                  compute_full_tree=True,\n",
    "                                  compute_distances=True,\n",
    "                                  affinity='euclidean',\n",
    "                                  linkage='complete')\n",
    "cluster.fit_predict(rfm_matrix.iloc[:, 1:len(rfm_matrix.columns)+1].to_numpy())\n",
    "model = cluster.fit(rfm_matrix.iloc[:, 1:len(rfm_matrix.columns)+1].to_numpy())"
   ]
  },
  {
   "cell_type": "code",
   "execution_count": null,
   "id": "mental-principle",
   "metadata": {},
   "outputs": [],
   "source": [
    "model"
   ]
  },
  {
   "cell_type": "code",
   "execution_count": null,
   "id": "ranging-culture",
   "metadata": {},
   "outputs": [],
   "source": [
    "def plot_dendrogram(model, **kwargs):\n",
    "    # Create linkage matrix and then plot the dendrogram\n",
    "\n",
    "    # create the counts of samples under each node\n",
    "    counts = np.zeros(model.children_.shape[0])\n",
    "    n_samples = len(model.labels_)\n",
    "    for i, merge in enumerate(model.children_):\n",
    "        current_count = 0\n",
    "        for child_idx in merge:\n",
    "            if child_idx < n_samples:\n",
    "                current_count += 1  # leaf node\n",
    "            else:\n",
    "                current_count += counts[child_idx - n_samples]\n",
    "        counts[i] = current_count\n",
    "\n",
    "    linkage_matrix = np.column_stack([model.children_, model.distances_,\n",
    "                                      counts]).astype(float)\n",
    "\n",
    "    # Plot the corresponding dendrogram\n",
    "    dendrogram(linkage_matrix, **kwargs)\n",
    "\n",
    "plt.title('Hierarchical Clustering Dendrogram')\n",
    "# plot the top three levels of the dendrogram\n",
    "plot_dendrogram(model, truncate_mode='lastp', p=20, leaf_rotation=90., leaf_font_size=8., show_contracted=True, color_threshold = 2)\n",
    "plt.xlabel(\"Number of clustered points in node (index of point if no brackets provided).\")\n",
    "plt.savefig('online_retail_dendrogram.pdf', format='pdf', bbox_inches='tight', facecolor=\"w\", dpi=520)\n",
    "# plt.show()"
   ]
  },
  {
   "cell_type": "markdown",
   "id": "union-blues",
   "metadata": {},
   "source": [
    "## KMeans (optimising n_clusters using Silhouette width)"
   ]
  },
  {
   "cell_type": "code",
   "execution_count": 8,
   "id": "compliant-brother",
   "metadata": {},
   "outputs": [],
   "source": [
    "from sklearn.metrics import silhouette_samples, silhouette_score\n",
    "from operator import itemgetter\n",
    "import matplotlib.cm as cm\n",
    "import matplotlib.pyplot as plt\n",
    "import pandas as pd\n",
    "import numpy as np\n",
    "import timeit"
   ]
  },
  {
   "cell_type": "code",
   "execution_count": 9,
   "id": "foreign-still",
   "metadata": {},
   "outputs": [],
   "source": [
    "# Iris dataset\n",
    "from sklearn.datasets import load_iris\n",
    "\n",
    "data = load_iris()\n",
    "train_array = data[\"data\"]\n",
    "target = data[\"target\"]"
   ]
  },
  {
   "cell_type": "code",
   "execution_count": 10,
   "id": "controlling-minimum",
   "metadata": {},
   "outputs": [
    {
     "data": {
      "text/plain": [
       "array([0, 1, 2])"
      ]
     },
     "execution_count": 10,
     "metadata": {},
     "output_type": "execute_result"
    }
   ],
   "source": [
    "pd.Series(target).unique()"
   ]
  },
  {
   "cell_type": "code",
   "execution_count": 26,
   "id": "relative-candle",
   "metadata": {
    "scrolled": true
   },
   "outputs": [
    {
     "name": "stdout",
     "output_type": "stream",
     "text": [
      "Score for 2 clusters is -> 0.914791902158231\n",
      "Score for 3 clusters is -> 0.5824713823150693\n",
      "Score for 4 clusters is -> 0.5924940106340375\n",
      "Score for 5 clusters is -> 0.6056122489985298\n",
      "Score for 6 clusters is -> 0.5889279754569993\n",
      "Score for 7 clusters is -> 0.5500260070925285\n",
      "Score for 8 clusters is -> 0.5037236599546097\n",
      "Score for 9 clusters is -> 0.5452610633719389\n",
      "Score for 2 clusters is -> 0.914791902158231\n",
      "Score for 3 clusters is -> 0.5824713823150693\n",
      "Score for 4 clusters is -> 0.5924940106340375\n",
      "Score for 5 clusters is -> 0.6056122489985298\n",
      "Score for 6 clusters is -> 0.5889279754569993\n",
      "Score for 7 clusters is -> 0.5500260070925285\n",
      "Score for 8 clusters is -> 0.5037236599546097\n",
      "Score for 9 clusters is -> 0.5452610633719389\n",
      "Score for 2 clusters is -> 0.914791902158231\n",
      "Score for 3 clusters is -> 0.5824713823150693\n",
      "Score for 4 clusters is -> 0.5924940106340375\n",
      "Score for 5 clusters is -> 0.6056122489985298\n",
      "Score for 6 clusters is -> 0.5889279754569993\n",
      "Score for 7 clusters is -> 0.5500260070925285\n",
      "Score for 8 clusters is -> 0.5037236599546097\n",
      "Score for 9 clusters is -> 0.5452610633719389\n",
      "Score for 2 clusters is -> 0.914791902158231\n",
      "Score for 3 clusters is -> 0.5824713823150693\n",
      "Score for 4 clusters is -> 0.5924940106340375\n",
      "Score for 5 clusters is -> 0.6056122489985298\n",
      "Score for 6 clusters is -> 0.5889279754569993\n",
      "Score for 7 clusters is -> 0.5500260070925285\n",
      "Score for 8 clusters is -> 0.5037236599546097\n",
      "Score for 9 clusters is -> 0.5452610633719389\n",
      "Score for 2 clusters is -> 0.914791902158231\n",
      "Score for 3 clusters is -> 0.5824713823150693\n",
      "Score for 4 clusters is -> 0.5924940106340375\n",
      "Score for 5 clusters is -> 0.6056122489985298\n",
      "Score for 6 clusters is -> 0.5889279754569993\n",
      "Score for 7 clusters is -> 0.5500260070925285\n",
      "Score for 8 clusters is -> 0.5037236599546097\n",
      "Score for 9 clusters is -> 0.5452610633719389\n",
      "Score for 2 clusters is -> 0.914791902158231\n",
      "Score for 3 clusters is -> 0.5824713823150693\n",
      "Score for 4 clusters is -> 0.5924940106340375\n",
      "Score for 5 clusters is -> 0.6056122489985298\n",
      "Score for 6 clusters is -> 0.5889279754569993\n",
      "Score for 7 clusters is -> 0.5500260070925285\n",
      "Score for 8 clusters is -> 0.5037236599546097\n",
      "Score for 9 clusters is -> 0.5452610633719389\n",
      "Score for 2 clusters is -> 0.914791902158231\n",
      "Score for 3 clusters is -> 0.5824713823150693\n",
      "Score for 4 clusters is -> 0.5924940106340375\n",
      "Score for 5 clusters is -> 0.6056122489985298\n",
      "Score for 6 clusters is -> 0.5889279754569993\n",
      "Score for 7 clusters is -> 0.5500260070925285\n",
      "Score for 8 clusters is -> 0.5037236599546097\n",
      "Score for 9 clusters is -> 0.5452610633719389\n",
      "Score for 2 clusters is -> 0.914791902158231\n",
      "Score for 3 clusters is -> 0.5824713823150693\n",
      "Score for 4 clusters is -> 0.5924940106340375\n",
      "Score for 5 clusters is -> 0.6056122489985298\n",
      "Score for 6 clusters is -> 0.5889279754569993\n",
      "Score for 7 clusters is -> 0.5500260070925285\n",
      "Score for 8 clusters is -> 0.5037236599546097\n",
      "Score for 9 clusters is -> 0.5452610633719389\n",
      "30.5 s ± 539 ms per loop (mean ± std. dev. of 7 runs, 1 loop each)\n"
     ]
    },
    {
     "data": {
      "image/png": "[encoded data removed]",
      "text/plain": [
       "<Figure size 432x288 with 1 Axes>"
      ]
     },
     "metadata": {
      "needs_background": "light"
     },
     "output_type": "display_data"
    }
   ],
   "source": [
    "%%timeit -n 1\n",
    "rfm_array = np.array(rfm_matrix.iloc[:, 1:])\n",
    "score_list = []\n",
    "for k in range(2,10):\n",
    "    score_array = []\n",
    "    # KMeans model\n",
    "    km = KMeans(n_clusters=k, random_state=42)\n",
    "    model = km.fit(rfm_array)\n",
    "    cluster_labels = km.fit_predict(rfm_array)\n",
    "    score = silhouette_score(rfm_array, km.labels_, metric='euclidean')\n",
    "    score_array.append(score)\n",
    "    sample_silhouette_values = silhouette_samples(rfm_array, cluster_labels)\n",
    "    score_list.append((k, score))\n",
    "    print(f\"Score for {k} clusters is -> {score}\")\n",
    "    \n",
    "plt.plot(list(range(2, 10)), [scores[1] for scores in score_list])\n",
    "plt.xlabel('number of clusters')\n",
    "plt.ylabel('Silhouette Score')\n",
    "plt.title(\"Silhouette Scores\");\n"
   ]
  },
  {
   "cell_type": "code",
   "execution_count": null,
   "id": "creative-entertainment",
   "metadata": {},
   "outputs": [],
   "source": [
    "# rfm_array = np.array(train_array)\n",
    "score_list = []\n",
    "for k in range(2,10):\n",
    "    score_array = []\n",
    "    # KMeans model\n",
    "    km = KMeans(n_clusters=k, random_state=42)\n",
    "    model = km.fit(train_array)\n",
    "    cluster_labels = km.fit_predict(train_array)\n",
    "    score = silhouette_score(train_array, km.labels_, metric='euclidean')\n",
    "    score_array.append(score)\n",
    "    sample_silhouette_values = silhouette_samples(train_array, cluster_labels)\n",
    "    score_list.append((k, score))\n",
    "    print(f\"Score for {k} clusters is -> {score}\")\n",
    "    \n",
    "plt.plot(list(range(2, 10)), [scores[1] for scores in score_list])\n",
    "plt.xlabel('number of clusters')\n",
    "plt.ylabel('Silhouette Score')\n",
    "plt.title(\"Silhouette Scores\");"
   ]
  },
  {
   "cell_type": "code",
   "execution_count": null,
   "id": "significant-still",
   "metadata": {},
   "outputs": [],
   "source": [
    "def visualise_clusters(train_array):\n",
    "    from sklearn.decomposition import PCA\n",
    "    _dict = {}\n",
    "    # Z-score the features\n",
    "    scaler = StandardScaler()\n",
    "    scaler.fit(train_array)\n",
    "    X = scaler.transform(train_array)\n",
    "    # The PCA model\n",
    "    pca = PCA() # estimate only 2 PCs\n",
    "    X_new = pca.fit_transform(X) # project the original data into the PCA space\n",
    "    variance_ratios = pca.explained_variance_ratio_\n",
    "    _dict[\"principal_components\"] = X_new\n",
    "    _dict[\"explained_variance\"] = variance_ratios\n",
    "    return _dict\n",
    "\n",
    "_out = visualise_clusters(train_array)"
   ]
  },
  {
   "cell_type": "code",
   "execution_count": null,
   "id": "dedicated-advancement",
   "metadata": {},
   "outputs": [],
   "source": [
    "pc = _out[\"principal_components\"]\n",
    "exp = _out[\"explained_variance\"]\n",
    "print(exp)"
   ]
  },
  {
   "cell_type": "code",
   "execution_count": null,
   "id": "induced-senior",
   "metadata": {},
   "outputs": [],
   "source": [
    "fig, axes = plt.subplots(1,2)\n",
    "axes[0].scatter(train_array[:,0], train_array[:,1], c=target)\n",
    "axes[0].set_xlabel('x1')\n",
    "axes[0].set_ylabel('x2')\n",
    "axes[0].set_title('Before PCA')\n",
    "axes[1].scatter(pc[:,0], pc[:,1], c=target)\n",
    "axes[1].set_xlabel('PC1')\n",
    "axes[1].set_ylabel('PC2')\n",
    "axes[1].set_title('After PCA')\n",
    "plt.show()"
   ]
  },
  {
   "cell_type": "markdown",
   "id": "interpreted-cornell",
   "metadata": {},
   "source": [
    "## DBSCAN"
   ]
  },
  {
   "cell_type": "code",
   "execution_count": 9,
   "id": "extra-working",
   "metadata": {},
   "outputs": [],
   "source": [
    "from sklearn.cluster import DBSCAN"
   ]
  },
  {
   "cell_type": "code",
   "execution_count": 11,
   "id": "municipal-switch",
   "metadata": {},
   "outputs": [],
   "source": [
    "rfm_array = np.array(rfm_matrix.iloc[:, 1:])\n",
    "clustering = DBSCAN(eps=1, min_samples=4).fit(rfm_array)\n",
    "labels = clustering.labels_\n",
    "core_samples_mask = np.zeros_like(clustering.labels_, dtype=bool)\n",
    "core_samples_mask[clustering.core_sample_indices_] = True\n",
    "n_clusters_ = len(set(labels)) - (1 if -1 in labels else 0)\n",
    "n_noise_ = list(labels).count(-1)"
   ]
  },
  {
   "cell_type": "code",
   "execution_count": 12,
   "id": "black-repair",
   "metadata": {},
   "outputs": [
    {
     "data": {
      "text/plain": [
       "[0, 1, -1]"
      ]
     },
     "execution_count": 12,
     "metadata": {},
     "output_type": "execute_result"
    }
   ],
   "source": [
    "list(set(labels))"
   ]
  },
  {
   "cell_type": "code",
   "execution_count": 13,
   "id": "herbal-classic",
   "metadata": {},
   "outputs": [
    {
     "data": {
      "image/png": "[encoded data removed]",
      "text/plain": [
       "<Figure size 432x288 with 1 Axes>"
      ]
     },
     "metadata": {
      "needs_background": "light"
     },
     "output_type": "display_data"
    }
   ],
   "source": [
    "# Plot the result\n",
    "\n",
    "import matplotlib.pyplot as plt\n",
    "\n",
    "# Black removed and is used for noise instead.\n",
    "unique_labels = set(labels)\n",
    "colors = [plt.cm.Spectral(each)\n",
    "          for each in np.linspace(0, 1, len(unique_labels))]\n",
    "for k, col in zip(unique_labels, colors):\n",
    "    if k == -1:\n",
    "        # Black used for noise.\n",
    "        col = [0, 0, 0, 1]\n",
    "\n",
    "    class_member_mask = (labels == k)\n",
    "\n",
    "    xy = rfm_array[class_member_mask & core_samples_mask]\n",
    "    plt.plot(xy[:, 0], xy[:, 1], 'o', markerfacecolor=tuple(col),\n",
    "             markeredgecolor='k', markersize=14)\n",
    "\n",
    "    xy = rfm_array[class_member_mask & ~core_samples_mask]\n",
    "    plt.plot(xy[:, 0], xy[:, 1], 'o', markerfacecolor=tuple(col),\n",
    "             markeredgecolor='k', markersize=6)\n",
    "\n",
    "plt.title('Estimated number of clusters: %d' % n_clusters_)\n",
    "plt.show()"
   ]
  },
  {
   "cell_type": "code",
   "execution_count": null,
   "id": "quarterly-tunnel",
   "metadata": {},
   "outputs": [],
   "source": [
    "# Create a subplot with 1 row and 2 columns\n",
    "#     fig, (ax1) = plt.subplots(1)\n",
    "#     fig.set_size_inches(18, 7)\n",
    "\n",
    "    # The 1st subplot is the silhouette plot\n",
    "    # The silhouette coefficient can range from -1, 1 but in this example all\n",
    "    # lie within [-0.1, 1]\n",
    "#     ax1.set_xlim([-0.1, 1])\n",
    "    # The (n_clusters+1)*10 is for inserting blank space between silhouette\n",
    "    # plots of individual clusters, to demarcate them clearly.\n",
    "#     ax1.set_ylim([0, len(rfm_array) + (k + 1) * 100])\n",
    "#     y_lower = 10\n",
    "#     for i in range(k):\n",
    "#         # Aggregate the silhouette scores for samples belonging to\n",
    "#         # cluster i, and sort them\n",
    "#         ith_cluster_silhouette_values = \\\n",
    "#             sample_silhouette_values[cluster_labels == i]\n",
    "\n",
    "#         ith_cluster_silhouette_values.sort()\n",
    "\n",
    "#         size_cluster_i = ith_cluster_silhouette_values.shape[0]\n",
    "#         y_upper = y_lower + size_cluster_i\n",
    "\n",
    "#         color = cm.nipy_spectral(float(i) / k)\n",
    "#         ax1.fill_betweenx(np.arange(y_lower, y_upper),\n",
    "#                           0, ith_cluster_silhouette_values,\n",
    "#                           facecolor=color, edgecolor=color, alpha=0.7)\n",
    "\n",
    "#         # Label the silhouette plots with their cluster numbers at the middle\n",
    "#         ax1.text(-0.05, y_lower + 0.5 * size_cluster_i, str(i))\n",
    "\n",
    "#         # Compute the new y_lower for next plot\n",
    "#         y_lower = y_upper + 10  # 10 for the 0 samples\n",
    "    \n",
    "#     ax1.set_title(\"The silhouette plot for the various clusters.\")\n",
    "#     ax1.set_xlabel(\"The silhouette coefficient values\")\n",
    "#     ax1.set_ylabel(\"Cluster label\")\n",
    "\n",
    "#     # The vertical line for average silhouette score of all the values\n",
    "#     ax1.axvline(x=score, color=\"red\", linestyle=\"--\")\n",
    "\n",
    "#     ax1.set_yticks([])  # Clear the yaxis labels / ticks\n",
    "#     ax1.set_xticks([-0.1, 0, 0.2, 0.4, 0.6, 0.8, 1])\n",
    "\n",
    "#     # 2nd Plot showing the actual clusters formed\n",
    "#     colors = cm.nipy_spectral(cluster_labels.astype(float) / k)\n",
    "#     ax2.scatter(rfm_array[:, 0], rfm_array[:, 1], marker='.', s=30, lw=0, alpha=0.7,\n",
    "#                 c=colors, edgecolor='k')\n",
    "\n",
    "#     # Labeling the clusters\n",
    "#     centers = km.cluster_centers_\n",
    "#     # Draw white circles at cluster centers\n",
    "#     ax2.scatter(centers[:, 0], centers[:, 1], marker='o',\n",
    "#                 c=\"white\", alpha=1, s=200, edgecolor='k')\n",
    "\n",
    "#     for i, c in enumerate(centers):\n",
    "#         ax2.scatter(c[0], c[1], marker='$%d$' % i, alpha=1,\n",
    "#                     s=50, edgecolor='k')\n",
    "\n",
    "#     ax2.set_title(\"The visualization of the clustered data.\")\n",
    "#     ax2.set_xlabel(\"Feature space for the 1st feature\")\n",
    "#     ax2.set_ylabel(\"Feature space for the 2nd feature\")\n",
    "\n",
    "#     plt.suptitle((\"Silhouette analysis for KMeans clustering on sample data \"\n",
    "#                   \"with n_clusters = %d\" % k),\n",
    "#                  fontsize=14, fontweight='bold')\n",
    "#     plt.savefig(f'online_retail_{k}_cluster_plots.pdf', format='pdf', bbox_inches='tight', facecolor=\"w\", dpi=520)\n",
    "    \n",
    "# optimal_cluster_size = max(score_list, key = itemgetter(1))[0]"
   ]
  }
 ],
 "metadata": {
  "kernelspec": {
   "display_name": "Python 3",
   "language": "python",
   "name": "python3"
  },
  "language_info": {
   "codemirror_mode": {
    "name": "ipython",
    "version": 3
   },
   "file_extension": ".py",
   "mimetype": "text/x-python",
   "name": "python",
   "nbconvert_exporter": "python",
   "pygments_lexer": "ipython3",
   "version": "3.7.5"
  }
 },
 "nbformat": 4,
 "nbformat_minor": 5
}
