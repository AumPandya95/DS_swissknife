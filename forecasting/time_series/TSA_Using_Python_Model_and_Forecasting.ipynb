{
 "cells": [
  {
   "cell_type": "code",
   "execution_count": 1,
   "id": "bridal-referral",
   "metadata": {},
   "outputs": [],
   "source": [
    "import numpy as np\n",
    "import timeit\n",
    "import pandas as pd\n",
    "import matplotlib.pyplot as plt\n",
    "\n",
    "import statsmodels.api as sm\n",
    "from statsmodels.tsa.arima.model import ARIMA"
   ]
  },
  {
   "cell_type": "markdown",
   "id": "surface-exemption",
   "metadata": {},
   "source": [
    "### CO2 Time Series Data\n",
    "### (1) ARIMA model with no seasonality"
   ]
  },
  {
   "cell_type": "code",
   "execution_count": 2,
   "id": "medical-sunrise",
   "metadata": {},
   "outputs": [
    {
     "data": {
      "text/html": [
       "<div>\n",
       "<style scoped>\n",
       "    .dataframe tbody tr th:only-of-type {\n",
       "        vertical-align: middle;\n",
       "    }\n",
       "\n",
       "    .dataframe tbody tr th {\n",
       "        vertical-align: top;\n",
       "    }\n",
       "\n",
       "    .dataframe thead th {\n",
       "        text-align: right;\n",
       "    }\n",
       "</style>\n",
       "<table border=\"1\" class=\"dataframe\">\n",
       "  <thead>\n",
       "    <tr style=\"text-align: right;\">\n",
       "      <th></th>\n",
       "      <th>Jan</th>\n",
       "      <th>Feb</th>\n",
       "      <th>Mar</th>\n",
       "      <th>Apr</th>\n",
       "      <th>May</th>\n",
       "      <th>Jun</th>\n",
       "      <th>Jul</th>\n",
       "      <th>Aug</th>\n",
       "      <th>Sep</th>\n",
       "      <th>Oct</th>\n",
       "      <th>Nov</th>\n",
       "      <th>Dec</th>\n",
       "    </tr>\n",
       "  </thead>\n",
       "  <tbody>\n",
       "    <tr>\n",
       "      <th>1994</th>\n",
       "      <td>363.05</td>\n",
       "      <td>364.18</td>\n",
       "      <td>364.87</td>\n",
       "      <td>364.47</td>\n",
       "      <td>364.32</td>\n",
       "      <td>362.13</td>\n",
       "      <td>356.72</td>\n",
       "      <td>350.88</td>\n",
       "      <td>350.69</td>\n",
       "      <td>356.06</td>\n",
       "      <td>360.09</td>\n",
       "      <td>363.27</td>\n",
       "    </tr>\n",
       "    <tr>\n",
       "      <th>1995</th>\n",
       "      <td>363.49</td>\n",
       "      <td>364.94</td>\n",
       "      <td>366.72</td>\n",
       "      <td>366.33</td>\n",
       "      <td>365.75</td>\n",
       "      <td>364.32</td>\n",
       "      <td>358.59</td>\n",
       "      <td>352.06</td>\n",
       "      <td>353.45</td>\n",
       "      <td>357.27</td>\n",
       "      <td>362.34</td>\n",
       "      <td>365.65</td>\n",
       "    </tr>\n",
       "    <tr>\n",
       "      <th>1996</th>\n",
       "      <td>366.93</td>\n",
       "      <td>366.71</td>\n",
       "      <td>367.63</td>\n",
       "      <td>368.15</td>\n",
       "      <td>369.14</td>\n",
       "      <td>367.33</td>\n",
       "      <td>361.53</td>\n",
       "      <td>356.11</td>\n",
       "      <td>354.51</td>\n",
       "      <td>360.12</td>\n",
       "      <td>363.85</td>\n",
       "      <td>365.52</td>\n",
       "    </tr>\n",
       "    <tr>\n",
       "      <th>1997</th>\n",
       "      <td>367.72</td>\n",
       "      <td>369.08</td>\n",
       "      <td>368.17</td>\n",
       "      <td>368.83</td>\n",
       "      <td>369.49</td>\n",
       "      <td>367.57</td>\n",
       "      <td>360.79</td>\n",
       "      <td>355.16</td>\n",
       "      <td>356.01</td>\n",
       "      <td>360.71</td>\n",
       "      <td>364.77</td>\n",
       "      <td>367.81</td>\n",
       "    </tr>\n",
       "    <tr>\n",
       "      <th>1998</th>\n",
       "      <td>369.40</td>\n",
       "      <td>370.12</td>\n",
       "      <td>370.88</td>\n",
       "      <td>370.53</td>\n",
       "      <td>371.56</td>\n",
       "      <td>369.28</td>\n",
       "      <td>364.50</td>\n",
       "      <td>357.46</td>\n",
       "      <td>360.54</td>\n",
       "      <td>364.04</td>\n",
       "      <td>368.74</td>\n",
       "      <td>371.58</td>\n",
       "    </tr>\n",
       "    <tr>\n",
       "      <th>1999</th>\n",
       "      <td>372.60</td>\n",
       "      <td>373.85</td>\n",
       "      <td>373.75</td>\n",
       "      <td>374.10</td>\n",
       "      <td>374.50</td>\n",
       "      <td>372.04</td>\n",
       "      <td>364.81</td>\n",
       "      <td>359.11</td>\n",
       "      <td>359.65</td>\n",
       "      <td>364.94</td>\n",
       "      <td>369.82</td>\n",
       "      <td>372.62</td>\n",
       "    </tr>\n",
       "    <tr>\n",
       "      <th>2000</th>\n",
       "      <td>373.23</td>\n",
       "      <td>375.13</td>\n",
       "      <td>374.83</td>\n",
       "      <td>375.42</td>\n",
       "      <td>376.18</td>\n",
       "      <td>374.01</td>\n",
       "      <td>366.54</td>\n",
       "      <td>360.78</td>\n",
       "      <td>361.77</td>\n",
       "      <td>367.51</td>\n",
       "      <td>370.58</td>\n",
       "      <td>373.37</td>\n",
       "    </tr>\n",
       "    <tr>\n",
       "      <th>2001</th>\n",
       "      <td>375.49</td>\n",
       "      <td>375.94</td>\n",
       "      <td>376.42</td>\n",
       "      <td>377.48</td>\n",
       "      <td>377.67</td>\n",
       "      <td>374.78</td>\n",
       "      <td>367.38</td>\n",
       "      <td>361.67</td>\n",
       "      <td>363.39</td>\n",
       "      <td>367.74</td>\n",
       "      <td>373.18</td>\n",
       "      <td>374.41</td>\n",
       "    </tr>\n",
       "    <tr>\n",
       "      <th>2002</th>\n",
       "      <td>376.68</td>\n",
       "      <td>377.42</td>\n",
       "      <td>378.27</td>\n",
       "      <td>378.73</td>\n",
       "      <td>379.01</td>\n",
       "      <td>375.95</td>\n",
       "      <td>370.78</td>\n",
       "      <td>364.07</td>\n",
       "      <td>365.36</td>\n",
       "      <td>370.25</td>\n",
       "      <td>374.04</td>\n",
       "      <td>377.99</td>\n",
       "    </tr>\n",
       "    <tr>\n",
       "      <th>2003</th>\n",
       "      <td>379.03</td>\n",
       "      <td>379.36</td>\n",
       "      <td>380.90</td>\n",
       "      <td>381.39</td>\n",
       "      <td>382.38</td>\n",
       "      <td>381.02</td>\n",
       "      <td>373.78</td>\n",
       "      <td>367.97</td>\n",
       "      <td>368.55</td>\n",
       "      <td>372.28</td>\n",
       "      <td>377.75</td>\n",
       "      <td>379.99</td>\n",
       "    </tr>\n",
       "    <tr>\n",
       "      <th>2004</th>\n",
       "      <td>382.44</td>\n",
       "      <td>382.36</td>\n",
       "      <td>381.58</td>\n",
       "      <td>383.21</td>\n",
       "      <td>383.58</td>\n",
       "      <td>382.59</td>\n",
       "      <td>374.58</td>\n",
       "      <td>368.69</td>\n",
       "      <td>368.55</td>\n",
       "      <td>373.39</td>\n",
       "      <td>378.49</td>\n",
       "      <td>381.62</td>\n",
       "    </tr>\n",
       "  </tbody>\n",
       "</table>\n",
       "</div>"
      ],
      "text/plain": [
       "         Jan     Feb     Mar     Apr     May     Jun     Jul     Aug     Sep  \\\n",
       "1994  363.05  364.18  364.87  364.47  364.32  362.13  356.72  350.88  350.69   \n",
       "1995  363.49  364.94  366.72  366.33  365.75  364.32  358.59  352.06  353.45   \n",
       "1996  366.93  366.71  367.63  368.15  369.14  367.33  361.53  356.11  354.51   \n",
       "1997  367.72  369.08  368.17  368.83  369.49  367.57  360.79  355.16  356.01   \n",
       "1998  369.40  370.12  370.88  370.53  371.56  369.28  364.50  357.46  360.54   \n",
       "1999  372.60  373.85  373.75  374.10  374.50  372.04  364.81  359.11  359.65   \n",
       "2000  373.23  375.13  374.83  375.42  376.18  374.01  366.54  360.78  361.77   \n",
       "2001  375.49  375.94  376.42  377.48  377.67  374.78  367.38  361.67  363.39   \n",
       "2002  376.68  377.42  378.27  378.73  379.01  375.95  370.78  364.07  365.36   \n",
       "2003  379.03  379.36  380.90  381.39  382.38  381.02  373.78  367.97  368.55   \n",
       "2004  382.44  382.36  381.58  383.21  383.58  382.59  374.58  368.69  368.55   \n",
       "\n",
       "         Oct     Nov     Dec  \n",
       "1994  356.06  360.09  363.27  \n",
       "1995  357.27  362.34  365.65  \n",
       "1996  360.12  363.85  365.52  \n",
       "1997  360.71  364.77  367.81  \n",
       "1998  364.04  368.74  371.58  \n",
       "1999  364.94  369.82  372.62  \n",
       "2000  367.51  370.58  373.37  \n",
       "2001  367.74  373.18  374.41  \n",
       "2002  370.25  374.04  377.99  \n",
       "2003  372.28  377.75  379.99  \n",
       "2004  373.39  378.49  381.62  "
      ]
     },
     "execution_count": 2,
     "metadata": {},
     "output_type": "execute_result"
    }
   ],
   "source": [
    "co2_data = pd.read_csv('/home/aumaron/Desktop/other_projects/datasets/TS_CO2_Data.csv')\n",
    "co2_data"
   ]
  },
  {
   "cell_type": "code",
   "execution_count": 3,
   "id": "particular-tuesday",
   "metadata": {},
   "outputs": [
    {
     "data": {
      "text/plain": [
       "array([363.05, 364.18, 364.87, 364.47, 364.32, 362.13, 356.72, 350.88,\n",
       "       350.69, 356.06, 360.09, 363.27, 363.49, 364.94, 366.72, 366.33,\n",
       "       365.75, 364.32, 358.59, 352.06, 353.45, 357.27, 362.34, 365.65,\n",
       "       366.93, 366.71, 367.63, 368.15, 369.14, 367.33, 361.53, 356.11,\n",
       "       354.51, 360.12, 363.85, 365.52, 367.72, 369.08, 368.17, 368.83,\n",
       "       369.49, 367.57, 360.79, 355.16, 356.01, 360.71, 364.77, 367.81,\n",
       "       369.4 , 370.12, 370.88, 370.53, 371.56, 369.28, 364.5 , 357.46,\n",
       "       360.54, 364.04, 368.74, 371.58, 372.6 , 373.85, 373.75, 374.1 ,\n",
       "       374.5 , 372.04, 364.81, 359.11, 359.65, 364.94, 369.82, 372.62,\n",
       "       373.23, 375.13, 374.83, 375.42, 376.18, 374.01, 366.54, 360.78,\n",
       "       361.77, 367.51, 370.58, 373.37, 375.49, 375.94, 376.42, 377.48,\n",
       "       377.67, 374.78, 367.38, 361.67, 363.39, 367.74, 373.18, 374.41,\n",
       "       376.68, 377.42, 378.27, 378.73, 379.01, 375.95, 370.78, 364.07,\n",
       "       365.36, 370.25, 374.04, 377.99, 379.03, 379.36, 380.9 , 381.39,\n",
       "       382.38, 381.02, 373.78, 367.97, 368.55, 372.28, 377.75, 379.99,\n",
       "       382.44, 382.36, 381.58, 383.21, 383.58, 382.59, 374.58, 368.69,\n",
       "       368.55, 373.39, 378.49, 381.62])"
      ]
     },
     "execution_count": 3,
     "metadata": {},
     "output_type": "execute_result"
    }
   ],
   "source": [
    "# Convert from matrix to vector\n",
    "co2_vector = co2_data.values.flatten()\n",
    "co2_vector\n",
    "# co2_vec = pd.DataFrame(co2_vector, columns = [\"date\", \"levels\"])"
   ]
  },
  {
   "cell_type": "markdown",
   "id": "sitting-repository",
   "metadata": {},
   "source": [
    "### ACF and PACF"
   ]
  },
  {
   "cell_type": "code",
   "execution_count": 4,
   "id": "loving-moment",
   "metadata": {},
   "outputs": [
    {
     "data": {
      "image/png": "[encoded data removed]",
      "text/plain": [
       "<Figure size 1080x720 with 2 Axes>"
      ]
     },
     "metadata": {
      "needs_background": "light"
     },
     "output_type": "display_data"
    }
   ],
   "source": [
    "figure = plt.figure(figsize=(15,10))\n",
    "axis1 = figure.add_subplot(211)\n",
    "fig = sm.graphics.tsa.plot_acf(co2_vector, lags=50, ax=axis1)\n",
    "axis2 = figure.add_subplot(212)\n",
    "fig = sm.graphics.tsa.plot_pacf(co2_vector, lags=50, ax=axis2)"
   ]
  },
  {
   "cell_type": "code",
   "execution_count": 5,
   "id": "informed-robertson",
   "metadata": {},
   "outputs": [
    {
     "name": "stderr",
     "output_type": "stream",
     "text": [
      "/home/aumaron/Desktop/other_projects/venv/lib/python3.7/site-packages/statsmodels/tsa/statespace/sarimax.py:978: UserWarning: Non-invertible starting MA parameters found. Using zeros as starting parameters.\n",
      "  warn('Non-invertible starting MA parameters found.'\n"
     ]
    }
   ],
   "source": [
    "# %%timeit -n 1000\n",
    "co2_composite_model_011 = ARIMA(endog=co2_vector, order=(1, 0, 1)).fit()\n",
    "# y_t = const + coef*y_t-1"
   ]
  },
  {
   "cell_type": "code",
   "execution_count": 6,
   "id": "geographic-friendship",
   "metadata": {},
   "outputs": [
    {
     "name": "stdout",
     "output_type": "stream",
     "text": [
      "                               SARIMAX Results                                \n",
      "==============================================================================\n",
      "Dep. Variable:                      y   No. Observations:                  132\n",
      "Model:                 ARIMA(1, 0, 1)   Log Likelihood                -310.238\n",
      "Date:                Mon, 17 May 2021   AIC                            628.476\n",
      "Time:                        14:19:03   BIC                            640.007\n",
      "Sample:                             0   HQIC                           633.161\n",
      "                                - 132                                         \n",
      "Covariance Type:                  opg                                         \n",
      "==============================================================================\n",
      "                 coef    std err          z      P>|z|      [0.025      0.975]\n",
      "------------------------------------------------------------------------------\n",
      "const        369.3727      2.893    127.698      0.000     363.703     375.042\n",
      "ar.L1          0.8531      0.048     17.643      0.000       0.758       0.948\n",
      "ma.L1          0.6889      0.078      8.797      0.000       0.535       0.842\n",
      "sigma2         6.3026      0.853      7.385      0.000       4.630       7.975\n",
      "===================================================================================\n",
      "Ljung-Box (L1) (Q):                   9.24   Jarque-Bera (JB):                 6.88\n",
      "Prob(Q):                              0.00   Prob(JB):                         0.03\n",
      "Heteroskedasticity (H):               1.29   Skew:                            -0.56\n",
      "Prob(H) (two-sided):                  0.41   Kurtosis:                         3.04\n",
      "===================================================================================\n",
      "\n",
      "Warnings:\n",
      "[1] Covariance matrix calculated using the outer product of gradients (complex-step).\n"
     ]
    }
   ],
   "source": [
    "print(co2_composite_model_011.summary())"
   ]
  },
  {
   "cell_type": "code",
   "execution_count": 7,
   "id": "soviet-generation",
   "metadata": {},
   "outputs": [
    {
     "data": {
      "text/plain": [
       "array([381.69028675, 379.88053122, 378.33667293, 377.01964508,\n",
       "       375.89612076, 374.93766957, 374.12003824, 373.4225369 ,\n",
       "       372.82751552, 372.3199173 , 371.88689764, 371.51749914,\n",
       "       371.20237428])"
      ]
     },
     "execution_count": 7,
     "metadata": {},
     "output_type": "execute_result"
    }
   ],
   "source": [
    "# Option 1: Predict the next 12 values by choosing '132' as the start index for out-of-sample prediction\n",
    "predict_co2 = co2_composite_model_011.predict(132, 132+12)\n",
    "predict_co2"
   ]
  },
  {
   "cell_type": "code",
   "execution_count": 8,
   "id": "peaceful-hormone",
   "metadata": {},
   "outputs": [
    {
     "data": {
      "text/plain": [
       "381.00050424"
      ]
     },
     "execution_count": 8,
     "metadata": {},
     "output_type": "execute_result"
    }
   ],
   "source": [
    "0.9506*(co2_vector[131] - 369.0796) + 369.0796"
   ]
  },
  {
   "cell_type": "markdown",
   "id": "funky-field",
   "metadata": {},
   "source": [
    "### (2) ARIMA model with seasonal and non-seasonal components"
   ]
  },
  {
   "cell_type": "code",
   "execution_count": 9,
   "id": "perfect-request",
   "metadata": {},
   "outputs": [
    {
     "name": "stderr",
     "output_type": "stream",
     "text": [
      "/home/aumaron/Desktop/other_projects/venv/lib/python3.7/site-packages/statsmodels/tsa/statespace/sarimax.py:978: UserWarning: Non-invertible starting MA parameters found. Using zeros as starting parameters.\n",
      "  warn('Non-invertible starting MA parameters found.'\n"
     ]
    }
   ],
   "source": [
    "# %%timeit -n 10\n",
    "co2_composite_model_011 = ARIMA(endog=co2_vector, order=(1, 0, 1)).fit()"
   ]
  },
  {
   "cell_type": "markdown",
   "id": "daily-turtle",
   "metadata": {},
   "source": [
    "print(co2_composite_model_011.summary())"
   ]
  },
  {
   "cell_type": "markdown",
   "id": "hollywood-arizona",
   "metadata": {},
   "source": [
    "### Code for out-of-sample forecasting & corresponding confidence interval"
   ]
  },
  {
   "cell_type": "code",
   "execution_count": 10,
   "id": "deadly-marshall",
   "metadata": {},
   "outputs": [
    {
     "data": {
      "text/plain": [
       "array([381.69028675, 379.88053122, 378.33667293, 377.01964508,\n",
       "       375.89612076, 374.93766957, 374.12003824, 373.4225369 ,\n",
       "       372.82751552, 372.3199173 , 371.88689764, 371.51749914,\n",
       "       371.20237428])"
      ]
     },
     "execution_count": 10,
     "metadata": {},
     "output_type": "execute_result"
    }
   ],
   "source": [
    "predict_co2"
   ]
  },
  {
   "cell_type": "code",
   "execution_count": 11,
   "id": "loose-watts",
   "metadata": {},
   "outputs": [],
   "source": [
    "co2_composite_model_011# Option 2: Perform forecasting using ARIMAResults object\n",
    "predict_co2_oos = co2_composite_model_011.forecast(steps=12)"
   ]
  },
  {
   "cell_type": "code",
   "execution_count": 12,
   "id": "laughing-weight",
   "metadata": {},
   "outputs": [
    {
     "data": {
      "text/plain": [
       "array([381.69028675, 379.88053122, 378.33667293, 377.01964508,\n",
       "       375.89612076, 374.93766957, 374.12003824, 373.4225369 ,\n",
       "       372.82751552, 372.3199173 , 371.88689764, 371.51749914])"
      ]
     },
     "execution_count": 12,
     "metadata": {},
     "output_type": "execute_result"
    }
   ],
   "source": [
    "predict_co2_oos"
   ]
  },
  {
   "cell_type": "code",
   "execution_count": 13,
   "id": "catholic-blogger",
   "metadata": {},
   "outputs": [],
   "source": [
    "# Option 3: Perform forecasting using ARIMAResults object with confidence interval\n",
    "predict_co2_PI_oos = co2_composite_model_011.get_forecast(steps=12)"
   ]
  },
  {
   "cell_type": "code",
   "execution_count": 14,
   "id": "concrete-convergence",
   "metadata": {},
   "outputs": [
    {
     "data": {
      "text/plain": [
       "array([381.69028675, 379.88053122, 378.33667293, 377.01964508,\n",
       "       375.89612076, 374.93766957, 374.12003824, 373.4225369 ,\n",
       "       372.82751552, 372.3199173 , 371.88689764, 371.51749914])"
      ]
     },
     "execution_count": 14,
     "metadata": {},
     "output_type": "execute_result"
    }
   ],
   "source": [
    "predict_co2_PI_oos.predicted_mean"
   ]
  },
  {
   "cell_type": "code",
   "execution_count": 15,
   "id": "black-appreciation",
   "metadata": {},
   "outputs": [
    {
     "data": {
      "text/plain": [
       "True"
      ]
     },
     "execution_count": 15,
     "metadata": {},
     "output_type": "execute_result"
    }
   ],
   "source": [
    "# Results are identical to those obtained using 'forecast'\n",
    "np.all(predict_co2_PI_oos.predicted_mean == predict_co2_oos)"
   ]
  },
  {
   "cell_type": "code",
   "execution_count": 16,
   "id": "consistent-birth",
   "metadata": {},
   "outputs": [
    {
     "data": {
      "text/plain": [
       "array([[376.76980808, 386.61076542],\n",
       "       [370.83746643, 388.92359601],\n",
       "       [367.21597508, 389.45737077],\n",
       "       [364.60364834, 389.43564182],\n",
       "       [362.6166794 , 389.17556211],\n",
       "       [361.06360797, 388.81173117],\n",
       "       [359.82879409, 388.41128239],\n",
       "       [358.83519189, 388.00988191],\n",
       "       [358.02841069, 387.62662036],\n",
       "       [357.3685922 , 387.27124241],\n",
       "       [356.82576322, 386.94803206],\n",
       "       [356.37695297, 386.6580453 ]])"
      ]
     },
     "execution_count": 16,
     "metadata": {},
     "output_type": "execute_result"
    }
   ],
   "source": [
    "# 95% confidence interval for each of the 12 out-of-sample forecasted values\n",
    "predict_co2_PI_oos.conf_int(alpha=0.05)"
   ]
  },
  {
   "cell_type": "markdown",
   "id": "prospective-constraint",
   "metadata": {},
   "source": [
    "### Forward chaining"
   ]
  },
  {
   "cell_type": "code",
   "execution_count": 9,
   "id": "aggressive-filter",
   "metadata": {},
   "outputs": [],
   "source": [
    "from sklearn.model_selection import TimeSeriesSplit"
   ]
  },
  {
   "cell_type": "code",
   "execution_count": 10,
   "id": "tamil-halifax",
   "metadata": {},
   "outputs": [],
   "source": [
    "tscv = TimeSeriesSplit(n_splits=3, test_size=3)"
   ]
  },
  {
   "cell_type": "code",
   "execution_count": 26,
   "id": "abstract-gothic",
   "metadata": {},
   "outputs": [
    {
     "name": "stdout",
     "output_type": "stream",
     "text": [
      "TRAIN: [  0   1   2   3   4   5   6   7   8   9  10  11  12  13  14  15  16  17\n",
      "  18  19  20  21  22  23  24  25  26  27  28  29  30  31  32  33  34  35\n",
      "  36  37  38  39  40  41  42  43  44  45  46  47  48  49  50  51  52  53\n",
      "  54  55  56  57  58  59  60  61  62  63  64  65  66  67  68  69  70  71\n",
      "  72  73  74  75  76  77  78  79  80  81  82  83  84  85  86  87  88  89\n",
      "  90  91  92  93  94  95  96  97  98  99 100 101 102 103 104 105 106 107\n",
      " 108 109 110 111 112 113 114 115 116 117 118 119 120 121 122] TEST: [123 124 125]\n",
      "Actual:  [383.21 383.58 382.59]\n",
      "Predict:  [380.77434954 378.99172313 377.47461009]\n",
      "TRAIN: [  0   1   2   3   4   5   6   7   8   9  10  11  12  13  14  15  16  17\n",
      "  18  19  20  21  22  23  24  25  26  27  28  29  30  31  32  33  34  35\n",
      "  36  37  38  39  40  41  42  43  44  45  46  47  48  49  50  51  52  53\n",
      "  54  55  56  57  58  59  60  61  62  63  64  65  66  67  68  69  70  71\n",
      "  72  73  74  75  76  77  78  79  80  81  82  83  84  85  86  87  88  89\n",
      "  90  91  92  93  94  95  96  97  98  99 100 101 102 103 104 105 106 107\n",
      " 108 109 110 111 112 113 114 115 116 117 118 119 120 121 122 123 124 125] TEST: [126 127 128]\n",
      "Actual:  [374.58 368.69 368.55]\n",
      "Predict:  [381.07783607 379.42893956 378.00799862]\n",
      "TRAIN: [  0   1   2   3   4   5   6   7   8   9  10  11  12  13  14  15  16  17\n",
      "  18  19  20  21  22  23  24  25  26  27  28  29  30  31  32  33  34  35\n",
      "  36  37  38  39  40  41  42  43  44  45  46  47  48  49  50  51  52  53\n",
      "  54  55  56  57  58  59  60  61  62  63  64  65  66  67  68  69  70  71\n",
      "  72  73  74  75  76  77  78  79  80  81  82  83  84  85  86  87  88  89\n",
      "  90  91  92  93  94  95  96  97  98  99 100 101 102 103 104 105 106 107\n",
      " 108 109 110 111 112 113 114 115 116 117 118 119 120 121 122 123 124 125\n",
      " 126 127 128] TEST: [129 130 131]\n",
      "Actual:  [373.39 378.49 381.62]\n",
      "Predict:  [368.75616168 368.73034695 368.70857978]\n"
     ]
    },
    {
     "name": "stderr",
     "output_type": "stream",
     "text": [
      "/home/aumaron/Desktop/other_projects/venv/lib/python3.7/site-packages/statsmodels/tsa/statespace/sarimax.py:978: UserWarning: Non-invertible starting MA parameters found. Using zeros as starting parameters.\n",
      "  warn('Non-invertible starting MA parameters found.'\n"
     ]
    }
   ],
   "source": [
    "pred_mean = []\n",
    "actual = []\n",
    "conf_interval = []\n",
    "for train_index, test_index in tscv.split(co2_vector):\n",
    "    print(\"TRAIN:\", train_index, \"TEST:\", test_index)\n",
    "    X_train, X_test = co2_vector[train_index], co2_vector[test_index]\n",
    "    _model = ARIMA(endog=X_train, order=(1, 0, 1)).fit()\n",
    "    predict = _model.get_forecast(steps=3)\n",
    "    pred_mean.extend(predict.predicted_mean)\n",
    "    actual.extend(X_test)\n",
    "    conf_interval.extend(predict.conf_int(alpha=0.05))\n",
    "\n",
    "    print(\"Actual: \", co2_vector[test_index])\n",
    "    print(\"Predict: \", predict.predicted_mean)\n",
    "    "
   ]
  },
  {
   "cell_type": "code",
   "execution_count": 28,
   "id": "instrumental-celtic",
   "metadata": {},
   "outputs": [
    {
     "name": "stdout",
     "output_type": "stream",
     "text": [
      "[383.21, 383.58, 382.59, 374.58, 368.69, 368.55, 373.39, 378.49, 381.62]\n",
      "[array([375.93929279, 385.60940629]), array([370.14181195, 387.84163431]), array([366.60649369, 388.34272649]), array([376.28138126, 385.87429089]), array([370.59786206, 388.26001706]), array([367.10760891, 388.90838833]), array([363.88539064, 373.62693272]), array([359.81187151, 377.64882239]), array([357.78963151, 379.62752805])]\n"
     ]
    }
   ],
   "source": [
    "print(actual) \n",
    "print(conf_interval)"
   ]
  },
  {
   "cell_type": "code",
   "execution_count": 27,
   "id": "recreational-milwaukee",
   "metadata": {},
   "outputs": [
    {
     "data": {
      "text/plain": [
       "[True, True, True, False, False, True, True, False, False]"
      ]
     },
     "execution_count": 27,
     "metadata": {},
     "output_type": "execute_result"
    }
   ],
   "source": [
    "diff = []\n",
    "lies_within = []\n",
    "for i, _ in enumerate(actual):\n",
    "    if _ >= conf_interval[i][0] and _ <= conf_interval[i][1]:\n",
    "        lies_within.append(True)\n",
    "    else:\n",
    "        lies_within.append(False)\n",
    "        \n",
    "lies_within"
   ]
  },
  {
   "cell_type": "code",
   "execution_count": 31,
   "id": "optional-earthquake",
   "metadata": {},
   "outputs": [],
   "source": [
    "a = pd.DataFrame({\n",
    "    \"Actual\": actual,\n",
    "    \"Forecast\": pred_mean,\n",
    "    \"lower_limit\": [interval[0] for interval in conf_interval],\n",
    "    \"upper_limit\": [interval[1] for interval in conf_interval],\n",
    "    \"forecast_within_limit\": lies_within\n",
    "})"
   ]
  },
  {
   "cell_type": "code",
   "execution_count": 32,
   "id": "heavy-evening",
   "metadata": {},
   "outputs": [
    {
     "data": {
      "text/html": [
       "<div>\n",
       "<style scoped>\n",
       "    .dataframe tbody tr th:only-of-type {\n",
       "        vertical-align: middle;\n",
       "    }\n",
       "\n",
       "    .dataframe tbody tr th {\n",
       "        vertical-align: top;\n",
       "    }\n",
       "\n",
       "    .dataframe thead th {\n",
       "        text-align: right;\n",
       "    }\n",
       "</style>\n",
       "<table border=\"1\" class=\"dataframe\">\n",
       "  <thead>\n",
       "    <tr style=\"text-align: right;\">\n",
       "      <th></th>\n",
       "      <th>Actual</th>\n",
       "      <th>Forecast</th>\n",
       "      <th>lower_limit</th>\n",
       "      <th>upper_limit</th>\n",
       "      <th>forecast_within_limit</th>\n",
       "    </tr>\n",
       "  </thead>\n",
       "  <tbody>\n",
       "    <tr>\n",
       "      <th>0</th>\n",
       "      <td>383.21</td>\n",
       "      <td>380.774350</td>\n",
       "      <td>375.939293</td>\n",
       "      <td>385.609406</td>\n",
       "      <td>True</td>\n",
       "    </tr>\n",
       "    <tr>\n",
       "      <th>1</th>\n",
       "      <td>383.58</td>\n",
       "      <td>378.991723</td>\n",
       "      <td>370.141812</td>\n",
       "      <td>387.841634</td>\n",
       "      <td>True</td>\n",
       "    </tr>\n",
       "    <tr>\n",
       "      <th>2</th>\n",
       "      <td>382.59</td>\n",
       "      <td>377.474610</td>\n",
       "      <td>366.606494</td>\n",
       "      <td>388.342726</td>\n",
       "      <td>True</td>\n",
       "    </tr>\n",
       "    <tr>\n",
       "      <th>3</th>\n",
       "      <td>374.58</td>\n",
       "      <td>381.077836</td>\n",
       "      <td>376.281381</td>\n",
       "      <td>385.874291</td>\n",
       "      <td>False</td>\n",
       "    </tr>\n",
       "    <tr>\n",
       "      <th>4</th>\n",
       "      <td>368.69</td>\n",
       "      <td>379.428940</td>\n",
       "      <td>370.597862</td>\n",
       "      <td>388.260017</td>\n",
       "      <td>False</td>\n",
       "    </tr>\n",
       "    <tr>\n",
       "      <th>5</th>\n",
       "      <td>368.55</td>\n",
       "      <td>378.007999</td>\n",
       "      <td>367.107609</td>\n",
       "      <td>388.908388</td>\n",
       "      <td>True</td>\n",
       "    </tr>\n",
       "    <tr>\n",
       "      <th>6</th>\n",
       "      <td>373.39</td>\n",
       "      <td>368.756162</td>\n",
       "      <td>363.885391</td>\n",
       "      <td>373.626933</td>\n",
       "      <td>True</td>\n",
       "    </tr>\n",
       "    <tr>\n",
       "      <th>7</th>\n",
       "      <td>378.49</td>\n",
       "      <td>368.730347</td>\n",
       "      <td>359.811872</td>\n",
       "      <td>377.648822</td>\n",
       "      <td>False</td>\n",
       "    </tr>\n",
       "    <tr>\n",
       "      <th>8</th>\n",
       "      <td>381.62</td>\n",
       "      <td>368.708580</td>\n",
       "      <td>357.789632</td>\n",
       "      <td>379.627528</td>\n",
       "      <td>False</td>\n",
       "    </tr>\n",
       "  </tbody>\n",
       "</table>\n",
       "</div>"
      ],
      "text/plain": [
       "   Actual    Forecast  lower_limit  upper_limit  forecast_within_limit\n",
       "0  383.21  380.774350   375.939293   385.609406                   True\n",
       "1  383.58  378.991723   370.141812   387.841634                   True\n",
       "2  382.59  377.474610   366.606494   388.342726                   True\n",
       "3  374.58  381.077836   376.281381   385.874291                  False\n",
       "4  368.69  379.428940   370.597862   388.260017                  False\n",
       "5  368.55  378.007999   367.107609   388.908388                   True\n",
       "6  373.39  368.756162   363.885391   373.626933                   True\n",
       "7  378.49  368.730347   359.811872   377.648822                  False\n",
       "8  381.62  368.708580   357.789632   379.627528                  False"
      ]
     },
     "execution_count": 32,
     "metadata": {},
     "output_type": "execute_result"
    }
   ],
   "source": [
    "a"
   ]
  },
  {
   "cell_type": "code",
   "execution_count": 21,
   "id": "korean-control",
   "metadata": {},
   "outputs": [
    {
     "data": {
      "text/plain": [
       "array([375.93929279, 385.60940629])"
      ]
     },
     "execution_count": 21,
     "metadata": {},
     "output_type": "execute_result"
    }
   ],
   "source": [
    "conf_interval[0][0]"
   ]
  },
  {
   "cell_type": "code",
   "execution_count": null,
   "id": "final-cartridge",
   "metadata": {},
   "outputs": [],
   "source": [
    "col_names = Actual, pred_mean, lower_ci, upper_ci, within_interval"
   ]
  }
 ],
 "metadata": {
  "kernelspec": {
   "display_name": "Python 3 (ipykernel)",
   "language": "python",
   "name": "python3"
  },
  "language_info": {
   "codemirror_mode": {
    "name": "ipython",
    "version": 3
   },
   "file_extension": ".py",
   "mimetype": "text/x-python",
   "name": "python",
   "nbconvert_exporter": "python",
   "pygments_lexer": "ipython3",
   "version": "3.8.10"
  }
 },
 "nbformat": 4,
 "nbformat_minor": 5
}
