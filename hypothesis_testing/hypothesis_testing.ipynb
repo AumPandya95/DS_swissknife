{
 "cells": [
  {
   "cell_type": "code",
   "execution_count": 1,
   "id": "complete-cambodia",
   "metadata": {},
   "outputs": [],
   "source": [
    "import pandas as pd\n",
    "import numpy as np\n",
    "from statsmodels.stats import weightstats as stests"
   ]
  },
  {
   "cell_type": "code",
   "execution_count": 2,
   "id": "single-station",
   "metadata": {},
   "outputs": [
    {
     "name": "stdout",
     "output_type": "stream",
     "text": [
      "/home/aumaron/Desktop/other_projects/hypothesis_testing\n"
     ]
    }
   ],
   "source": [
    "# Data\n",
    "import os\n",
    "print(os.getcwd())\n",
    "demand_forecast = pd.read_excel(\"/home/aumaron/Desktop/other_projects/datasets/Daily_Demand_Forecasting_Orders.xlsx\", engine=\"openpyxl\")\n",
    "demand_forecast.dropna(how=\"all\", subset=[\"Target (Total orders)\"], inplace=True)\n",
    "\n",
    "demand_forecast.fillna(demand_forecast.mean(), inplace=True)\n"
   ]
  },
  {
   "cell_type": "code",
   "execution_count": 3,
   "id": "grateful-kernel",
   "metadata": {},
   "outputs": [],
   "source": [
    "total_order_monday = demand_forecast[demand_forecast['Day of the week (Monday to Friday)'] == 2]['Target (Total orders)'].values\n",
    "total_order_tuesday = demand_forecast[demand_forecast['Day of the week (Monday to Friday)'] == 3]['Target (Total orders)'].values\n",
    "total_order_wednesday = demand_forecast[demand_forecast['Day of the week (Monday to Friday)'] == 4]['Target (Total orders)'].values\n",
    "total_order_thursday = demand_forecast[demand_forecast['Day of the week (Monday to Friday)'] == 5]['Target (Total orders)'].values\n",
    "total_order_friday = demand_forecast[demand_forecast['Day of the week (Monday to Friday)'] == 6]['Target (Total orders)'].values\n"
   ]
  },
  {
   "cell_type": "code",
   "execution_count": 4,
   "id": "synthetic-assistant",
   "metadata": {},
   "outputs": [],
   "source": [
    "np.savetxt(\"monday.csv\", np.array(total_order_monday), delimiter=\",\")\n",
    "np.savetxt(\"tuesday.csv\", np.array(total_order_tuesday), delimiter=\",\")\n",
    "np.savetxt(\"wednesday.csv\", np.array(total_order_wednesday), delimiter=\",\")\n",
    "np.savetxt(\"thursday.csv\", np.array(total_order_thursday), delimiter=\",\")\n",
    "np.savetxt(\"friday.csv\", np.array(total_order_friday), delimiter=\",\")"
   ]
  },
  {
   "cell_type": "markdown",
   "id": "developmental-modern",
   "metadata": {},
   "source": [
    "### Two-sample Z-test"
   ]
  },
  {
   "cell_type": "code",
   "execution_count": 4,
   "id": "mobile-roots",
   "metadata": {},
   "outputs": [
    {
     "name": "stdout",
     "output_type": "stream",
     "text": [
      "stat=4.3464870089, p=0.0000138335\n",
      "reject null hypothesis\n"
     ]
    }
   ],
   "source": [
    "ztest ,pval1 = stests.ztest(total_order_monday, x2=total_order_friday, value=0,alternative='two-sided')\n",
    "print('stat=%.10f, p=%.10f' % (ztest, pval1))\n",
    "if pval1<0.05:\n",
    "    print(\"reject null hypothesis\")\n",
    "else:\n",
    "    print(\"accept null hypothesis\")"
   ]
  },
  {
   "cell_type": "markdown",
   "id": "dominant-marshall",
   "metadata": {},
   "source": [
    "### Independent Samples t-test"
   ]
  },
  {
   "cell_type": "code",
   "execution_count": 5,
   "id": "behavioral-bowling",
   "metadata": {},
   "outputs": [
    {
     "name": "stdout",
     "output_type": "stream",
     "text": [
      "stat=4.3464870089, p=0.0002837355\n",
      "reject null hypothesis\n"
     ]
    }
   ],
   "source": [
    "from scipy.stats import ttest_ind\n",
    "stat, p = ttest_ind(total_order_monday, \n",
    "                    total_order_friday)\n",
    "print('stat=%.10f, p=%.10f' % (stat, p))\n",
    "if p > 0.05:\n",
    "    print('accept null hypothesis')\n",
    "else:\n",
    "    print('reject null hypothesis')"
   ]
  },
  {
   "cell_type": "markdown",
   "id": "incorporated-issue",
   "metadata": {},
   "source": [
    "### Chi-Squared test"
   ]
  },
  {
   "cell_type": "code",
   "execution_count": 6,
   "id": "answering-broadway",
   "metadata": {},
   "outputs": [
    {
     "name": "stdout",
     "output_type": "stream",
     "text": [
      "Degrees of freedom -> 2\n",
      "stat=30.0701490958, p=0.0000002954\n",
      "Dependent\n"
     ]
    }
   ],
   "source": [
    "# Test of Independence\n",
    "from scipy.stats import chi2_contingency\n",
    "table = [[762, 327, 468],[484,  239,  477]]\n",
    "stat, p, dof, expected = chi2_contingency(table)\n",
    "print(\"Degrees of freedom ->\", dof)\n",
    "print('stat=%.10f, p=%.10f' % (stat, p))\n",
    "if p > 0.05:\n",
    "    print('Independent')\n",
    "else:\n",
    "    print('Dependent')"
   ]
  },
  {
   "cell_type": "code",
   "execution_count": 7,
   "id": "psychological-teddy",
   "metadata": {},
   "outputs": [
    {
     "name": "stdout",
     "output_type": "stream",
     "text": [
      "stat=0.4700239808, p=0.9254258951\n",
      "Even Distribution\n"
     ]
    }
   ],
   "source": [
    "# Goodness of fit test\n",
    "from scipy.stats import chisquare\n",
    "obs = [315, 108, 101, 32]\n",
    "exp_prob = [9, 3, 3, 1]\n",
    "exp_prob = np.array([i/sum(exp_prob) for i in exp_prob])\n",
    "exp_prob = exp_prob*sum(obs)\n",
    "stat, p = chisquare(f_obs=obs, f_exp=exp_prob)\n",
    "print('stat=%.10f, p=%.10f' % (stat, p))\n",
    "if p > 0.05:\n",
    "    print('Even Distribution')\n",
    "else:\n",
    "    print('Distribution not even')"
   ]
  },
  {
   "cell_type": "code",
   "execution_count": 8,
   "id": "elder-assets",
   "metadata": {},
   "outputs": [
    {
     "data": {
      "text/plain": [
       "Power_divergenceResult(statistic=3.5, pvalue=0.6233876277495822)"
      ]
     },
     "execution_count": 8,
     "metadata": {},
     "output_type": "execute_result"
    }
   ],
   "source": [
    "chisquare([16, 18, 16, 14, 12, 12], f_exp=[16, 16, 16, 16, 16, 8])"
   ]
  },
  {
   "cell_type": "code",
   "execution_count": 9,
   "id": "verbal-leader",
   "metadata": {},
   "outputs": [
    {
     "data": {
      "text/plain": [
       "array([312.75, 104.25, 104.25,  34.75])"
      ]
     },
     "execution_count": 9,
     "metadata": {},
     "output_type": "execute_result"
    }
   ],
   "source": [
    "exp_prob = [9, 3, 3, 1]\n",
    "exp_prob = np.array([i/sum(exp_prob) for i in exp_prob])\n",
    "exp_prob = exp_prob*sum(obs)\n",
    "exp_prob"
   ]
  },
  {
   "cell_type": "code",
   "execution_count": 10,
   "id": "pressing-firewall",
   "metadata": {
    "scrolled": true
   },
   "outputs": [
    {
     "data": {
      "text/plain": [
       "Power_divergenceResult(statistic=18241.333333333332, pvalue=0.0)"
      ]
     },
     "execution_count": 10,
     "metadata": {},
     "output_type": "execute_result"
    }
   ],
   "source": [
    "chisquare([315, 108, 101, 32], f_exp=[9, 3, 3, 1])"
   ]
  },
  {
   "cell_type": "markdown",
   "id": "israeli-spider",
   "metadata": {},
   "source": [
    "### ANOVA one-way f-test"
   ]
  },
  {
   "cell_type": "code",
   "execution_count": 14,
   "id": "formal-virus",
   "metadata": {},
   "outputs": [
    {
     "name": "stdout",
     "output_type": "stream",
     "text": [
      "stat=4.7225686085, p=0.0157151658\n",
      "Maybe different distributions\n"
     ]
    }
   ],
   "source": [
    "from scipy.stats import f_oneway\n",
    "stat, p = f_oneway(total_order_monday, total_order_tuesday, total_order_wednesday)\n",
    "print('stat=%.10f, p=%.10f' % (stat, p))\n",
    "if p > 0.05:\n",
    "    print('Maybe Same distribution')\n",
    "else:\n",
    "    print('Maybe different distributions')"
   ]
  },
  {
   "cell_type": "code",
   "execution_count": null,
   "id": "controversial-assault",
   "metadata": {},
   "outputs": [],
   "source": []
  }
 ],
 "metadata": {
  "kernelspec": {
   "display_name": "Python 3 (ipykernel)",
   "language": "python",
   "name": "python3"
  },
  "language_info": {
   "codemirror_mode": {
    "name": "ipython",
    "version": 3
   },
   "file_extension": ".py",
   "mimetype": "text/x-python",
   "name": "python",
   "nbconvert_exporter": "python",
   "pygments_lexer": "ipython3",
   "version": "3.8.10"
  }
 },
 "nbformat": 4,
 "nbformat_minor": 5
}
