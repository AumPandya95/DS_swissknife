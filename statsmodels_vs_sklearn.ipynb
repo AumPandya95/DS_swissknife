{
 "cells": [
  {
   "cell_type": "code",
   "execution_count": 1,
   "id": "entertaining-productivity",
   "metadata": {},
   "outputs": [],
   "source": [
    "import numpy as np\n",
    "import pandas as pd\n",
    "\n",
    "from sklearn import linear_model\n",
    "\n",
    "import statsmodels.api as sm"
   ]
  },
  {
   "cell_type": "code",
   "execution_count": 2,
   "id": "expected-person",
   "metadata": {},
   "outputs": [],
   "source": [
    "import os\n",
    "os.getcwd()\n",
    "os.chdir(\"/home/aumaron/Desktop/other_projects/\")"
   ]
  },
  {
   "cell_type": "code",
   "execution_count": 3,
   "id": "hairy-profile",
   "metadata": {},
   "outputs": [
    {
     "name": "stdout",
     "output_type": "stream",
     "text": [
      "(23, 4)\n"
     ]
    }
   ],
   "source": [
    "# Data\n",
    "ring_failure = pd.read_excel(\"datasets/o_ring_failure.xlsx\", engine=\"openpyxl\")\n",
    "\n",
    "print(ring_failure.shape)\n",
    "target = np.array(ring_failure.loc[:, \"number_experiencing_thermal_distress\"])\n",
    "ring_failure.drop(columns=[\"number_experiencing_thermal_distress\"], inplace=True)\n",
    "train_array = np.array(ring_failure)\n"
   ]
  },
  {
   "cell_type": "markdown",
   "id": "opposite-projector",
   "metadata": {},
   "source": [
    "### Model with Intercept (without penalty)"
   ]
  },
  {
   "cell_type": "code",
   "execution_count": 4,
   "id": "right-fellowship",
   "metadata": {},
   "outputs": [
    {
     "name": "stdout",
     "output_type": "stream",
     "text": [
      "[-0.05138594  0.00175701  0.01429284]\n",
      "3.527093383307082\n"
     ]
    }
   ],
   "source": [
    "#Linear Regression sklearn\n",
    "\n",
    "lm_sk = linear_model.LinearRegression()\n",
    "lm_sk.fit(train_array, target)\n",
    "print(lm_sk.coef_)\n",
    "print(lm_sk.intercept_)"
   ]
  },
  {
   "cell_type": "code",
   "execution_count": 5,
   "id": "concrete-equipment",
   "metadata": {
    "scrolled": true
   },
   "outputs": [
    {
     "name": "stdout",
     "output_type": "stream",
     "text": [
      "[ 3.52709338e+00 -5.13859399e-02  1.75700897e-03  1.42928426e-02]\n"
     ]
    },
    {
     "data": {
      "text/html": [
       "<table class=\"simpletable\">\n",
       "<caption>OLS Regression Results</caption>\n",
       "<tr>\n",
       "  <th>Dep. Variable:</th>            <td>y</td>        <th>  R-squared:         </th> <td>   0.360</td>\n",
       "</tr>\n",
       "<tr>\n",
       "  <th>Model:</th>                   <td>OLS</td>       <th>  Adj. R-squared:    </th> <td>   0.259</td>\n",
       "</tr>\n",
       "<tr>\n",
       "  <th>Method:</th>             <td>Least Squares</td>  <th>  F-statistic:       </th> <td>   3.563</td>\n",
       "</tr>\n",
       "<tr>\n",
       "  <th>Date:</th>             <td>Fri, 30 Apr 2021</td> <th>  Prob (F-statistic):</th>  <td>0.0337</td> \n",
       "</tr>\n",
       "<tr>\n",
       "  <th>Time:</th>                 <td>15:45:50</td>     <th>  Log-Likelihood:    </th> <td> -17.308</td>\n",
       "</tr>\n",
       "<tr>\n",
       "  <th>No. Observations:</th>      <td>    23</td>      <th>  AIC:               </th> <td>   42.62</td>\n",
       "</tr>\n",
       "<tr>\n",
       "  <th>Df Residuals:</th>          <td>    19</td>      <th>  BIC:               </th> <td>   47.16</td>\n",
       "</tr>\n",
       "<tr>\n",
       "  <th>Df Model:</th>              <td>     3</td>      <th>                     </th>     <td> </td>   \n",
       "</tr>\n",
       "<tr>\n",
       "  <th>Covariance Type:</th>      <td>nonrobust</td>    <th>                     </th>     <td> </td>   \n",
       "</tr>\n",
       "</table>\n",
       "<table class=\"simpletable\">\n",
       "<tr>\n",
       "    <td></td>       <th>coef</th>     <th>std err</th>      <th>t</th>      <th>P>|t|</th>  <th>[0.025</th>    <th>0.975]</th>  \n",
       "</tr>\n",
       "<tr>\n",
       "  <th>const</th> <td>    3.5271</td> <td>    1.307</td> <td>    2.699</td> <td> 0.014</td> <td>    0.791</td> <td>    6.263</td>\n",
       "</tr>\n",
       "<tr>\n",
       "  <th>x1</th>    <td>   -0.0514</td> <td>    0.018</td> <td>   -2.802</td> <td> 0.011</td> <td>   -0.090</td> <td>   -0.013</td>\n",
       "</tr>\n",
       "<tr>\n",
       "  <th>x2</th>    <td>    0.0018</td> <td>    0.003</td> <td>    0.517</td> <td> 0.611</td> <td>   -0.005</td> <td>    0.009</td>\n",
       "</tr>\n",
       "<tr>\n",
       "  <th>x3</th>    <td>    0.0143</td> <td>    0.035</td> <td>    0.407</td> <td> 0.689</td> <td>   -0.059</td> <td>    0.088</td>\n",
       "</tr>\n",
       "</table>\n",
       "<table class=\"simpletable\">\n",
       "<tr>\n",
       "  <th>Omnibus:</th>       <td>17.300</td> <th>  Durbin-Watson:     </th> <td>   2.392</td>\n",
       "</tr>\n",
       "<tr>\n",
       "  <th>Prob(Omnibus):</th> <td> 0.000</td> <th>  Jarque-Bera (JB):  </th> <td>  18.847</td>\n",
       "</tr>\n",
       "<tr>\n",
       "  <th>Skew:</th>          <td> 1.686</td> <th>  Prob(JB):          </th> <td>8.08e-05</td>\n",
       "</tr>\n",
       "<tr>\n",
       "  <th>Kurtosis:</th>      <td> 5.881</td> <th>  Cond. No.          </th> <td>1.98e+03</td>\n",
       "</tr>\n",
       "</table><br/><br/>Notes:<br/>[1] Standard Errors assume that the covariance matrix of the errors is correctly specified.<br/>[2] The condition number is large, 1.98e+03. This might indicate that there are<br/>strong multicollinearity or other numerical problems."
      ],
      "text/plain": [
       "<class 'statsmodels.iolib.summary.Summary'>\n",
       "\"\"\"\n",
       "                            OLS Regression Results                            \n",
       "==============================================================================\n",
       "Dep. Variable:                      y   R-squared:                       0.360\n",
       "Model:                            OLS   Adj. R-squared:                  0.259\n",
       "Method:                 Least Squares   F-statistic:                     3.563\n",
       "Date:                Fri, 30 Apr 2021   Prob (F-statistic):             0.0337\n",
       "Time:                        15:45:50   Log-Likelihood:                -17.308\n",
       "No. Observations:                  23   AIC:                             42.62\n",
       "Df Residuals:                      19   BIC:                             47.16\n",
       "Df Model:                           3                                         \n",
       "Covariance Type:            nonrobust                                         \n",
       "==============================================================================\n",
       "                 coef    std err          t      P>|t|      [0.025      0.975]\n",
       "------------------------------------------------------------------------------\n",
       "const          3.5271      1.307      2.699      0.014       0.791       6.263\n",
       "x1            -0.0514      0.018     -2.802      0.011      -0.090      -0.013\n",
       "x2             0.0018      0.003      0.517      0.611      -0.005       0.009\n",
       "x3             0.0143      0.035      0.407      0.689      -0.059       0.088\n",
       "==============================================================================\n",
       "Omnibus:                       17.300   Durbin-Watson:                   2.392\n",
       "Prob(Omnibus):                  0.000   Jarque-Bera (JB):               18.847\n",
       "Skew:                           1.686   Prob(JB):                     8.08e-05\n",
       "Kurtosis:                       5.881   Cond. No.                     1.98e+03\n",
       "==============================================================================\n",
       "\n",
       "Notes:\n",
       "[1] Standard Errors assume that the covariance matrix of the errors is correctly specified.\n",
       "[2] The condition number is large, 1.98e+03. This might indicate that there are\n",
       "strong multicollinearity or other numerical problems.\n",
       "\"\"\""
      ]
     },
     "execution_count": 5,
     "metadata": {},
     "output_type": "execute_result"
    }
   ],
   "source": [
    "# Linear regression statsmodel\n",
    "\n",
    "train_array_new = sm.add_constant(train_array, has_constant=\"add\")\n",
    "lm_st = sm.OLS(target, train_array_new).fit()\n",
    "print(lm_st.params)\n",
    "lm_st.summary()"
   ]
  },
  {
   "cell_type": "markdown",
   "id": "tough-oregon",
   "metadata": {},
   "source": [
    "### Model with intercept (lasso penalty)"
   ]
  },
  {
   "cell_type": "code",
   "execution_count": 6,
   "id": "unable-expansion",
   "metadata": {},
   "outputs": [
    {
     "name": "stdout",
     "output_type": "stream",
     "text": [
      "[-0.04740112  0.00254189  0.00443211]\n",
      "3.2487785767510435\n"
     ]
    }
   ],
   "source": [
    "#Linear Regression sklearn\n",
    "lm_lasso_sk = linear_model.Lasso(alpha=0.1, fit_intercept=True)\n",
    "lm_lasso_sk.fit(train_array, target)\n",
    "print(lm_lasso_sk.coef_)\n",
    "print(lm_lasso_sk.intercept_)"
   ]
  },
  {
   "cell_type": "code",
   "execution_count": 7,
   "id": "plastic-usage",
   "metadata": {},
   "outputs": [
    {
     "name": "stdout",
     "output_type": "stream",
     "text": [
      "[ 0.         -0.00295913  0.00470805 -0.01229357]\n"
     ]
    },
    {
     "data": {
      "text/html": [
       "<table class=\"simpletable\">\n",
       "<caption>OLS Regression Results</caption>\n",
       "<tr>\n",
       "  <th>Dep. Variable:</th>            <td>y</td>        <th>  R-squared:         </th> <td>   0.112</td>\n",
       "</tr>\n",
       "<tr>\n",
       "  <th>Model:</th>                   <td>OLS</td>       <th>  Adj. R-squared:    </th> <td>  -0.028</td>\n",
       "</tr>\n",
       "<tr>\n",
       "  <th>Method:</th>             <td>Least Squares</td>  <th>  F-statistic:       </th> <td>  0.8011</td>\n",
       "</tr>\n",
       "<tr>\n",
       "  <th>Date:</th>             <td>Fri, 30 Apr 2021</td> <th>  Prob (F-statistic):</th>  <td> 0.509</td> \n",
       "</tr>\n",
       "<tr>\n",
       "  <th>Time:</th>                 <td>15:45:51</td>     <th>  Log-Likelihood:    </th> <td> -21.071</td>\n",
       "</tr>\n",
       "<tr>\n",
       "  <th>No. Observations:</th>      <td>    23</td>      <th>  AIC:               </th> <td>   50.14</td>\n",
       "</tr>\n",
       "<tr>\n",
       "  <th>Df Residuals:</th>          <td>    19</td>      <th>  BIC:               </th> <td>   54.68</td>\n",
       "</tr>\n",
       "<tr>\n",
       "  <th>Df Model:</th>              <td>     3</td>      <th>                     </th>     <td> </td>   \n",
       "</tr>\n",
       "<tr>\n",
       "  <th>Covariance Type:</th>      <td>nonrobust</td>    <th>                     </th>     <td> </td>   \n",
       "</tr>\n",
       "</table>\n",
       "<table class=\"simpletable\">\n",
       "<tr>\n",
       "    <td></td>       <th>coef</th>     <th>std err</th>      <th>t</th>      <th>P>|t|</th>  <th>[0.025</th>    <th>0.975]</th>  \n",
       "</tr>\n",
       "<tr>\n",
       "  <th>const</th> <td>         0</td> <td>    1.539</td> <td>        0</td> <td> 1.000</td> <td>   -3.222</td> <td>    3.222</td>\n",
       "</tr>\n",
       "<tr>\n",
       "  <th>x1</th>    <td>   -0.0030</td> <td>    0.022</td> <td>   -0.137</td> <td> 0.892</td> <td>   -0.048</td> <td>    0.042</td>\n",
       "</tr>\n",
       "<tr>\n",
       "  <th>x2</th>    <td>    0.0047</td> <td>    0.004</td> <td>    1.175</td> <td> 0.254</td> <td>   -0.004</td> <td>    0.013</td>\n",
       "</tr>\n",
       "<tr>\n",
       "  <th>x3</th>    <td>   -0.0123</td> <td>    0.041</td> <td>   -0.297</td> <td> 0.770</td> <td>   -0.099</td> <td>    0.074</td>\n",
       "</tr>\n",
       "</table>\n",
       "<table class=\"simpletable\">\n",
       "<tr>\n",
       "  <th>Omnibus:</th>       <td> 6.553</td> <th>  Durbin-Watson:     </th> <td>   2.353</td>\n",
       "</tr>\n",
       "<tr>\n",
       "  <th>Prob(Omnibus):</th> <td> 0.038</td> <th>  Jarque-Bera (JB):  </th> <td>   4.848</td>\n",
       "</tr>\n",
       "<tr>\n",
       "  <th>Skew:</th>          <td> 1.107</td> <th>  Prob(JB):          </th> <td>  0.0886</td>\n",
       "</tr>\n",
       "<tr>\n",
       "  <th>Kurtosis:</th>      <td> 3.395</td> <th>  Cond. No.          </th> <td>1.98e+03</td>\n",
       "</tr>\n",
       "</table><br/><br/>Notes:<br/>[1] Standard Errors assume that the covariance matrix of the errors is correctly specified.<br/>[2] The condition number is large, 1.98e+03. This might indicate that there are<br/>strong multicollinearity or other numerical problems."
      ],
      "text/plain": [
       "<class 'statsmodels.iolib.summary.Summary'>\n",
       "\"\"\"\n",
       "                            OLS Regression Results                            \n",
       "==============================================================================\n",
       "Dep. Variable:                      y   R-squared:                       0.112\n",
       "Model:                            OLS   Adj. R-squared:                 -0.028\n",
       "Method:                 Least Squares   F-statistic:                    0.8011\n",
       "Date:                Fri, 30 Apr 2021   Prob (F-statistic):              0.509\n",
       "Time:                        15:45:51   Log-Likelihood:                -21.071\n",
       "No. Observations:                  23   AIC:                             50.14\n",
       "Df Residuals:                      19   BIC:                             54.68\n",
       "Df Model:                           3                                         \n",
       "Covariance Type:            nonrobust                                         \n",
       "==============================================================================\n",
       "                 coef    std err          t      P>|t|      [0.025      0.975]\n",
       "------------------------------------------------------------------------------\n",
       "const               0      1.539          0      1.000      -3.222       3.222\n",
       "x1            -0.0030      0.022     -0.137      0.892      -0.048       0.042\n",
       "x2             0.0047      0.004      1.175      0.254      -0.004       0.013\n",
       "x3            -0.0123      0.041     -0.297      0.770      -0.099       0.074\n",
       "==============================================================================\n",
       "Omnibus:                        6.553   Durbin-Watson:                   2.353\n",
       "Prob(Omnibus):                  0.038   Jarque-Bera (JB):                4.848\n",
       "Skew:                           1.107   Prob(JB):                       0.0886\n",
       "Kurtosis:                       3.395   Cond. No.                     1.98e+03\n",
       "==============================================================================\n",
       "\n",
       "Notes:\n",
       "[1] Standard Errors assume that the covariance matrix of the errors is correctly specified.\n",
       "[2] The condition number is large, 1.98e+03. This might indicate that there are\n",
       "strong multicollinearity or other numerical problems.\n",
       "\"\"\""
      ]
     },
     "execution_count": 7,
     "metadata": {},
     "output_type": "execute_result"
    }
   ],
   "source": [
    "# Linear regression statsmodel\n",
    "train_array_new = sm.add_constant(train_array, has_constant=\"add\")\n",
    "lm_st = sm.OLS(target, train_array_new)\n",
    "result = lm_st.fit()\n",
    "\n",
    "# Lasso\n",
    "results_fr = lm_st.fit_regularized(method=\"elastic_net\", L1_wt=1, alpha=0.1, start_params=None)\n",
    "final = sm.regression.linear_model.OLSResults(lm_st,\n",
    "                                              results_fr.params, \n",
    "                                              lm_st.normalized_cov_params)\n",
    "print(final.params)\n",
    "final.summary()"
   ]
  },
  {
   "cell_type": "code",
   "execution_count": null,
   "id": "mature-wisconsin",
   "metadata": {},
   "outputs": [],
   "source": []
  }
 ],
 "metadata": {
  "kernelspec": {
   "display_name": "Python 3 (ipykernel)",
   "language": "python",
   "name": "python3"
  },
  "language_info": {
   "codemirror_mode": {
    "name": "ipython",
    "version": 3
   },
   "file_extension": ".py",
   "mimetype": "text/x-python",
   "name": "python",
   "nbconvert_exporter": "python",
   "pygments_lexer": "ipython3",
   "version": "3.8.10"
  }
 },
 "nbformat": 4,
 "nbformat_minor": 5
}
