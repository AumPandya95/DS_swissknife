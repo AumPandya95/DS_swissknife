{
 "cells": [
  {
   "cell_type": "code",
   "execution_count": 1,
   "id": "entertaining-productivity",
   "metadata": {},
   "outputs": [],
   "source": [
    "import numpy as np\n",
    "import pandas as pd\n",
    "from sklearn import linear_model\n",
    "import matplotlib.pyplot as plt\n",
    "from sklearn.metrics import mean_squared_error\n",
    "from sklearn.metrics import r2_score\n",
    "import timeit\n",
    "from sklearn.model_selection import cross_val_score\n",
    "from sklearn.model_selection import KFold"
   ]
  },
  {
   "cell_type": "code",
   "execution_count": 2,
   "id": "expected-person",
   "metadata": {},
   "outputs": [],
   "source": [
    "import os\n",
    "os.getcwd()\n",
    "os.chdir(\"/home/aumaron/Desktop/other_projects/\")"
   ]
  },
  {
   "cell_type": "code",
   "execution_count": 3,
   "id": "hairy-profile",
   "metadata": {},
   "outputs": [
    {
     "name": "stdout",
     "output_type": "stream",
     "text": [
      "(60, 13)\n"
     ]
    }
   ],
   "source": [
    "# Data\n",
    "demand_forecast = pd.read_excel(\"datasets/Daily_Demand_Forecasting_Orders.xlsx\", engine=\"openpyxl\")\n",
    "demand_forecast.dropna(how=\"all\", subset=[\"Target (Total orders)\"], inplace=True)\n",
    "\n",
    "demand_forecast.fillna(demand_forecast.mean(), inplace=True)\n",
    "\n",
    "print(demand_forecast.shape)\n",
    "target = np.array(demand_forecast.loc[:, \"Target (Total orders)\"])\n",
    "demand_forecast.drop(columns=[\"Target (Total orders)\"], inplace=True)\n",
    "train_array = np.array(demand_forecast)"
   ]
  },
  {
   "cell_type": "code",
   "execution_count": 4,
   "id": "resident-botswana",
   "metadata": {},
   "outputs": [],
   "source": [
    "# split data into train and test sets\n",
    "from sklearn.model_selection import train_test_split\n",
    "\n",
    "seed = 10\n",
    "X_train, X_test, y_train, y_test = train_test_split(train_array, target, test_size=0.25, random_state=seed)"
   ]
  },
  {
   "cell_type": "code",
   "execution_count": 5,
   "id": "friendly-nightmare",
   "metadata": {},
   "outputs": [
    {
     "name": "stdout",
     "output_type": "stream",
     "text": [
      "[ 4.75644391e-14 -3.75742840e-13  2.50474662e-15 -1.65857880e-14\n",
      "  1.00000000e+00  1.00000000e+00  1.00000000e+00  1.22356027e-15\n",
      " -1.43656788e-17  5.96311195e-18 -1.49077799e-18  1.37964726e-17]\n",
      "3.922195901395753e-12\n"
     ]
    }
   ],
   "source": [
    "#Linear Regression sklearn\n",
    "lm_sk = linear_model.LinearRegression()\n",
    "lm_sk.fit(X_train, y_train)\n",
    "print(lm_sk.coef_)\n",
    "print(lm_sk.intercept_)"
   ]
  },
  {
   "cell_type": "code",
   "execution_count": 7,
   "id": "civic-district",
   "metadata": {},
   "outputs": [
    {
     "name": "stdout",
     "output_type": "stream",
     "text": [
      "[-4.14993261e-13  6.57294570e-14  6.30071685e-15  9.79873821e-15\n",
      "  1.00000000e+00  1.00000000e+00  1.00000000e+00  3.47439036e-15\n",
      " -1.00110552e-16  5.54495933e-17  1.02860967e-17 -7.99975128e-18\n",
      " -1.68312691e-14]\n"
     ]
    },
    {
     "data": {
      "text/html": [
       "<table class=\"simpletable\">\n",
       "<caption>OLS Regression Results</caption>\n",
       "<tr>\n",
       "  <th>Dep. Variable:</th>            <td>y</td>        <th>  R-squared:         </th> <td>   1.000</td> \n",
       "</tr>\n",
       "<tr>\n",
       "  <th>Model:</th>                   <td>OLS</td>       <th>  Adj. R-squared:    </th> <td>   1.000</td> \n",
       "</tr>\n",
       "<tr>\n",
       "  <th>Method:</th>             <td>Least Squares</td>  <th>  F-statistic:       </th> <td>1.749e+27</td>\n",
       "</tr>\n",
       "<tr>\n",
       "  <th>Date:</th>             <td>Fri, 30 Apr 2021</td> <th>  Prob (F-statistic):</th>  <td>  0.00</td>  \n",
       "</tr>\n",
       "<tr>\n",
       "  <th>Time:</th>                 <td>12:39:00</td>     <th>  Log-Likelihood:    </th> <td>  1121.7</td> \n",
       "</tr>\n",
       "<tr>\n",
       "  <th>No. Observations:</th>      <td>    45</td>      <th>  AIC:               </th> <td>  -2217.</td> \n",
       "</tr>\n",
       "<tr>\n",
       "  <th>Df Residuals:</th>          <td>    32</td>      <th>  BIC:               </th> <td>  -2194.</td> \n",
       "</tr>\n",
       "<tr>\n",
       "  <th>Df Model:</th>              <td>    12</td>      <th>                     </th>     <td> </td>    \n",
       "</tr>\n",
       "<tr>\n",
       "  <th>Covariance Type:</th>      <td>nonrobust</td>    <th>                     </th>     <td> </td>    \n",
       "</tr>\n",
       "</table>\n",
       "<table class=\"simpletable\">\n",
       "<tr>\n",
       "    <td></td>       <th>coef</th>     <th>std err</th>      <th>t</th>      <th>P>|t|</th>  <th>[0.025</th>    <th>0.975]</th>  \n",
       "</tr>\n",
       "<tr>\n",
       "  <th>x1</th>    <td> -4.15e-13</td> <td> 7.01e-13</td> <td>   -0.592</td> <td> 0.558</td> <td>-1.84e-12</td> <td> 1.01e-12</td>\n",
       "</tr>\n",
       "<tr>\n",
       "  <th>x2</th>    <td> 6.573e-14</td> <td> 6.67e-13</td> <td>    0.099</td> <td> 0.922</td> <td>-1.29e-12</td> <td> 1.42e-12</td>\n",
       "</tr>\n",
       "<tr>\n",
       "  <th>x3</th>    <td> 6.301e-15</td> <td> 6.26e-14</td> <td>    0.101</td> <td> 0.921</td> <td>-1.21e-13</td> <td> 1.34e-13</td>\n",
       "</tr>\n",
       "<tr>\n",
       "  <th>x4</th>    <td> 9.799e-15</td> <td> 6.69e-14</td> <td>    0.146</td> <td> 0.884</td> <td>-1.26e-13</td> <td> 1.46e-13</td>\n",
       "</tr>\n",
       "<tr>\n",
       "  <th>x5</th>    <td>    1.0000</td> <td> 7.92e-14</td> <td> 1.26e+13</td> <td> 0.000</td> <td>    1.000</td> <td>    1.000</td>\n",
       "</tr>\n",
       "<tr>\n",
       "  <th>x6</th>    <td>    1.0000</td> <td> 2.52e-14</td> <td> 3.97e+13</td> <td> 0.000</td> <td>    1.000</td> <td>    1.000</td>\n",
       "</tr>\n",
       "<tr>\n",
       "  <th>x7</th>    <td>    1.0000</td> <td> 5.55e-14</td> <td>  1.8e+13</td> <td> 0.000</td> <td>    1.000</td> <td>    1.000</td>\n",
       "</tr>\n",
       "<tr>\n",
       "  <th>x8</th>    <td> 3.474e-15</td> <td>  4.3e-15</td> <td>    0.808</td> <td> 0.425</td> <td>-5.29e-15</td> <td> 1.22e-14</td>\n",
       "</tr>\n",
       "<tr>\n",
       "  <th>x9</th>    <td>-1.001e-16</td> <td> 8.94e-17</td> <td>   -1.120</td> <td> 0.271</td> <td>-2.82e-16</td> <td>  8.2e-17</td>\n",
       "</tr>\n",
       "<tr>\n",
       "  <th>x10</th>   <td> 5.545e-17</td> <td>    5e-17</td> <td>    1.109</td> <td> 0.276</td> <td>-4.64e-17</td> <td> 1.57e-16</td>\n",
       "</tr>\n",
       "<tr>\n",
       "  <th>x11</th>   <td> 1.029e-17</td> <td> 5.56e-17</td> <td>    0.185</td> <td> 0.854</td> <td>-1.03e-16</td> <td> 1.23e-16</td>\n",
       "</tr>\n",
       "<tr>\n",
       "  <th>x12</th>   <td>    -8e-18</td> <td>  6.3e-17</td> <td>   -0.127</td> <td> 0.900</td> <td>-1.36e-16</td> <td>  1.2e-16</td>\n",
       "</tr>\n",
       "<tr>\n",
       "  <th>const</th> <td>-1.683e-14</td> <td> 6.51e-12</td> <td>   -0.003</td> <td> 0.998</td> <td>-1.33e-11</td> <td> 1.32e-11</td>\n",
       "</tr>\n",
       "</table>\n",
       "<table class=\"simpletable\">\n",
       "<tr>\n",
       "  <th>Omnibus:</th>       <td>18.064</td> <th>  Durbin-Watson:     </th> <td>   2.381</td>\n",
       "</tr>\n",
       "<tr>\n",
       "  <th>Prob(Omnibus):</th> <td> 0.000</td> <th>  Jarque-Bera (JB):  </th> <td>  21.988</td>\n",
       "</tr>\n",
       "<tr>\n",
       "  <th>Skew:</th>          <td>-1.446</td> <th>  Prob(JB):          </th> <td>1.68e-05</td>\n",
       "</tr>\n",
       "<tr>\n",
       "  <th>Kurtosis:</th>      <td> 4.834</td> <th>  Cond. No.          </th> <td>1.21e+06</td>\n",
       "</tr>\n",
       "</table><br/><br/>Notes:<br/>[1] Standard Errors assume that the covariance matrix of the errors is correctly specified.<br/>[2] The condition number is large, 1.21e+06. This might indicate that there are<br/>strong multicollinearity or other numerical problems."
      ],
      "text/plain": [
       "<class 'statsmodels.iolib.summary.Summary'>\n",
       "\"\"\"\n",
       "                            OLS Regression Results                            \n",
       "==============================================================================\n",
       "Dep. Variable:                      y   R-squared:                       1.000\n",
       "Model:                            OLS   Adj. R-squared:                  1.000\n",
       "Method:                 Least Squares   F-statistic:                 1.749e+27\n",
       "Date:                Fri, 30 Apr 2021   Prob (F-statistic):               0.00\n",
       "Time:                        12:39:00   Log-Likelihood:                 1121.7\n",
       "No. Observations:                  45   AIC:                            -2217.\n",
       "Df Residuals:                      32   BIC:                            -2194.\n",
       "Df Model:                          12                                         \n",
       "Covariance Type:            nonrobust                                         \n",
       "==============================================================================\n",
       "                 coef    std err          t      P>|t|      [0.025      0.975]\n",
       "------------------------------------------------------------------------------\n",
       "x1          -4.15e-13   7.01e-13     -0.592      0.558   -1.84e-12    1.01e-12\n",
       "x2          6.573e-14   6.67e-13      0.099      0.922   -1.29e-12    1.42e-12\n",
       "x3          6.301e-15   6.26e-14      0.101      0.921   -1.21e-13    1.34e-13\n",
       "x4          9.799e-15   6.69e-14      0.146      0.884   -1.26e-13    1.46e-13\n",
       "x5             1.0000   7.92e-14   1.26e+13      0.000       1.000       1.000\n",
       "x6             1.0000   2.52e-14   3.97e+13      0.000       1.000       1.000\n",
       "x7             1.0000   5.55e-14    1.8e+13      0.000       1.000       1.000\n",
       "x8          3.474e-15    4.3e-15      0.808      0.425   -5.29e-15    1.22e-14\n",
       "x9         -1.001e-16   8.94e-17     -1.120      0.271   -2.82e-16     8.2e-17\n",
       "x10         5.545e-17      5e-17      1.109      0.276   -4.64e-17    1.57e-16\n",
       "x11         1.029e-17   5.56e-17      0.185      0.854   -1.03e-16    1.23e-16\n",
       "x12            -8e-18    6.3e-17     -0.127      0.900   -1.36e-16     1.2e-16\n",
       "const      -1.683e-14   6.51e-12     -0.003      0.998   -1.33e-11    1.32e-11\n",
       "==============================================================================\n",
       "Omnibus:                       18.064   Durbin-Watson:                   2.381\n",
       "Prob(Omnibus):                  0.000   Jarque-Bera (JB):               21.988\n",
       "Skew:                          -1.446   Prob(JB):                     1.68e-05\n",
       "Kurtosis:                       4.834   Cond. No.                     1.21e+06\n",
       "==============================================================================\n",
       "\n",
       "Notes:\n",
       "[1] Standard Errors assume that the covariance matrix of the errors is correctly specified.\n",
       "[2] The condition number is large, 1.21e+06. This might indicate that there are\n",
       "strong multicollinearity or other numerical problems.\n",
       "\"\"\""
      ]
     },
     "execution_count": 7,
     "metadata": {},
     "output_type": "execute_result"
    }
   ],
   "source": [
    "# Linear regression statsmodel\n",
    "import statsmodels.api as sm\n",
    "# np.column_stack((signal, np.ones(signal.shape[0])\n",
    "X_train_new = np.column_stack((X_train, np.ones(X_train.shape[0])))\n",
    "lm_st = sm.OLS(y_train, X_train_new)\n",
    "result = lm_st.fit()\n",
    "print(result.params)\n",
    "result.summary()"
   ]
  },
  {
   "cell_type": "code",
   "execution_count": 10,
   "id": "mature-wisconsin",
   "metadata": {},
   "outputs": [],
   "source": [
    "x_train_new = np.column_stack((X_train, np.ones(X_train.shape[0])))"
   ]
  },
  {
   "cell_type": "code",
   "execution_count": null,
   "id": "loaded-belly",
   "metadata": {},
   "outputs": [],
   "source": []
  }
 ],
 "metadata": {
  "kernelspec": {
   "display_name": "Python 3",
   "language": "python",
   "name": "python3"
  },
  "language_info": {
   "codemirror_mode": {
    "name": "ipython",
    "version": 3
   },
   "file_extension": ".py",
   "mimetype": "text/x-python",
   "name": "python",
   "nbconvert_exporter": "python",
   "pygments_lexer": "ipython3",
   "version": "3.7.5"
  }
 },
 "nbformat": 4,
 "nbformat_minor": 5
}
