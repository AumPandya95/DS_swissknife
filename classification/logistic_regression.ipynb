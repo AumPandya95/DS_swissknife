{
 "cells": [
  {
   "cell_type": "code",
   "execution_count": 1,
   "id": "difficult-great",
   "metadata": {},
   "outputs": [],
   "source": [
    "%matplotlib inline\n",
    "import matplotlib\n",
    "import seaborn as sns\n",
    "sns.set()\n",
    "matplotlib.rcParams['figure.dpi'] = 144"
   ]
  },
  {
   "cell_type": "code",
   "execution_count": 2,
   "id": "bizarre-hammer",
   "metadata": {},
   "outputs": [],
   "source": [
    "import matplotlib.pyplot as plt\n",
    "import pandas as pd\n",
    "import numpy as np\n",
    "import timeit"
   ]
  },
  {
   "cell_type": "code",
   "execution_count": 3,
   "id": "sized-passenger",
   "metadata": {},
   "outputs": [],
   "source": [
    "import os\n",
    "os.getcwd()\n",
    "os.chdir(\"/home/aumaron/Desktop/other_projects/\")"
   ]
  },
  {
   "cell_type": "code",
   "execution_count": 4,
   "id": "strange-understanding",
   "metadata": {},
   "outputs": [],
   "source": [
    "# Data\n",
    "customer_transaction = pd.read_csv(\"datasets/train.csv\")"
   ]
  },
  {
   "cell_type": "code",
   "execution_count": 5,
   "id": "elect-gardening",
   "metadata": {},
   "outputs": [],
   "source": [
    "target = np.array(customer_transaction[\"target\"])\n",
    "train_array = np.array(customer_transaction.iloc[:, 2:])"
   ]
  },
  {
   "cell_type": "code",
   "execution_count": 6,
   "id": "hidden-blackberry",
   "metadata": {
    "scrolled": true
   },
   "outputs": [
    {
     "data": {
      "text/plain": [
       "(array([0, 1]), array([179902,  20098]))"
      ]
     },
     "execution_count": 6,
     "metadata": {},
     "output_type": "execute_result"
    }
   ],
   "source": [
    "np.unique(target, return_counts=True)"
   ]
  },
  {
   "cell_type": "markdown",
   "id": "weekly-review",
   "metadata": {},
   "source": [
    "# Classification"
   ]
  },
  {
   "cell_type": "markdown",
   "id": "identical-legislation",
   "metadata": {},
   "source": [
    "## 1. Logistic Regression"
   ]
  },
  {
   "cell_type": "code",
   "execution_count": 8,
   "id": "executed-direction",
   "metadata": {},
   "outputs": [],
   "source": [
    "from sklearn.linear_model import LogisticRegression\n",
    "from sklearn import metrics"
   ]
  },
  {
   "cell_type": "markdown",
   "id": "ranging-species",
   "metadata": {},
   "source": [
    "### A. Trained on the entire dataset"
   ]
  },
  {
   "cell_type": "code",
   "execution_count": 7,
   "id": "radical-doctor",
   "metadata": {},
   "outputs": [
    {
     "name": "stdout",
     "output_type": "stream",
     "text": [
      "accuracy: 0.91197\n"
     ]
    },
    {
     "name": "stderr",
     "output_type": "stream",
     "text": [
      "/home/aumaron/Desktop/other_projects/venv/lib/python3.7/site-packages/sklearn/linear_model/_logistic.py:765: ConvergenceWarning: lbfgs failed to converge (status=1):\n",
      "STOP: TOTAL NO. of ITERATIONS REACHED LIMIT.\n",
      "\n",
      "Increase the number of iterations (max_iter) or scale the data as shown in:\n",
      "    https://scikit-learn.org/stable/modules/preprocessing.html\n",
      "Please also refer to the documentation for alternative solver options:\n",
      "    https://scikit-learn.org/stable/modules/linear_model.html#logistic-regression\n",
      "  extra_warning_msg=_LOGISTIC_SOLVER_CONVERGENCE_MSG)\n"
     ]
    }
   ],
   "source": [
    "clf = LogisticRegression(solver='lbfgs')\n",
    "clf.fit(train_array, target)\n",
    "y_pred = clf.predict(train_array)\n",
    "\n",
    "print(\"accuracy: {}\".format(metrics.accuracy_score(target, y_pred)))"
   ]
  },
  {
   "cell_type": "markdown",
   "id": "instructional-sight",
   "metadata": {},
   "source": [
    "### A.1.1 Confusion Matrix"
   ]
  },
  {
   "cell_type": "code",
   "execution_count": 8,
   "id": "prime-bhutan",
   "metadata": {},
   "outputs": [
    {
     "name": "stdout",
     "output_type": "stream",
     "text": [
      "              precision    recall  f1-score   support\n",
      "\n",
      "           0       0.92      0.99      0.95    179902\n",
      "           1       0.68      0.23      0.35     20098\n",
      "\n",
      "    accuracy                           0.91    200000\n",
      "   macro avg       0.80      0.61      0.65    200000\n",
      "weighted avg       0.90      0.91      0.89    200000\n",
      "\n"
     ]
    }
   ],
   "source": [
    "print(metrics.classification_report(target, y_pred))"
   ]
  },
  {
   "cell_type": "markdown",
   "id": "homeless-marketplace",
   "metadata": {},
   "source": [
    "### A.1.2 Metrics"
   ]
  },
  {
   "cell_type": "code",
   "execution_count": 9,
   "id": "behavioral-proposition",
   "metadata": {},
   "outputs": [
    {
     "name": "stdout",
     "output_type": "stream",
     "text": [
      "precision: 0.680006\n",
      "recall: 0.234202\n",
      "\n",
      "---------------------\n",
      "\n",
      "accuracy: 0.91197\n",
      "\n",
      "---------------------\n",
      "\n",
      "f1_score: 0.34840858623242044\n"
     ]
    }
   ],
   "source": [
    "precision = metrics.precision_score(target, y_pred)\n",
    "recall = metrics.recall_score(target, y_pred)\n",
    "accuracy = metrics.accuracy_score(target, y_pred)\n",
    "\n",
    "print(\"precision: {:g}\".format(precision))\n",
    "print(\"recall: {:g}\".format(recall))\n",
    "\n",
    "print(\"\\n---------------------\\n\")\n",
    "\n",
    "print(\"accuracy: {}\".format(accuracy))\n",
    "\n",
    "print(\"\\n---------------------\\n\")\n",
    "\n",
    "f1_score = 2*precision*recall/(precision + recall)\n",
    "print(\"f1_score: {}\".format(f1_score))"
   ]
  },
  {
   "cell_type": "markdown",
   "id": "absolute-boutique",
   "metadata": {},
   "source": [
    "### B. Trained on split data (Train and Test)"
   ]
  },
  {
   "cell_type": "code",
   "execution_count": 90,
   "id": "knowing-potter",
   "metadata": {},
   "outputs": [],
   "source": [
    "from sklearn.model_selection import train_test_split\n",
    "\n",
    "X_train, X_test, y_train, y_test = train_test_split(train_array, target, test_size=0.25, random_state=0)"
   ]
  },
  {
   "cell_type": "code",
   "execution_count": 91,
   "id": "higher-matrix",
   "metadata": {},
   "outputs": [
    {
     "name": "stdout",
     "output_type": "stream",
     "text": [
      "accuracy: 0.91206\n"
     ]
    },
    {
     "name": "stderr",
     "output_type": "stream",
     "text": [
      "/home/aumaron/Desktop/other_projects/venv/lib/python3.7/site-packages/sklearn/linear_model/_sag.py:329: ConvergenceWarning: The max_iter was reached which means the coef_ did not converge\n",
      "  \"the coef_ did not converge\", ConvergenceWarning)\n"
     ]
    }
   ],
   "source": [
    "clf = LogisticRegression(penalty=\"elasticnet\", \n",
    "                             solver=\"saga\",\n",
    "                             l1_ratio=0.5)\n",
    "clf.fit(X_train, y_train)\n",
    "y_pred = clf.predict(X_test)\n",
    "\n",
    "print(\"accuracy: {}\".format(metrics.accuracy_score(y_test, y_pred)))"
   ]
  },
  {
   "cell_type": "markdown",
   "id": "fancy-criterion",
   "metadata": {},
   "source": [
    "### B.1.1 Confusion Matrix"
   ]
  },
  {
   "cell_type": "code",
   "execution_count": 95,
   "id": "configured-apple",
   "metadata": {},
   "outputs": [
    {
     "name": "stdout",
     "output_type": "stream",
     "text": [
      "[[0.9735484  0.0264516 ]\n",
      " [0.99874274 0.00125726]\n",
      " [0.28411281 0.71588719]\n",
      " ...\n",
      " [0.9806469  0.0193531 ]\n",
      " [0.94722892 0.05277108]\n",
      " [0.91978266 0.08021734]]\n",
      "[0 0 1 0 0]\n"
     ]
    }
   ],
   "source": [
    "print(clf.predict_proba(X_test))\n",
    "print(y_pred[:5])"
   ]
  },
  {
   "cell_type": "code",
   "execution_count": 98,
   "id": "differential-insider",
   "metadata": {
    "scrolled": true
   },
   "outputs": [
    {
     "data": {
      "text/plain": [
       "array([[44291,   611],\n",
       "       [ 3786,  1312]])"
      ]
     },
     "execution_count": 98,
     "metadata": {},
     "output_type": "execute_result"
    }
   ],
   "source": [
    "metrics.confusion_matrix(y_test, y_pred, labels=[0,1])"
   ]
  },
  {
   "cell_type": "markdown",
   "id": "accessory-domain",
   "metadata": {},
   "source": [
    "\n",
    "\n",
    "|                     | Positive Observation     | Negative Observation    |\n",
    "|---------------------|:------------------------:|:-----------------------:|\n",
    "| Positive Prediction |     True Positive (TP)   | False Positive (FP)     |\n",
    "| Negative Prediction | False Negative (FN)      |     True Negative (TN)  |\n",
    "\n",
    "Given the definitions used earlier, the equation for precision and recall are\n",
    "\n",
    "$$ \\text{precision} = \\frac{\\text{TP}}{TP + FP}$$\n",
    "and\n",
    "$$ \\text{recall} = \\frac{\\text{TP}}{TP + FN}. $$\n"
   ]
  },
  {
   "cell_type": "code",
   "execution_count": 100,
   "id": "infrared-triumph",
   "metadata": {},
   "outputs": [
    {
     "data": {
      "text/plain": [
       "0.8610416192858767"
      ]
     },
     "execution_count": 100,
     "metadata": {},
     "output_type": "execute_result"
    }
   ],
   "source": [
    "3786/ (3786 + 611)"
   ]
  },
  {
   "cell_type": "code",
   "execution_count": 73,
   "id": "later-guess",
   "metadata": {},
   "outputs": [
    {
     "name": "stdout",
     "output_type": "stream",
     "text": [
      "              precision    recall  f1-score   support\n",
      "\n",
      "           0       0.92      0.99      0.95     44902\n",
      "           1       0.68      0.26      0.37      5098\n",
      "\n",
      "    accuracy                           0.91     50000\n",
      "   macro avg       0.80      0.62      0.66     50000\n",
      "weighted avg       0.90      0.91      0.89     50000\n",
      "\n"
     ]
    }
   ],
   "source": [
    "print(metrics.classification_report(y_test, y_pred))"
   ]
  },
  {
   "cell_type": "markdown",
   "id": "quiet-utilization",
   "metadata": {},
   "source": [
    "### B.1.2 Metrics"
   ]
  },
  {
   "cell_type": "code",
   "execution_count": 74,
   "id": "congressional-optimization",
   "metadata": {
    "scrolled": true
   },
   "outputs": [
    {
     "name": "stdout",
     "output_type": "stream",
     "text": [
      "precision: 0.682267\n",
      "recall: 0.257356\n",
      "\n",
      "---------------------\n",
      "\n",
      "accuracy: 0.91206\n",
      "\n",
      "---------------------\n",
      "\n",
      "f1_score: 0.3737359350519868\n"
     ]
    }
   ],
   "source": [
    "precision = metrics.precision_score(y_test, y_pred)\n",
    "recall = metrics.recall_score(y_test, y_pred)\n",
    "accuracy = metrics.accuracy_score(y_test, y_pred)\n",
    "\n",
    "print(\"precision: {:g}\".format(precision))\n",
    "print(\"recall: {:g}\".format(recall))\n",
    "\n",
    "print(\"\\n---------------------\\n\")\n",
    "\n",
    "print(\"accuracy: {}\".format(accuracy))\n",
    "\n",
    "print(\"\\n---------------------\\n\")\n",
    "\n",
    "f1_score = 2*precision*recall/(precision + recall)\n",
    "print(\"f1_score: {}\".format(f1_score))"
   ]
  },
  {
   "cell_type": "code",
   "execution_count": 75,
   "id": "australian-amplifier",
   "metadata": {},
   "outputs": [
    {
     "data": {
      "text/plain": [
       "array([0.01795155, 0.0030013 , 0.50746524, ..., 0.01643844, 0.04093186,\n",
       "       0.06301876])"
      ]
     },
     "execution_count": 75,
     "metadata": {},
     "output_type": "execute_result"
    }
   ],
   "source": [
    "lr_probs"
   ]
  },
  {
   "cell_type": "code",
   "execution_count": 76,
   "id": "induced-portrait",
   "metadata": {},
   "outputs": [
    {
     "name": "stdout",
     "output_type": "stream",
     "text": [
      "No Skill: ROC AUC=0.500\n",
      "Logistic: ROC AUC=0.851\n"
     ]
    },
    {
     "data": {
      "image/png": "[encoded data removed]",
      "text/plain": [
       "<Figure size 864x576 with 1 Axes>"
      ]
     },
     "metadata": {},
     "output_type": "display_data"
    }
   ],
   "source": [
    "lr_probs = clf.predict_proba(X_test)\n",
    "\n",
    "# generate a no skill prediction (majority class)\n",
    "ns_probs = [0 for _ in range(len(y_test))]\n",
    "# keep probabilities for the positive outcome only\n",
    "lr_probs = lr_probs[:, 1]\n",
    "# calculate scores\n",
    "ns_auc = metrics.roc_auc_score(y_test, ns_probs)\n",
    "lr_auc = metrics.roc_auc_score(y_test, lr_probs)\n",
    "# summarize scores\n",
    "print('No Skill: ROC AUC=%.3f' % (ns_auc))\n",
    "print('Logistic: ROC AUC=%.3f' % (lr_auc))\n",
    "# calculate roc curves\n",
    "ns_fpr, ns_tpr, _ = metrics.roc_curve(y_test, ns_probs)\n",
    "lr_fpr, lr_tpr, _ = metrics.roc_curve(y_test, lr_probs)\n",
    "# plot the roc curve for the model\n",
    "plt.plot(ns_fpr, ns_tpr, linestyle='--', label='No Skill')\n",
    "plt.plot(lr_fpr, lr_tpr, marker='.', label='Logistic')\n",
    "# axis labels\n",
    "plt.xlabel('False Positive Rate')\n",
    "plt.ylabel('True Positive Rate')\n",
    "# show the legend\n",
    "plt.legend()\n",
    "# show the plot\n",
    "plt.show()"
   ]
  },
  {
   "cell_type": "code",
   "execution_count": 77,
   "id": "greatest-bailey",
   "metadata": {},
   "outputs": [
    {
     "name": "stdout",
     "output_type": "stream",
     "text": [
      "Logistic: f1=0.374 auc=0.492\n"
     ]
    },
    {
     "data": {
      "image/png": "[encoded data removed]",
      "text/plain": [
       "<Figure size 864x576 with 1 Axes>"
      ]
     },
     "metadata": {},
     "output_type": "display_data"
    }
   ],
   "source": [
    "# predict probabilities\n",
    "lr_probs = clf.predict_proba(X_test)\n",
    "# keep probabilities for the positive outcome only\n",
    "lr_probs = lr_probs[:, 1]\n",
    "# predict class values\n",
    "yhat = y_pred\n",
    "lr_precision, lr_recall, _ = metrics.precision_recall_curve(y_test, lr_probs)\n",
    "lr_f1, lr_auc = metrics.f1_score(y_test, yhat), metrics.auc(lr_recall, lr_precision)\n",
    "# summarize scores\n",
    "print('Logistic: f1=%.3f auc=%.3f' % (lr_f1, lr_auc))\n",
    "# plot the precision-recall curves\n",
    "no_skill = len(y_test[y_test==1]) / len(y_test)\n",
    "plt.plot([0, 1], [no_skill, no_skill], linestyle='--', label='No Skill')\n",
    "plt.plot(lr_recall, lr_precision, marker='.', label='Logistic')\n",
    "# axis labels\n",
    "plt.xlabel('Recall')\n",
    "plt.ylabel('Precision')\n",
    "# show the legend\n",
    "plt.legend()\n",
    "# show the plot\n",
    "plt.show()\n"
   ]
  },
  {
   "cell_type": "markdown",
   "id": "first-office",
   "metadata": {},
   "source": [
    "### C. KFold Cross Validation"
   ]
  },
  {
   "cell_type": "code",
   "execution_count": 9,
   "id": "recorded-portal",
   "metadata": {},
   "outputs": [
    {
     "name": "stderr",
     "output_type": "stream",
     "text": [
      "/home/aumaron/Desktop/other_projects/venv/lib/python3.7/site-packages/sklearn/linear_model/_logistic.py:765: ConvergenceWarning: lbfgs failed to converge (status=1):\n",
      "STOP: TOTAL NO. of ITERATIONS REACHED LIMIT.\n",
      "\n",
      "Increase the number of iterations (max_iter) or scale the data as shown in:\n",
      "    https://scikit-learn.org/stable/modules/preprocessing.html\n",
      "Please also refer to the documentation for alternative solver options:\n",
      "    https://scikit-learn.org/stable/modules/linear_model.html#logistic-regression\n",
      "  extra_warning_msg=_LOGISTIC_SOLVER_CONVERGENCE_MSG)\n",
      "/home/aumaron/Desktop/other_projects/venv/lib/python3.7/site-packages/sklearn/linear_model/_logistic.py:765: ConvergenceWarning: lbfgs failed to converge (status=1):\n",
      "STOP: TOTAL NO. of ITERATIONS REACHED LIMIT.\n",
      "\n",
      "Increase the number of iterations (max_iter) or scale the data as shown in:\n",
      "    https://scikit-learn.org/stable/modules/preprocessing.html\n",
      "Please also refer to the documentation for alternative solver options:\n",
      "    https://scikit-learn.org/stable/modules/linear_model.html#logistic-regression\n",
      "  extra_warning_msg=_LOGISTIC_SOLVER_CONVERGENCE_MSG)\n",
      "/home/aumaron/Desktop/other_projects/venv/lib/python3.7/site-packages/sklearn/linear_model/_logistic.py:765: ConvergenceWarning: lbfgs failed to converge (status=1):\n",
      "STOP: TOTAL NO. of ITERATIONS REACHED LIMIT.\n",
      "\n",
      "Increase the number of iterations (max_iter) or scale the data as shown in:\n",
      "    https://scikit-learn.org/stable/modules/preprocessing.html\n",
      "Please also refer to the documentation for alternative solver options:\n",
      "    https://scikit-learn.org/stable/modules/linear_model.html#logistic-regression\n",
      "  extra_warning_msg=_LOGISTIC_SOLVER_CONVERGENCE_MSG)\n",
      "/home/aumaron/Desktop/other_projects/venv/lib/python3.7/site-packages/sklearn/linear_model/_logistic.py:765: ConvergenceWarning: lbfgs failed to converge (status=1):\n",
      "STOP: TOTAL NO. of ITERATIONS REACHED LIMIT.\n",
      "\n",
      "Increase the number of iterations (max_iter) or scale the data as shown in:\n",
      "    https://scikit-learn.org/stable/modules/preprocessing.html\n",
      "Please also refer to the documentation for alternative solver options:\n",
      "    https://scikit-learn.org/stable/modules/linear_model.html#logistic-regression\n",
      "  extra_warning_msg=_LOGISTIC_SOLVER_CONVERGENCE_MSG)\n",
      "/home/aumaron/Desktop/other_projects/venv/lib/python3.7/site-packages/sklearn/linear_model/_logistic.py:765: ConvergenceWarning: lbfgs failed to converge (status=1):\n",
      "STOP: TOTAL NO. of ITERATIONS REACHED LIMIT.\n",
      "\n",
      "Increase the number of iterations (max_iter) or scale the data as shown in:\n",
      "    https://scikit-learn.org/stable/modules/preprocessing.html\n",
      "Please also refer to the documentation for alternative solver options:\n",
      "    https://scikit-learn.org/stable/modules/linear_model.html#logistic-regression\n",
      "  extra_warning_msg=_LOGISTIC_SOLVER_CONVERGENCE_MSG)\n",
      "/home/aumaron/Desktop/other_projects/venv/lib/python3.7/site-packages/sklearn/linear_model/_logistic.py:765: ConvergenceWarning: lbfgs failed to converge (status=1):\n",
      "STOP: TOTAL NO. of ITERATIONS REACHED LIMIT.\n",
      "\n",
      "Increase the number of iterations (max_iter) or scale the data as shown in:\n",
      "    https://scikit-learn.org/stable/modules/preprocessing.html\n",
      "Please also refer to the documentation for alternative solver options:\n",
      "    https://scikit-learn.org/stable/modules/linear_model.html#logistic-regression\n",
      "  extra_warning_msg=_LOGISTIC_SOLVER_CONVERGENCE_MSG)\n",
      "/home/aumaron/Desktop/other_projects/venv/lib/python3.7/site-packages/sklearn/linear_model/_logistic.py:765: ConvergenceWarning: lbfgs failed to converge (status=1):\n",
      "STOP: TOTAL NO. of ITERATIONS REACHED LIMIT.\n",
      "\n",
      "Increase the number of iterations (max_iter) or scale the data as shown in:\n",
      "    https://scikit-learn.org/stable/modules/preprocessing.html\n",
      "Please also refer to the documentation for alternative solver options:\n",
      "    https://scikit-learn.org/stable/modules/linear_model.html#logistic-regression\n",
      "  extra_warning_msg=_LOGISTIC_SOLVER_CONVERGENCE_MSG)\n",
      "/home/aumaron/Desktop/other_projects/venv/lib/python3.7/site-packages/sklearn/linear_model/_logistic.py:765: ConvergenceWarning: lbfgs failed to converge (status=1):\n",
      "STOP: TOTAL NO. of ITERATIONS REACHED LIMIT.\n",
      "\n",
      "Increase the number of iterations (max_iter) or scale the data as shown in:\n",
      "    https://scikit-learn.org/stable/modules/preprocessing.html\n",
      "Please also refer to the documentation for alternative solver options:\n",
      "    https://scikit-learn.org/stable/modules/linear_model.html#logistic-regression\n",
      "  extra_warning_msg=_LOGISTIC_SOLVER_CONVERGENCE_MSG)\n",
      "/home/aumaron/Desktop/other_projects/venv/lib/python3.7/site-packages/sklearn/linear_model/_logistic.py:765: ConvergenceWarning: lbfgs failed to converge (status=1):\n",
      "STOP: TOTAL NO. of ITERATIONS REACHED LIMIT.\n",
      "\n",
      "Increase the number of iterations (max_iter) or scale the data as shown in:\n",
      "    https://scikit-learn.org/stable/modules/preprocessing.html\n",
      "Please also refer to the documentation for alternative solver options:\n",
      "    https://scikit-learn.org/stable/modules/linear_model.html#logistic-regression\n",
      "  extra_warning_msg=_LOGISTIC_SOLVER_CONVERGENCE_MSG)\n",
      "/home/aumaron/Desktop/other_projects/venv/lib/python3.7/site-packages/sklearn/linear_model/_logistic.py:765: ConvergenceWarning: lbfgs failed to converge (status=1):\n",
      "STOP: TOTAL NO. of ITERATIONS REACHED LIMIT.\n",
      "\n",
      "Increase the number of iterations (max_iter) or scale the data as shown in:\n",
      "    https://scikit-learn.org/stable/modules/preprocessing.html\n",
      "Please also refer to the documentation for alternative solver options:\n",
      "    https://scikit-learn.org/stable/modules/linear_model.html#logistic-regression\n",
      "  extra_warning_msg=_LOGISTIC_SOLVER_CONVERGENCE_MSG)\n"
     ]
    }
   ],
   "source": [
    "# %%timeit -n 1\n",
    "from sklearn.model_selection import StratifiedKFold\n",
    "from sklearn.model_selection import cross_val_score\n",
    "\n",
    "scores = []\n",
    "coeffs = []\n",
    "lr_auc = 0\n",
    "lr_fpr = 0\n",
    "lr_tpr = 0\n",
    "cm_ = np.zeros((2,2))\n",
    "kf = StratifiedKFold(n_splits=10,shuffle=True,random_state=0)  # n_splits = 10\n",
    "for train, test in kf.split(train_array, target):\n",
    "    X_train, X_test = train_array[train], train_array[test]\n",
    "    y_train, y_test = target[train], target[test]\n",
    "    \n",
    "    clf = LogisticRegression(solver=\"lbfgs\")\n",
    "    clf.fit(X_train, y_train)\n",
    "    coeff = clf.coef_\n",
    "    coeffs.append(coeff)\n",
    "    y_pred = clf.predict(X_test)\n",
    "    lr_probs = clf.predict_proba(X_test)\n",
    "    lr_probs = lr_probs[:, 1]\n",
    "    lr_auc = lr_auc + metrics.roc_auc_score(y_test, lr_probs)\n",
    "    cm_ = metrics.confusion_matrix(y_test, y_pred, labels=[0,1])\n",
    "    lr_fpr = metrics.roc_curve(y_test, lr_probs)[0]\n",
    "    lr_tpr = metrics.roc_curve(y_test, lr_probs)[1]\n",
    "###########\n",
    "mean_roc = lr_auc/ 5\n",
    "mean_lr_fpr = lr_fpr/ 5\n",
    "mean_lr_tpr = lr_tpr/ 5\n",
    "# print(f\"Confusion matrix - \\n{cm_}\")\n",
    "# plot the roc curve for the model\n",
    "# plt.plot(ns_fpr, ns_tpr, linestyle='--', label='No Skill')\n",
    "# plt.plot(mean_lr_fpr, mean_lr_tpr, marker='.', label='Logistic')\n",
    "# axis labels\n",
    "# plt.xlabel('False Positive Rate')\n",
    "# plt.ylabel('True Positive Rate')\n",
    "# show the legend\n",
    "# plt.legend()\n",
    "# show the plot\n",
    "# plt.show()\n",
    "\n",
    "#     scores.append(metrics.accuracy_score(y_test, y_pred))\n",
    "#     print(\"accuracy: {}\".format(metrics.accuracy_score(y_test, y_pred)))\n",
    "# avg_score = sum(scores)/ len(scores)\n",
    "# print(\"average score: {}\".format(avg_score))\n",
    "# pred_test_full = 0\n",
    "# cv_score =[]\n",
    "# i=1\n",
    "# for train_index,test_index in kf.split(X,y):\n",
    "#     print('{} of KFold {}'.format(i,kf.n_splits))\n",
    "#     xtr,xvl = X.loc[train_index],X.loc[test_index]\n",
    "#     ytr,yvl = y.loc[train_index],y.loc[test_index]\n",
    "    \n",
    "    #model\n",
    "#     lr = LogisticRegression(C=2)\n",
    "#     lr.fit(xtr,ytr)\n",
    "#     score = roc_auc_score(yvl,lr.predict(xvl))\n",
    "#     print('ROC AUC score:',score)\n",
    "#     cv_score.append(score)\n",
    "#     pred_test = lr.predict_proba(x_test)[:,1]\n",
    "#     pred_test_full +=pred_test\n",
    "#     i+=1"
   ]
  },
  {
   "cell_type": "code",
   "execution_count": 10,
   "id": "pressing-rochester",
   "metadata": {},
   "outputs": [
    {
     "name": "stdout",
     "output_type": "stream",
     "text": [
      "[array([[ 5.74163807e-02,  4.09480355e-02,  6.92691822e-02,\n",
      "         1.36788979e-02,  1.99386051e-02,  1.32469992e-02,\n",
      "         3.32815845e-01, -1.12617950e-03,  1.74898729e-02,\n",
      "        -1.52621991e-01, -1.48321539e-03,  1.25960910e-02,\n",
      "        -4.59691665e-02, -4.18927731e-02, -6.25058307e-03,\n",
      "         1.29077688e-01,  9.72527474e-03, -3.20946803e-04,\n",
      "         1.74769833e-02,  4.61969603e-03, -1.04167256e-02,\n",
      "        -2.36174216e-02,  7.47745771e-02, -9.86670899e-02,\n",
      "         2.51447087e-02,  1.01915566e-01,  3.40466623e-02,\n",
      "        -5.63446244e-03, -1.02939207e-01,  1.02406862e-02,\n",
      "         4.10588823e-05, -3.18994485e-02,  4.04303082e-02,\n",
      "        -3.61584187e-02, -1.79759859e-01,  2.33267778e-02,\n",
      "        -4.25383346e-02,  8.18725890e-03,  2.20250437e-03,\n",
      "        -3.47228267e-03,  1.94042665e-02, -5.99349403e-04,\n",
      "         2.77446804e-04, -2.48730521e-02, -2.78815174e-02,\n",
      "        -3.00638406e-03,  1.18338371e-02,  3.23167662e-03,\n",
      "         8.97538385e-03,  1.26534188e-02, -2.87739038e-02,\n",
      "         9.37236437e-03,  1.81260007e-02,  3.25705907e-01,\n",
      "        -6.27478239e-03,  1.11131622e-02, -2.80385671e-02,\n",
      "        -5.74620085e-02, -1.93448345e-02, -3.98205459e-02,\n",
      "         6.64436370e-03,  2.59836043e-03,  1.74105131e-02,\n",
      "        -1.67318374e-02, -3.36012255e-02,  6.53040089e-03,\n",
      "         8.81169510e-02,  2.07995284e-02,  2.70329671e-02,\n",
      "         4.37547242e-03,  8.55766529e-03,  9.04304087e-02,\n",
      "        -1.09561652e-02, -2.47759711e-03,  5.45728176e-03,\n",
      "        -2.02497808e-02, -2.58954982e-02, -1.37951305e-02,\n",
      "         6.00954058e-02,  2.20736422e-02, -2.50586343e-02,\n",
      "        -9.19816636e-02,  7.95584408e-03, -7.73337926e-03,\n",
      "         5.87696549e-03, -1.53789040e-02, -1.62579439e-02,\n",
      "        -1.89727950e-02, -2.19613957e-02,  3.40667083e-02,\n",
      "         6.64595759e-03,  9.54894841e-02, -3.53635144e-02,\n",
      "        -1.00352134e-01,  6.32245582e-02,  1.64555020e-01,\n",
      "         1.55755364e-03,  3.29143069e-03, -1.35188613e-02,\n",
      "         8.56304850e-02,  4.55835091e-04, -6.04273742e-03,\n",
      "        -6.71749248e-03,  5.12140594e-03, -3.85122513e-02,\n",
      "         1.19857247e-01,  4.22131653e-02, -1.83424165e-02,\n",
      "         2.31264997e-03, -3.63257002e-02,  5.32088490e-02,\n",
      "         1.18075761e-01,  5.14626548e-02, -1.04244036e-02,\n",
      "        -1.11564562e-01, -6.14217738e-02, -4.99831167e-02,\n",
      "         6.83719387e-04,  1.57834447e-02,  2.41179875e-02,\n",
      "        -2.50352405e-03, -7.51555384e-02, -2.61721435e-02,\n",
      "        -2.15470889e-02,  7.36008553e-03,  1.45832028e-01,\n",
      "         4.52861727e-02, -4.11777886e-02,  2.72649415e-02,\n",
      "        -4.37343993e-03,  1.70807934e-01, -1.12126321e-01,\n",
      "        -6.99636278e-02,  2.11623766e-01,  9.53841660e-03,\n",
      "         1.07933759e-02, -1.04805703e-03,  1.16855741e-02,\n",
      "         1.38913431e-02, -3.05269292e-02,  1.26133121e-02,\n",
      "        -1.37889962e-02, -1.05142302e-02, -1.28530751e-02,\n",
      "         1.11859593e-01,  2.47870614e-02, -7.45546440e-02,\n",
      "         1.77295876e-02, -8.31459878e-02, -1.57956624e-02,\n",
      "        -2.97384374e-02,  2.39085291e-02, -1.07003566e-02,\n",
      "        -9.87741164e-03, -2.88175478e-02,  2.14527429e-02,\n",
      "        -7.47282733e-02,  1.74515939e-02, -1.15699145e-03,\n",
      "         1.38631927e-02, -3.99852522e-04,  3.78783947e-02,\n",
      "         8.66934083e-02,  1.71892506e-02,  2.38730312e-02,\n",
      "        -3.43941022e-02, -1.62696936e-01,  1.24072515e-02,\n",
      "         1.49251488e-02, -1.31465027e-01,  3.78254801e-02,\n",
      "         7.81586768e-03, -1.36638483e-02,  2.50459278e-02,\n",
      "        -2.65637315e-02,  2.75951137e-02,  3.97495304e-03,\n",
      "        -4.57279979e-02, -7.53166786e-03,  6.36925157e-02,\n",
      "         1.73640006e-02,  4.24860095e-02, -4.03607770e-03,\n",
      "        -2.95286437e-03,  1.70763413e-02, -9.32023509e-04,\n",
      "        -3.02613467e-02,  3.98974414e-03, -2.69735552e-02,\n",
      "         3.73495252e-02,  4.46865362e-02,  5.49807628e-02,\n",
      "        -1.09255139e-01, -1.49577740e-02, -2.14175828e-02,\n",
      "         7.89483380e-02,  1.30264990e-02, -1.58967012e-01,\n",
      "        -5.68214060e-02,  8.04889073e-03]]), array([[ 5.29539451e-02,  4.10449301e-02,  7.29346067e-02,\n",
      "         1.71134360e-02,  1.96546005e-02,  1.30746756e-02,\n",
      "         3.12552355e-01,  7.89063610e-04,  1.76689443e-02,\n",
      "        -1.32097995e-01, -1.12976994e-03,  1.25712623e-02,\n",
      "        -4.75740196e-02, -4.06860225e-02, -3.67757669e-03,\n",
      "         1.17735391e-01,  1.37995336e-02, -3.02042297e-04,\n",
      "         1.76601601e-02,  4.76004556e-03, -9.83715726e-03,\n",
      "        -2.44565184e-02,  7.71512965e-02, -9.67655138e-02,\n",
      "         2.72567455e-02,  9.69116516e-02,  3.50426290e-02,\n",
      "        -2.93588624e-03, -9.15207127e-02,  1.22841434e-02,\n",
      "        -8.72850594e-04, -3.57378161e-02,  4.13725636e-02,\n",
      "        -3.66136146e-02, -1.76888749e-01,  2.36372274e-02,\n",
      "        -3.86148653e-02,  1.16527937e-02,  2.38548686e-03,\n",
      "        -3.36623455e-03,  2.13767362e-02, -5.52500631e-04,\n",
      "        -1.52138010e-02, -2.01532022e-02, -2.78665044e-02,\n",
      "        -2.92332213e-03,  9.83223408e-03,  2.95358778e-03,\n",
      "         8.91058112e-03,  1.30425088e-02, -2.62757186e-02,\n",
      "         9.74613038e-03,  1.70419555e-02,  3.06848880e-01,\n",
      "        -6.99562488e-03,  1.18546519e-02, -2.69085803e-02,\n",
      "        -5.50945971e-02, -1.91437643e-02, -3.33713209e-02,\n",
      "         7.62199830e-03,  2.50778522e-03,  2.07603867e-02,\n",
      "        -1.60291921e-02, -3.20686127e-02,  6.64489936e-03,\n",
      "         8.78190028e-02,  2.14110865e-02,  2.72977633e-02,\n",
      "         5.39469149e-03,  8.06794754e-03,  8.72636602e-02,\n",
      "        -9.74958957e-03, -2.17168728e-03,  2.79575180e-03,\n",
      "        -2.08084914e-02, -2.68565472e-02, -1.12868202e-02,\n",
      "         6.75596246e-02,  1.80659128e-02, -2.53174894e-02,\n",
      "        -1.07326758e-01,  8.59917648e-03, -8.27484571e-03,\n",
      "         5.64268035e-03, -1.55932605e-02, -1.65834274e-02,\n",
      "        -2.13921715e-02, -2.24809861e-02,  3.35905182e-02,\n",
      "         6.06233905e-03,  9.17771542e-02, -3.66782502e-02,\n",
      "        -9.32021753e-02,  6.36577717e-02,  1.68985405e-01,\n",
      "         2.50308660e-03,  3.26604899e-03, -1.34328103e-02,\n",
      "         8.67572534e-02,  4.79716060e-04, -5.62610898e-03,\n",
      "        -5.77010790e-03,  6.14321903e-03, -4.07638765e-02,\n",
      "         1.17689350e-01,  4.86711114e-02, -1.78970849e-02,\n",
      "         7.10161605e-03, -3.72412147e-02,  5.52490659e-02,\n",
      "         9.93870264e-02,  4.99147039e-02, -1.07925627e-02,\n",
      "        -9.84119256e-02, -6.47145039e-02, -4.50557435e-02,\n",
      "         1.02712849e-03,  1.54114471e-02,  2.44743931e-02,\n",
      "        -1.70581127e-03, -6.57360156e-02, -2.69146133e-02,\n",
      "        -2.03456793e-02,  4.63928598e-03,  1.40651783e-01,\n",
      "         4.94430503e-02, -3.73398821e-02,  2.51955619e-02,\n",
      "        -3.41611656e-03,  1.56165077e-01, -1.06545209e-01,\n",
      "        -6.08543678e-02,  2.01965109e-01,  9.10505075e-03,\n",
      "         1.25686420e-02, -1.40121885e-04,  1.14355580e-02,\n",
      "         1.40320494e-02, -2.99024667e-02,  1.26313004e-02,\n",
      "        -1.34394444e-02, -9.90883100e-03, -1.14474704e-02,\n",
      "         1.01739329e-01,  2.61790883e-02, -8.68495711e-02,\n",
      "         1.71002406e-02, -7.57387462e-02, -1.55226328e-02,\n",
      "        -3.16524277e-02,  2.62358683e-02, -1.15566519e-02,\n",
      "        -3.55817639e-03, -2.86979383e-02,  2.22103750e-02,\n",
      "        -6.68035727e-02,  1.86078773e-02, -8.90088316e-04,\n",
      "         1.45738923e-02, -5.73735639e-04,  3.84498064e-02,\n",
      "         8.10707542e-02,  1.98667717e-02,  2.54808825e-02,\n",
      "        -3.33245834e-02, -1.61846577e-01,  1.26233695e-02,\n",
      "         1.53277071e-02, -1.23361562e-01,  3.88340749e-02,\n",
      "         8.69337962e-03, -1.44781894e-02,  2.55231709e-02,\n",
      "        -2.73756728e-02,  2.94704887e-02,  3.48220937e-03,\n",
      "        -4.55524955e-02, -7.45863864e-03,  6.26105930e-02,\n",
      "         1.92626911e-02,  4.55696204e-02, -3.78499176e-03,\n",
      "        -3.05859908e-03,  1.61685955e-02,  2.04429169e-04,\n",
      "        -2.66501463e-02,  4.33538284e-03, -2.63950762e-02,\n",
      "         3.47561349e-02,  4.20091995e-02,  5.11520475e-02,\n",
      "        -1.02019997e-01, -1.57279004e-02, -1.86961981e-02,\n",
      "         7.55208737e-02,  1.43197166e-02, -1.44631736e-01,\n",
      "        -5.68886077e-02,  8.47653088e-03]]), array([[ 6.47168969e-02,  4.01656371e-02,  6.50870302e-02,\n",
      "         1.18939479e-02,  2.16284047e-02,  1.35202381e-02,\n",
      "         3.11021203e-01, -8.52242469e-04,  2.19541488e-02,\n",
      "        -1.51984287e-01, -8.45182421e-04,  1.21613783e-02,\n",
      "        -3.50357003e-02, -4.10083908e-02, -8.10081895e-03,\n",
      "         1.13492096e-01,  8.97348844e-03, -8.96498271e-04,\n",
      "         1.62684318e-02,  4.51664116e-03, -1.05699298e-02,\n",
      "        -2.44352115e-02,  7.91928164e-02, -8.34972168e-02,\n",
      "         2.62545050e-02,  9.15720831e-02,  3.46918627e-02,\n",
      "        -7.37191129e-03, -9.67327120e-02,  9.73713069e-03,\n",
      "         2.15655081e-04, -3.51782322e-02,  3.81232659e-02,\n",
      "        -3.43786650e-02, -1.60902077e-01,  2.66704904e-02,\n",
      "        -4.73955181e-02,  5.56424638e-03,  2.20314912e-03,\n",
      "        -3.62762359e-03,  2.06837690e-02, -6.86131861e-04,\n",
      "        -1.70895005e-03, -1.52302456e-02, -2.75600923e-02,\n",
      "        -3.71617603e-03,  1.05944573e-02,  3.15526082e-03,\n",
      "         8.37479675e-03,  1.11386879e-02, -1.11970577e-02,\n",
      "         1.00615931e-02,  1.94140470e-02,  2.87499900e-01,\n",
      "        -7.18300009e-03,  1.15886854e-02, -3.14213383e-02,\n",
      "        -5.18430731e-02, -1.86644157e-02, -2.98954889e-02,\n",
      "         6.13887092e-03,  2.18078319e-03,  2.19188295e-02,\n",
      "        -1.77956306e-02, -3.97631169e-02,  7.62388198e-03,\n",
      "         9.00753024e-02,  1.86432518e-02,  2.57395373e-02,\n",
      "         5.57345646e-03,  7.27887559e-03,  7.43848183e-02,\n",
      "        -1.05149779e-02, -3.02341571e-03,  6.03006946e-03,\n",
      "        -2.06418674e-02, -2.64101059e-02, -1.35871957e-02,\n",
      "         6.44881373e-02,  2.33343914e-02, -2.31022188e-02,\n",
      "        -8.98847573e-02,  8.75691320e-03, -8.11003345e-03,\n",
      "         6.31483891e-03, -1.79366939e-02, -1.63267783e-02,\n",
      "        -2.02555240e-02, -2.06342234e-02,  4.13450444e-02,\n",
      "         7.11454498e-03,  8.40815121e-02, -3.32753238e-02,\n",
      "        -8.57558722e-02,  6.18243414e-02,  1.53883485e-01,\n",
      "         1.20966348e-03,  3.84565767e-03, -7.04319473e-03,\n",
      "         9.41094744e-02,  4.17356767e-04, -6.39446332e-03,\n",
      "        -6.64592515e-03,  7.96363361e-03, -4.45789509e-02,\n",
      "         1.16935487e-01,  4.60154557e-02, -1.80791754e-02,\n",
      "         9.63073868e-03, -3.61410108e-02,  5.27504522e-02,\n",
      "         1.09782551e-01,  5.61264517e-02, -9.78127950e-03,\n",
      "        -9.71241633e-02, -5.83297805e-02, -5.18400778e-02,\n",
      "         1.11335770e-04,  1.58737377e-02,  2.16349370e-02,\n",
      "        -2.86436351e-03, -8.00000272e-02, -2.99405556e-02,\n",
      "        -2.22828962e-02,  6.59579289e-03,  1.31163113e-01,\n",
      "         4.64154651e-02, -4.81763632e-02,  3.16519645e-02,\n",
      "        -3.64911802e-03,  1.60369559e-01, -9.86588051e-02,\n",
      "        -7.45029017e-02,  1.84642015e-01,  9.54420411e-03,\n",
      "         1.12224241e-02, -5.59252010e-04,  1.07077817e-02,\n",
      "         1.40877314e-02, -3.05740770e-02,  1.33592683e-02,\n",
      "        -1.53075076e-02, -1.09019044e-02, -1.33257940e-02,\n",
      "         1.03640424e-01,  2.54975580e-02, -7.09478094e-02,\n",
      "         1.60109886e-02, -6.74328617e-02, -1.41037779e-02,\n",
      "        -3.05847567e-02,  2.21166922e-02, -1.08736345e-02,\n",
      "        -8.81007324e-03, -3.23118690e-02,  2.19616947e-02,\n",
      "        -6.57909811e-02,  1.89906940e-02, -2.10910054e-03,\n",
      "         1.16129635e-02, -9.39932441e-04,  3.35473086e-02,\n",
      "         9.24847461e-02,  2.05131621e-02,  2.54547495e-02,\n",
      "        -3.74755634e-02, -1.46726434e-01,  1.25359050e-02,\n",
      "         2.02411961e-02, -1.05297430e-01,  3.76675318e-02,\n",
      "         9.38240961e-03, -1.44936804e-02,  2.43191364e-02,\n",
      "        -2.70803174e-02,  3.15656999e-02,  3.09549116e-03,\n",
      "        -4.24593305e-02, -6.79906420e-03,  6.33986103e-02,\n",
      "         2.13658371e-02,  5.01939057e-02, -3.68635904e-03,\n",
      "        -1.38176950e-03,  1.76224884e-02, -2.04396837e-04,\n",
      "        -3.61941220e-02,  4.37325267e-03, -2.94693342e-02,\n",
      "         3.23410060e-02,  4.41402062e-02,  6.08702356e-02,\n",
      "        -1.19430053e-01, -1.38575304e-02, -2.23621236e-02,\n",
      "         8.24767131e-02,  1.30078511e-02, -1.40193799e-01,\n",
      "        -6.17781858e-02,  7.74394903e-03]]), array([[ 5.26827839e-02,  4.11350347e-02,  6.94012151e-02,\n",
      "         1.66311485e-02,  2.13759544e-02,  1.40923575e-02,\n",
      "         3.27207186e-01,  8.53867720e-04,  1.84913466e-02,\n",
      "        -1.49054893e-01, -1.73067803e-03,  1.31635243e-02,\n",
      "        -4.65147767e-02, -3.94011568e-02, -6.10576419e-03,\n",
      "         1.23929621e-01,  1.00663116e-02, -1.00191358e-04,\n",
      "         1.77721825e-02,  4.78448501e-03, -1.06695610e-02,\n",
      "        -2.32886688e-02,  7.18932303e-02, -9.66308529e-02,\n",
      "         2.67048015e-02,  1.01895533e-01,  3.43587979e-02,\n",
      "        -8.22777186e-03, -1.01129870e-01,  1.03221183e-02,\n",
      "        -3.90656792e-04, -3.67219949e-02,  4.02293285e-02,\n",
      "        -3.80638404e-02, -1.75387525e-01,  2.26235566e-02,\n",
      "        -3.90317951e-02,  1.23311415e-02,  2.00268002e-03,\n",
      "        -3.78142794e-03,  2.03218175e-02, -1.55231878e-03,\n",
      "        -8.90714812e-03, -2.07789381e-02, -2.92144635e-02,\n",
      "        -4.40820594e-03,  8.35488634e-03,  3.28162924e-03,\n",
      "         1.04143365e-02,  1.32379779e-02, -2.65168870e-02,\n",
      "         9.00693669e-03,  1.71408703e-02,  3.25901267e-01,\n",
      "        -6.04652702e-03,  1.26746089e-02, -2.70549322e-02,\n",
      "        -5.28328998e-02, -1.96200961e-02, -3.15313179e-02,\n",
      "         7.02418467e-03,  2.34340505e-03,  2.30788169e-02,\n",
      "        -1.43329924e-02, -3.80619130e-02,  8.04514658e-03,\n",
      "         9.35544563e-02,  1.89033342e-02,  2.82214325e-02,\n",
      "         4.97424082e-03,  8.53776646e-03,  8.87123812e-02,\n",
      "        -1.12214535e-02, -2.47438812e-03,  4.70505510e-03,\n",
      "        -2.10429392e-02, -2.62305292e-02, -1.24205377e-02,\n",
      "         7.15744848e-02,  2.26189914e-02, -2.51102901e-02,\n",
      "        -1.04653063e-01,  8.72011905e-03, -7.80462792e-03,\n",
      "         5.15264348e-03, -1.60761329e-02, -1.67418719e-02,\n",
      "        -2.11716498e-02, -2.19594191e-02,  3.62789621e-02,\n",
      "         7.25465488e-03,  9.60138606e-02, -3.74566713e-02,\n",
      "        -9.20716524e-02,  6.02369663e-02,  1.65809804e-01,\n",
      "         1.09096736e-03,  4.46537166e-03, -1.77425630e-02,\n",
      "         9.64112416e-02,  7.98377376e-04, -6.55857634e-03,\n",
      "        -6.55746652e-03,  7.35538712e-03, -4.28860590e-02,\n",
      "         1.22198910e-01,  4.88815196e-02, -1.85590851e-02,\n",
      "         5.95770267e-03, -3.80607671e-02,  5.59714451e-02,\n",
      "         1.15637638e-01,  5.38870170e-02, -1.19755506e-02,\n",
      "        -1.03773015e-01, -6.29394758e-02, -4.99517797e-02,\n",
      "         3.92862019e-04,  1.49530884e-02,  2.56513162e-02,\n",
      "        -2.92940328e-03, -7.82296603e-02, -2.63554630e-02,\n",
      "        -2.01811318e-02,  7.81744754e-03,  1.44232570e-01,\n",
      "         5.19193581e-02, -3.87018252e-02,  2.60951687e-02,\n",
      "        -4.43096375e-03,  1.73097464e-01, -1.14902153e-01,\n",
      "        -6.96090238e-02,  2.09613335e-01,  8.63144739e-03,\n",
      "         1.09106627e-02, -2.17560580e-03,  1.10495456e-02,\n",
      "         1.35865194e-02, -3.04355995e-02,  1.09324923e-02,\n",
      "        -1.16106235e-02, -1.00016039e-02, -1.10416448e-02,\n",
      "         1.09469300e-01,  2.85595800e-02, -8.39516264e-02,\n",
      "         1.69762375e-02, -7.97893049e-02, -1.34673464e-02,\n",
      "        -3.44332612e-02,  2.58616895e-02, -9.84287240e-03,\n",
      "        -6.85705436e-03, -2.72277543e-02,  2.32312337e-02,\n",
      "        -7.13623383e-02,  1.99009229e-02, -1.43797840e-03,\n",
      "         1.43469523e-02, -1.70606699e-03,  3.89010931e-02,\n",
      "         8.62212434e-02,  1.92340980e-02,  2.50495993e-02,\n",
      "        -3.29280322e-02, -1.57869235e-01,  1.29798140e-02,\n",
      "         1.39491966e-02, -1.25682946e-01,  3.83456574e-02,\n",
      "         8.87383429e-03, -1.45373366e-02,  2.57015102e-02,\n",
      "        -2.51938851e-02,  2.73126941e-02,  3.43012963e-03,\n",
      "        -4.78768555e-02, -6.34773617e-03,  6.09920742e-02,\n",
      "         1.92317788e-02,  4.06759516e-02, -3.48010820e-03,\n",
      "        -2.83571169e-03,  1.55455895e-02, -5.55253513e-04,\n",
      "        -2.79538661e-02,  4.99512931e-03, -2.93685878e-02,\n",
      "         3.65865770e-02,  4.15036730e-02,  5.11478802e-02,\n",
      "        -1.18388702e-01, -1.51878139e-02, -2.05462091e-02,\n",
      "         7.96945844e-02,  1.42213371e-02, -1.57965410e-01,\n",
      "        -5.33814501e-02,  7.47363984e-03]]), array([[ 6.15221607e-02,  3.83723180e-02,  7.37500598e-02,\n",
      "         1.32703116e-02,  1.97481696e-02,  1.46076171e-02,\n",
      "         3.13965895e-01,  1.28696368e-03,  1.98580488e-02,\n",
      "        -1.38798906e-01, -1.00053196e-03,  1.42386834e-02,\n",
      "        -3.88795490e-02, -4.07989321e-02, -6.62955995e-03,\n",
      "         1.14068330e-01,  9.78523795e-03, -3.74355717e-06,\n",
      "         1.84864842e-02,  5.20331091e-03, -1.03187678e-02,\n",
      "        -2.35800101e-02,  7.97188003e-02, -8.55860616e-02,\n",
      "         2.45395536e-02,  9.73858716e-02,  3.83910429e-02,\n",
      "        -4.46057222e-03, -1.05244329e-01,  1.13667261e-02,\n",
      "        -1.05229090e-03, -3.57483051e-02,  4.18140504e-02,\n",
      "        -3.53415635e-02, -1.75834235e-01,  2.45566001e-02,\n",
      "        -4.52177892e-02,  8.62916138e-03,  2.86154724e-03,\n",
      "        -3.68743600e-03,  2.00674553e-02,  8.39741521e-04,\n",
      "        -2.88425567e-03, -1.46375657e-02, -2.99584696e-02,\n",
      "        -2.66216516e-03,  9.37125333e-03,  3.65481970e-03,\n",
      "         9.95039150e-03,  1.24221700e-02, -2.81684588e-02,\n",
      "         9.20147801e-03,  1.83414911e-02,  2.95463842e-01,\n",
      "        -6.58525035e-03,  1.22615632e-02, -2.77742080e-02,\n",
      "        -5.57591218e-02, -1.82624052e-02, -2.48230885e-02,\n",
      "         6.55037788e-03,  2.78963346e-03,  2.00879929e-02,\n",
      "        -1.62662619e-02, -3.77561675e-02,  7.01245279e-03,\n",
      "         8.98255397e-02,  1.96297476e-02,  2.67962276e-02,\n",
      "         4.00811001e-03,  1.04836423e-02,  8.34980888e-02,\n",
      "        -1.16010154e-02, -3.03505551e-03,  5.76101797e-03,\n",
      "        -2.15402892e-02, -2.72933835e-02, -1.23478971e-02,\n",
      "         6.66876582e-02,  2.27901208e-02, -2.54834193e-02,\n",
      "        -1.00327208e-01,  7.99008625e-03, -7.79061639e-03,\n",
      "         7.02909790e-03, -1.41176224e-02, -1.78298422e-02,\n",
      "        -2.13271269e-02, -2.17660173e-02,  3.52256151e-02,\n",
      "         7.27441066e-03,  9.02320479e-02, -3.39186817e-02,\n",
      "        -8.63427379e-02,  6.46908454e-02,  1.57194905e-01,\n",
      "         1.00984799e-03,  4.56324999e-03, -1.41331160e-02,\n",
      "         8.90652443e-02,  1.05325418e-03, -6.13851025e-03,\n",
      "        -6.54980335e-03,  4.53617002e-03, -3.87194256e-02,\n",
      "         1.15511563e-01,  4.74226250e-02, -1.82092673e-02,\n",
      "         8.94664078e-03, -3.48552152e-02,  4.91403197e-02,\n",
      "         1.08785653e-01,  5.27479897e-02, -9.58128909e-03,\n",
      "        -1.01765838e-01, -6.33720663e-02, -5.05277002e-02,\n",
      "         1.10222604e-03,  1.41173926e-02,  2.28696443e-02,\n",
      "        -2.80670567e-03, -7.52338941e-02, -2.67674739e-02,\n",
      "        -2.27776706e-02,  7.69312224e-03,  1.38887284e-01,\n",
      "         4.03987734e-02, -4.51781813e-02,  2.95041300e-02,\n",
      "        -3.01178199e-03,  1.62746126e-01, -1.06915614e-01,\n",
      "        -6.52659456e-02,  1.92570577e-01,  9.74831042e-03,\n",
      "         1.12827284e-02, -1.26515271e-03,  1.08456867e-02,\n",
      "         1.42557511e-02, -3.28244193e-02,  1.27925562e-02,\n",
      "        -1.49739182e-02, -1.08860188e-02, -1.41551417e-02,\n",
      "         9.33408176e-02,  2.32707600e-02, -8.43052659e-02,\n",
      "         1.75439404e-02, -7.46360551e-02, -1.47583850e-02,\n",
      "        -3.29447923e-02,  2.24011203e-02, -1.08617064e-02,\n",
      "        -8.86187269e-03, -2.94536043e-02,  2.34735499e-02,\n",
      "        -6.47713020e-02,  1.96932780e-02, -3.08898126e-04,\n",
      "         1.40122312e-02, -1.02197948e-03,  3.72541904e-02,\n",
      "         8.65015949e-02,  1.98969419e-02,  2.44464828e-02,\n",
      "        -3.45235851e-02, -1.51273789e-01,  1.30074998e-02,\n",
      "         1.59100604e-02, -1.13480893e-01,  3.80349369e-02,\n",
      "         8.22590260e-03, -1.39253566e-02,  2.71539011e-02,\n",
      "        -2.68343993e-02,  3.13712122e-02,  3.95856351e-03,\n",
      "        -4.66044276e-02, -7.19015610e-03,  6.76336116e-02,\n",
      "         1.92189062e-02,  4.62719410e-02, -3.41671552e-03,\n",
      "        -3.03320814e-03,  1.76029127e-02, -1.67485986e-03,\n",
      "        -3.16440586e-02,  4.78264277e-03, -2.53302959e-02,\n",
      "         3.66548515e-02,  4.39704383e-02,  5.66688021e-02,\n",
      "        -1.14930262e-01, -1.38324584e-02, -2.29733876e-02,\n",
      "         7.67926346e-02,  1.38256736e-02, -1.35620140e-01,\n",
      "        -6.17113057e-02,  8.12872508e-03]]), array([[ 6.43226865e-02,  3.88361170e-02,  6.88152927e-02,\n",
      "         1.76750862e-02,  2.96641828e-02,  1.31092218e-02,\n",
      "         2.41945258e-01, -1.37115123e-03,  2.03268917e-02,\n",
      "        -1.30368091e-01, -3.52596520e-04,  1.24071077e-02,\n",
      "        -1.48412105e-02, -3.82405431e-02, -7.49033929e-03,\n",
      "         9.02408002e-02,  1.03829864e-02,  7.90271132e-05,\n",
      "         1.71943173e-02,  4.60259584e-03, -1.06247528e-02,\n",
      "        -2.39430933e-02,  7.72043069e-02, -5.46629005e-02,\n",
      "         2.67142621e-02,  7.57638082e-02,  3.26383959e-02,\n",
      "        -4.21028519e-03, -6.53703463e-02,  9.75314272e-03,\n",
      "        -4.60507976e-04, -4.24824260e-02,  4.27069387e-02,\n",
      "        -3.31616616e-02, -1.08421782e-01,  2.48870097e-02,\n",
      "        -4.55970585e-02,  1.07945932e-02, -6.43359053e-04,\n",
      "        -3.99839450e-03,  2.05548678e-02, -1.62357891e-03,\n",
      "         7.14748543e-03, -1.36338939e-03, -2.62469958e-02,\n",
      "        -1.78075457e-03,  7.64869258e-03,  2.90529426e-03,\n",
      "         8.92354218e-03,  1.20787069e-02, -4.35638130e-03,\n",
      "         9.24758433e-03,  1.81488349e-02,  2.22849140e-01,\n",
      "        -6.57710174e-03,  1.11054444e-02, -3.56851063e-02,\n",
      "        -3.82233474e-02, -1.80067016e-02, -1.63339945e-02,\n",
      "         4.21009837e-03,  2.60355824e-03,  2.48678763e-02,\n",
      "        -1.72141245e-02, -3.35716555e-02,  8.67793357e-03,\n",
      "         8.24828707e-02,  2.13581967e-02,  2.11073330e-02,\n",
      "         4.91781963e-03,  8.99907767e-03,  5.40126300e-02,\n",
      "        -1.09242274e-02, -2.58138813e-03,  2.97155045e-03,\n",
      "        -1.99471756e-02, -2.57874836e-02, -1.72069679e-02,\n",
      "         8.68919217e-02,  3.43578495e-02, -2.42834945e-02,\n",
      "        -1.09977528e-01,  9.18960002e-03, -8.42283292e-03,\n",
      "         4.75555287e-03, -1.89978602e-02, -1.58759383e-02,\n",
      "        -2.03619537e-02, -2.43130863e-02,  4.07056360e-02,\n",
      "         6.00375313e-03,  6.30573376e-02, -3.21547621e-02,\n",
      "        -5.87727547e-02,  6.00042866e-02,  1.12231505e-01,\n",
      "         1.51373710e-03,  4.01209338e-03, -3.44574152e-03,\n",
      "         1.17371720e-01,  9.00489963e-04, -5.72773365e-03,\n",
      "        -6.62603767e-03,  5.59205958e-03, -5.01471843e-02,\n",
      "         9.03342623e-02,  6.56542220e-02, -1.79293521e-02,\n",
      "         1.72456918e-02, -3.41928245e-02,  5.39430846e-02,\n",
      "         1.00913936e-01,  6.52608002e-02, -1.11120170e-02,\n",
      "        -7.93726371e-02, -6.14209195e-02, -5.69063479e-02,\n",
      "         2.49379473e-04,  1.62443691e-02,  2.05693885e-02,\n",
      "        -2.45676682e-03, -9.02616365e-02, -3.02124709e-02,\n",
      "        -2.02059313e-02,  7.65835471e-03,  1.01523646e-01,\n",
      "         4.35713040e-02, -4.67911195e-02,  3.21599940e-02,\n",
      "        -5.39274268e-03,  1.30957292e-01, -6.67353238e-02,\n",
      "        -7.16825792e-02,  1.30120993e-01,  8.66660691e-03,\n",
      "         1.13516042e-02, -1.09274824e-03,  1.17574687e-02,\n",
      "         1.28886447e-02, -3.00945722e-02,  1.14573437e-02,\n",
      "        -1.50108191e-02, -1.22753795e-02, -1.48728855e-02,\n",
      "         8.70744217e-02,  2.43345806e-02, -8.29585681e-02,\n",
      "         1.84459572e-02, -4.32800544e-02, -1.48698204e-02,\n",
      "        -3.42253489e-02,  2.20350527e-02, -1.17993663e-02,\n",
      "        -7.09695287e-03, -2.99656780e-02,  2.04962725e-02,\n",
      "        -4.36412279e-02,  1.86658572e-02, -1.72692893e-03,\n",
      "         1.04558805e-02, -9.98045080e-04,  2.83433833e-02,\n",
      "         9.22530947e-02,  2.07599181e-02,  2.68038298e-02,\n",
      "        -3.58199381e-02, -9.96068270e-02,  1.28385113e-02,\n",
      "         1.79192165e-02, -7.23087384e-02,  3.41543242e-02,\n",
      "         8.28414628e-03, -1.52070923e-02,  2.30469088e-02,\n",
      "        -2.87460997e-02,  3.02001266e-02,  4.05874257e-03,\n",
      "        -4.80079936e-02, -7.33479558e-03,  6.63701703e-02,\n",
      "         2.14832038e-02,  5.05089436e-02, -2.96969554e-03,\n",
      "        -1.76175226e-03,  1.71812808e-02, -7.30952078e-04,\n",
      "        -3.67187145e-02,  4.54945812e-03, -2.95727660e-02,\n",
      "         2.94955813e-02,  3.92688906e-02,  6.12331083e-02,\n",
      "        -1.20708453e-01, -1.39347002e-02, -2.36503260e-02,\n",
      "         8.13475615e-02,  1.46330025e-02, -1.03820842e-01,\n",
      "        -6.29891459e-02,  8.16291671e-03]]), array([[ 5.84539635e-02,  4.00879547e-02,  6.99528346e-02,\n",
      "         1.26754463e-02,  2.17369430e-02,  1.29598367e-02,\n",
      "         3.21270400e-01, -5.94227991e-04,  1.89730082e-02,\n",
      "        -1.50254653e-01, -1.06202539e-03,  1.36278433e-02,\n",
      "        -4.34839060e-02, -4.13351912e-02, -4.48263641e-03,\n",
      "         1.23495134e-01,  1.07460020e-02, -2.66660105e-04,\n",
      "         1.73062411e-02,  5.02105292e-03, -9.61327967e-03,\n",
      "        -2.25134471e-02,  7.45082992e-02, -8.97511110e-02,\n",
      "         2.50481721e-02,  9.46057765e-02,  3.68331090e-02,\n",
      "        -6.46209566e-03, -1.00389746e-01,  1.04382638e-02,\n",
      "         8.49991637e-06, -3.26206466e-02,  4.11214159e-02,\n",
      "        -3.64095808e-02, -1.75472862e-01,  2.26315327e-02,\n",
      "        -4.20985702e-02,  7.43575547e-03,  2.99810073e-03,\n",
      "        -3.52522571e-03,  1.83732273e-02, -9.58388585e-05,\n",
      "        -6.55389419e-03, -1.80770882e-02, -2.87206018e-02,\n",
      "        -3.37745945e-03,  1.13164797e-02,  3.74994745e-03,\n",
      "         1.13240485e-02,  1.28053332e-02, -3.26711986e-02,\n",
      "         8.44656273e-03,  1.81284055e-02,  2.98482415e-01,\n",
      "        -6.37573137e-03,  1.20962748e-02, -2.78346846e-02,\n",
      "        -5.47520241e-02, -1.76274757e-02, -3.62196582e-02,\n",
      "         7.12884522e-03,  2.57673888e-03,  1.85659573e-02,\n",
      "        -1.67802987e-02, -3.39352426e-02,  7.75017952e-03,\n",
      "         9.66026873e-02,  1.85866006e-02,  2.61620475e-02,\n",
      "         4.91527505e-03,  8.12700022e-03,  8.31636600e-02,\n",
      "        -9.94250610e-03, -3.45379151e-03,  5.69415758e-03,\n",
      "        -2.06200863e-02, -2.63115345e-02, -1.12271542e-02,\n",
      "         6.71834473e-02,  2.47242928e-02, -2.43132370e-02,\n",
      "        -9.89487548e-02,  7.25602763e-03, -7.35852067e-03,\n",
      "         6.81420786e-03, -1.51764652e-02, -1.74927178e-02,\n",
      "        -1.95563717e-02, -2.05599531e-02,  3.36077754e-02,\n",
      "         6.39530361e-03,  8.77094237e-02, -3.48806821e-02,\n",
      "        -9.00496020e-02,  6.29396770e-02,  1.59130647e-01,\n",
      "         6.97057014e-04,  4.81069562e-03, -5.42762663e-03,\n",
      "         9.06837104e-02,  8.71636554e-04, -5.00978052e-03,\n",
      "        -6.84500222e-03,  7.66152563e-03, -4.21958798e-02,\n",
      "         1.13142767e-01,  4.69073877e-02, -1.83228423e-02,\n",
      "         4.13520153e-03, -3.71746612e-02,  5.05881509e-02,\n",
      "         1.12626154e-01,  5.46779029e-02, -1.20496080e-02,\n",
      "        -1.03103951e-01, -6.06693733e-02, -4.90966144e-02,\n",
      "        -2.42563101e-04,  1.38244561e-02,  2.38918992e-02,\n",
      "        -2.21017431e-03, -7.78857469e-02, -2.60303669e-02,\n",
      "        -2.19530762e-02,  8.77856086e-03,  1.39961451e-01,\n",
      "         4.89613754e-02, -4.08611376e-02,  2.67094547e-02,\n",
      "        -2.91813100e-03,  1.64946468e-01, -1.06752942e-01,\n",
      "        -6.84522953e-02,  1.96174646e-01,  9.93785192e-03,\n",
      "         1.10929558e-02, -2.09776887e-03,  9.64071834e-03,\n",
      "         1.37662682e-02, -3.14795141e-02,  1.25118275e-02,\n",
      "        -1.39036435e-02, -1.04325095e-02, -1.20257760e-02,\n",
      "         1.13655935e-01,  2.48914896e-02, -7.90901503e-02,\n",
      "         1.64304283e-02, -7.45183908e-02, -1.41547754e-02,\n",
      "        -3.32091547e-02,  2.42961561e-02, -1.04400003e-02,\n",
      "        -5.95877425e-03, -2.96944357e-02,  2.22054398e-02,\n",
      "        -6.74831715e-02,  1.82791093e-02, -1.36901452e-03,\n",
      "         1.40410070e-02, -7.43895253e-04,  3.68678811e-02,\n",
      "         9.40208524e-02,  1.77229674e-02,  2.38756391e-02,\n",
      "        -3.47837480e-02, -1.58178386e-01,  1.24164011e-02,\n",
      "         1.59421844e-02, -1.15774107e-01,  4.04352600e-02,\n",
      "         8.26423430e-03, -1.30686421e-02,  2.54600424e-02,\n",
      "        -2.66946496e-02,  2.93885200e-02,  3.11728405e-03,\n",
      "        -4.72816252e-02, -6.13126021e-03,  6.37976799e-02,\n",
      "         1.87185582e-02,  4.13233001e-02, -2.85758800e-03,\n",
      "        -2.47825795e-03,  1.77118644e-02, -1.31476922e-03,\n",
      "        -3.03582961e-02,  4.05014792e-03, -2.52287700e-02,\n",
      "         4.58660443e-02,  4.51596087e-02,  5.47387722e-02,\n",
      "        -1.18409460e-01, -1.29259031e-02, -2.31050534e-02,\n",
      "         8.48214994e-02,  1.36378320e-02, -1.48522360e-01,\n",
      "        -5.88471131e-02,  7.34200430e-03]]), array([[ 4.95472881e-02,  4.15767150e-02,  5.38345161e-02,\n",
      "         2.14887543e-02,  3.79009632e-02,  1.46486384e-02,\n",
      "         2.26435883e-01, -3.30159709e-03,  1.83052696e-02,\n",
      "        -1.24508615e-01, -6.17588359e-04,  1.35190403e-02,\n",
      "        -1.08083561e-02, -3.63191734e-02, -9.15319218e-03,\n",
      "         8.49213900e-02,  4.67467065e-03,  4.97245332e-04,\n",
      "         1.85264114e-02,  5.38160095e-03, -1.02138604e-02,\n",
      "        -2.48974359e-02,  6.06053899e-02, -5.49254409e-02,\n",
      "         2.55680820e-02,  6.94401374e-02,  3.50521880e-02,\n",
      "        -1.10389720e-02, -5.63397418e-02,  6.52009315e-03,\n",
      "        -6.22293186e-04, -4.54748731e-02,  3.31964489e-02,\n",
      "        -3.36243973e-02, -9.17905029e-02,  2.20700165e-02,\n",
      "        -3.65327162e-02,  1.04781839e-02,  1.36834137e-04,\n",
      "        -2.86504624e-03,  2.05606215e-02, -6.70817894e-05,\n",
      "         6.84223842e-03,  3.43332696e-03, -2.87233549e-02,\n",
      "        -3.58135685e-03,  4.36676774e-03,  3.27214757e-03,\n",
      "         8.44972583e-03,  1.35081118e-02,  2.08057010e-03,\n",
      "         1.02133284e-02,  1.75733678e-02,  2.14262676e-01,\n",
      "        -5.96741184e-03,  1.06726656e-02, -3.39097912e-02,\n",
      "        -3.09386654e-02, -1.78641591e-02, -9.69112216e-03,\n",
      "         5.66945310e-03,  2.93795070e-03,  2.63571828e-02,\n",
      "        -1.25171646e-02, -3.11580895e-02,  9.22198505e-03,\n",
      "         8.35217361e-02,  1.83364690e-02,  1.97438626e-02,\n",
      "         4.49132886e-03,  7.59625279e-03,  4.71604911e-02,\n",
      "        -1.15886709e-02, -3.33721576e-03,  6.03211160e-03,\n",
      "        -2.09460485e-02, -2.74564502e-02, -1.60643375e-02,\n",
      "         9.58958743e-02,  3.60252502e-02, -2.49924300e-02,\n",
      "        -1.06194036e-01,  8.28946778e-03, -8.95445896e-03,\n",
      "         6.05453128e-03, -2.01659151e-02, -1.78810174e-02,\n",
      "        -2.26182201e-02, -2.43831741e-02,  3.68920843e-02,\n",
      "         8.51020900e-03,  5.67844537e-02, -3.48920379e-02,\n",
      "        -4.52248219e-02,  4.62235103e-02,  1.03124759e-01,\n",
      "         1.14943116e-03,  4.76148337e-03, -9.47602288e-03,\n",
      "         1.28093766e-01,  1.37831775e-03, -6.04260512e-03,\n",
      "        -7.21053231e-03,  4.58276406e-03, -5.59715655e-02,\n",
      "         9.37346961e-02,  7.00188524e-02, -1.83692128e-02,\n",
      "         1.88323028e-02, -3.44710203e-02,  5.54804010e-02,\n",
      "         9.98783127e-02,  6.37946895e-02, -1.09137187e-02,\n",
      "        -8.37671709e-02, -5.16944955e-02, -6.30830704e-02,\n",
      "         9.76020986e-04,  1.36050569e-02,  2.15587047e-02,\n",
      "        -2.96199683e-03, -9.95234238e-02, -2.78297004e-02,\n",
      "        -2.10404857e-02,  5.58252872e-03,  9.19395228e-02,\n",
      "         4.39876582e-02, -3.77266827e-02,  2.50656396e-02,\n",
      "        -5.13930461e-03,  1.29604007e-01, -6.43295720e-02,\n",
      "        -7.15932292e-02,  1.21275584e-01,  9.62348744e-03,\n",
      "         1.18836689e-02, -2.52840728e-04,  8.90314396e-03,\n",
      "         1.29129574e-02, -3.24750368e-02,  1.06128347e-02,\n",
      "        -1.33941952e-02, -1.10751619e-02, -1.23836807e-02,\n",
      "         8.54841065e-02,  2.54449512e-02, -7.30608881e-02,\n",
      "         1.75658902e-02, -3.64209640e-02, -1.66914257e-02,\n",
      "        -3.83199516e-02,  2.40689913e-02, -8.96385687e-03,\n",
      "        -8.33217886e-03, -2.85160726e-02,  2.22095228e-02,\n",
      "        -3.80540123e-02,  1.95013022e-02, -1.90329236e-03,\n",
      "         1.06653376e-02, -7.21500192e-04,  2.60195329e-02,\n",
      "         1.01567611e-01,  2.01723868e-02,  2.48241023e-02,\n",
      "        -3.27888839e-02, -8.84763114e-02,  1.32757370e-02,\n",
      "         1.32523289e-02, -6.20157258e-02,  3.33164840e-02,\n",
      "         8.29160933e-03, -1.30124740e-02,  2.57081001e-02,\n",
      "        -2.69540060e-02,  2.15919495e-02,  3.43725836e-03,\n",
      "        -4.28627698e-02, -6.24605435e-03,  4.97825693e-02,\n",
      "         1.96036818e-02,  5.63531912e-02, -2.94537986e-03,\n",
      "        -1.60520019e-03,  1.53343614e-02, -4.42867132e-05,\n",
      "        -2.80630463e-02,  4.33172645e-03, -3.02463725e-02,\n",
      "         2.91350418e-02,  3.68802013e-02,  4.52368018e-02,\n",
      "        -1.32266222e-01, -1.43861881e-02, -2.07335136e-02,\n",
      "         8.84496908e-02,  1.45705336e-02, -1.00529924e-01,\n",
      "        -5.13764123e-02,  9.29511939e-03]]), array([[ 6.06704013e-02,  3.90824795e-02,  5.89773673e-02,\n",
      "         1.40046524e-02,  2.54964471e-02,  1.28235936e-02,\n",
      "         2.68143952e-01, -3.75500527e-04,  2.21063157e-02,\n",
      "        -1.36628807e-01, -9.60723086e-04,  1.14709888e-02,\n",
      "        -2.44951310e-02, -4.04906298e-02, -7.51965917e-03,\n",
      "         9.97176074e-02,  8.75997016e-03, -1.79054218e-03,\n",
      "         1.54321032e-02,  4.33029041e-03, -1.07672699e-02,\n",
      "        -2.32636824e-02,  6.95597330e-02, -6.90299434e-02,\n",
      "         2.70302092e-02,  8.28873165e-02,  3.24763117e-02,\n",
      "        -8.35378878e-03, -8.29697473e-02,  7.98623163e-03,\n",
      "        -7.82511984e-04, -3.24874423e-02,  3.45222748e-02,\n",
      "        -3.46687143e-02, -1.27488929e-01,  2.58188013e-02,\n",
      "        -4.29443008e-02,  4.84078128e-03, -2.08079018e-04,\n",
      "        -4.33285812e-03,  2.06804468e-02, -1.06117185e-03,\n",
      "         7.35122890e-04, -4.90315143e-03, -2.65176365e-02,\n",
      "        -3.00472798e-03,  8.21936365e-03,  2.79627946e-03,\n",
      "         8.37063654e-03,  1.08634223e-02, -1.21346562e-02,\n",
      "         8.82051125e-03,  1.98799795e-02,  2.49462229e-01,\n",
      "        -6.83597071e-03,  9.37690363e-03, -3.30487474e-02,\n",
      "        -4.67208016e-02, -1.78098242e-02, -2.15024266e-02,\n",
      "         5.91399873e-03,  2.36333609e-03,  2.09994616e-02,\n",
      "        -1.74809647e-02, -3.85245948e-02,  7.97828300e-03,\n",
      "         8.29642510e-02,  2.30675658e-02,  2.28242087e-02,\n",
      "         3.79536657e-03,  7.55517919e-03,  6.47402298e-02,\n",
      "        -1.12498650e-02, -3.30786126e-03,  4.08624468e-03,\n",
      "        -2.05068259e-02, -2.41947416e-02, -1.57601031e-02,\n",
      "         6.97719544e-02,  2.35389085e-02, -2.39554944e-02,\n",
      "        -8.50246490e-02,  9.57532273e-03, -8.61552065e-03,\n",
      "         5.36647237e-03, -1.86813564e-02, -1.50622178e-02,\n",
      "        -2.08696540e-02, -1.84716244e-02,  4.07547109e-02,\n",
      "         7.40257391e-03,  7.31106938e-02, -3.34516933e-02,\n",
      "        -6.61634906e-02,  5.64871151e-02,  1.22939913e-01,\n",
      "         1.91057648e-03,  3.19169262e-03, -9.63927122e-03,\n",
      "         9.77331442e-02,  3.90992047e-04, -5.68462027e-03,\n",
      "        -7.10784238e-03,  6.22831913e-03, -4.68778310e-02,\n",
      "         1.04690502e-01,  4.93615975e-02, -1.71836344e-02,\n",
      "         1.23176610e-02, -3.46855791e-02,  5.53882583e-02,\n",
      "         1.03648719e-01,  6.25867964e-02, -1.01373445e-02,\n",
      "        -9.30660258e-02, -5.13577544e-02, -5.53983712e-02,\n",
      "         9.54035433e-04,  1.69011750e-02,  2.29196250e-02,\n",
      "        -2.83247801e-03, -8.52878584e-02, -3.00030876e-02,\n",
      "        -2.16449166e-02,  4.87110806e-03,  1.14310299e-01,\n",
      "         4.35995906e-02, -4.29734526e-02,  3.06091059e-02,\n",
      "        -3.55099600e-03,  1.43856798e-01, -7.48067762e-02,\n",
      "        -7.77351192e-02,  1.56361613e-01,  9.88622562e-03,\n",
      "         1.14490040e-02, -1.50513890e-03,  1.42475320e-02,\n",
      "         1.30916399e-02, -2.86866435e-02,  1.29961685e-02,\n",
      "        -1.67010613e-02, -1.08326151e-02, -1.22927493e-02,\n",
      "         9.34111650e-02,  2.53465631e-02, -6.70865273e-02,\n",
      "         1.72419979e-02, -5.41029655e-02, -1.43470979e-02,\n",
      "        -2.93255300e-02,  2.24665245e-02, -1.26207562e-02,\n",
      "        -9.50531322e-03, -3.20797190e-02,  2.02175937e-02,\n",
      "        -4.61826398e-02,  1.80095447e-02, -2.42616475e-03,\n",
      "         1.19211298e-02, -4.22107265e-04,  3.25170003e-02,\n",
      "         9.45799844e-02,  2.06344590e-02,  2.64230069e-02,\n",
      "        -3.94112310e-02, -1.21976742e-01,  1.15874739e-02,\n",
      "         1.66473449e-02, -9.03522873e-02,  3.67270980e-02,\n",
      "         1.00464972e-02, -1.58581739e-02,  2.34866985e-02,\n",
      "        -2.88647420e-02,  2.89276077e-02,  4.63837653e-03,\n",
      "        -3.92931299e-02, -8.47120777e-03,  5.94254309e-02,\n",
      "         2.15695616e-02,  4.65001070e-02, -4.09327843e-03,\n",
      "        -2.24677484e-03,  1.72823996e-02,  2.31276010e-04,\n",
      "        -3.41898837e-02,  3.91599834e-03, -2.93311281e-02,\n",
      "         3.80200065e-02,  4.20854980e-02,  5.73218678e-02,\n",
      "        -1.21588595e-01, -1.39563100e-02, -2.15233858e-02,\n",
      "         8.13577197e-02,  1.49495743e-02, -1.25737579e-01,\n",
      "        -5.88730801e-02,  7.96271394e-03]]), array([[ 5.04842120e-02,  3.92508866e-02,  7.30729693e-02,\n",
      "         1.76442767e-02,  2.34653438e-02,  1.33411184e-02,\n",
      "         3.25627317e-01, -2.08880361e-04,  1.69750433e-02,\n",
      "        -1.42735110e-01, -1.59237198e-03,  1.13302174e-02,\n",
      "        -5.20697446e-02, -3.59886371e-02, -6.30446567e-03,\n",
      "         1.32859626e-01,  1.22468618e-02, -5.30671573e-04,\n",
      "         1.69970032e-02,  4.22667220e-03, -9.89351668e-03,\n",
      "        -2.28447493e-02,  7.34093173e-02, -1.04208778e-01,\n",
      "         2.58033508e-02,  1.05501374e-01,  3.14363159e-02,\n",
      "        -3.43248060e-03, -1.12304526e-01,  1.16617370e-02,\n",
      "        -2.22801766e-04, -3.70043275e-02,  4.27060790e-02,\n",
      "        -3.39164555e-02, -1.96079897e-01,  2.30726447e-02,\n",
      "        -3.74103288e-02,  1.42435823e-02,  2.15944464e-03,\n",
      "        -4.21806991e-03,  1.94328602e-02, -3.28362304e-04,\n",
      "        -9.57407220e-03, -2.56939757e-02, -2.66095139e-02,\n",
      "        -3.76610200e-03,  7.73937530e-03,  2.86461287e-03,\n",
      "         9.58520957e-03,  1.24364693e-02, -2.74661079e-02,\n",
      "         8.22446957e-03,  1.72788762e-02,  3.28849356e-01,\n",
      "        -6.15412597e-03,  1.04479075e-02, -2.55920802e-02,\n",
      "        -6.68793269e-02, -1.90464981e-02, -3.72578413e-02,\n",
      "         6.89194907e-03,  2.41292225e-03,  2.23607313e-02,\n",
      "        -1.47019004e-02, -3.49322754e-02,  6.76838643e-03,\n",
      "         8.89668869e-02,  2.15990378e-02,  2.95996408e-02,\n",
      "         4.96365623e-03,  7.98925004e-03,  9.83250792e-02,\n",
      "        -9.63424957e-03, -1.10790373e-03,  4.78391685e-03,\n",
      "        -2.05776928e-02, -2.44923622e-02, -1.23652695e-02,\n",
      "         7.36408777e-02,  2.23100216e-02, -2.46115594e-02,\n",
      "        -1.13001273e-01,  8.14302480e-03, -7.38621526e-03,\n",
      "         5.03001529e-03, -1.38295669e-02, -1.52498478e-02,\n",
      "        -2.12975488e-02, -2.26336279e-02,  3.32592241e-02,\n",
      "         7.16027780e-03,  1.02830238e-01, -3.45098484e-02,\n",
      "        -1.09921617e-01,  6.35730261e-02,  1.69918498e-01,\n",
      "         9.50639801e-04,  4.80856393e-03, -2.75630793e-02,\n",
      "         9.06175164e-02,  2.05804310e-04, -3.47765725e-03,\n",
      "        -5.88717697e-03,  5.80846644e-03, -4.25562484e-02,\n",
      "         1.26168043e-01,  5.09212009e-02, -1.73871674e-02,\n",
      "         1.95562131e-03, -3.61170133e-02,  5.30649075e-02,\n",
      "         1.05600597e-01,  5.06990633e-02, -1.01020753e-02,\n",
      "        -1.08496373e-01, -6.66737119e-02, -4.57800717e-02,\n",
      "         9.81431205e-04,  1.48836305e-02,  2.39667881e-02,\n",
      "        -2.59308118e-03, -6.82442866e-02, -2.84457819e-02,\n",
      "        -2.09270260e-02,  8.35907768e-03,  1.55100798e-01,\n",
      "         4.37210691e-02, -3.73082245e-02,  2.38928864e-02,\n",
      "        -3.63362202e-03,  1.75131938e-01, -1.18600547e-01,\n",
      "        -6.61332877e-02,  2.19369521e-01,  8.01299242e-03,\n",
      "         1.05382477e-02, -1.21121157e-03,  1.05843482e-02,\n",
      "         1.33121023e-02, -2.94235740e-02,  1.17261877e-02,\n",
      "        -1.59293714e-02, -1.05202534e-02, -1.38897341e-02,\n",
      "         1.06626401e-01,  2.51828891e-02, -8.59414570e-02,\n",
      "         1.77907967e-02, -8.78491509e-02, -1.42607333e-02,\n",
      "        -3.35813168e-02,  2.48419776e-02, -1.09446618e-02,\n",
      "        -2.38387122e-03, -2.88172097e-02,  2.11813393e-02,\n",
      "        -7.32773282e-02,  1.87518276e-02, -1.04798024e-03,\n",
      "         1.21480164e-02, -1.12193027e-03,  4.16257164e-02,\n",
      "         8.25296404e-02,  2.09910153e-02,  2.65098626e-02,\n",
      "        -3.30447782e-02, -1.84722402e-01,  1.15057988e-02,\n",
      "         1.35364097e-02, -1.36329557e-01,  3.59344822e-02,\n",
      "         8.89605729e-03, -1.38516242e-02,  2.39551673e-02,\n",
      "        -2.77211961e-02,  2.97488302e-02,  4.58551514e-03,\n",
      "        -4.68210576e-02, -6.42088952e-03,  6.16836859e-02,\n",
      "         2.09809242e-02,  4.34493524e-02, -3.09685957e-03,\n",
      "        -2.50449860e-03,  1.80647112e-02, -1.07711481e-03,\n",
      "        -2.62998270e-02,  4.51803916e-03, -2.79208062e-02,\n",
      "         3.73290712e-02,  3.87782239e-02,  5.00792488e-02,\n",
      "        -1.04267858e-01, -1.50268339e-02, -1.95652222e-02,\n",
      "         7.36626573e-02,  1.50938715e-02, -1.49880960e-01,\n",
      "        -5.11432251e-02,  7.99217730e-03]])]\n"
     ]
    }
   ],
   "source": [
    "print(coeffs)"
   ]
  },
  {
   "cell_type": "code",
   "execution_count": 106,
   "id": "dietary-powder",
   "metadata": {},
   "outputs": [
    {
     "data": {
      "text/plain": [
       "200000"
      ]
     },
     "execution_count": 106,
     "metadata": {},
     "output_type": "execute_result"
    }
   ],
   "source": [
    "192386+7614"
   ]
  },
  {
   "cell_type": "markdown",
   "id": "clear-threat",
   "metadata": {},
   "source": [
    "### C.1.1 Confusion Matrix"
   ]
  },
  {
   "cell_type": "code",
   "execution_count": 86,
   "id": "copyrighted-daughter",
   "metadata": {
    "scrolled": true
   },
   "outputs": [
    {
     "data": {
      "text/plain": [
       "array([[ 1078,  2942],\n",
       "       [  503, 35477]])"
      ]
     },
     "execution_count": 86,
     "metadata": {},
     "output_type": "execute_result"
    }
   ],
   "source": [
    "metrics.confusion_matrix(y_test, y_pred, labels=[1, 0])"
   ]
  },
  {
   "cell_type": "markdown",
   "id": "characteristic-movement",
   "metadata": {},
   "source": [
    "\n",
    "\n",
    "|                     | Positive Observation     | Negative Observation    |\n",
    "|---------------------|:------------------------:|:-----------------------:|\n",
    "| Positive Prediction |     True Positive (TP)   | False Positive (FP)     |\n",
    "| Negative Prediction | False Negative (FN)      |     True Negative (TN)  |\n",
    "\n",
    "Given the definitions used earlier, the equation for precision and recall are\n",
    "\n",
    "$$ \\text{precision} = \\frac{\\text{TP}}{TP + FP}$$\n",
    "and\n",
    "$$ \\text{recall} = \\frac{\\text{TP}}{TP + FN}. $$\n"
   ]
  },
  {
   "cell_type": "code",
   "execution_count": 80,
   "id": "infrared-beast",
   "metadata": {},
   "outputs": [
    {
     "name": "stdout",
     "output_type": "stream",
     "text": [
      "precision: 0.681847\n",
      "recall: 0.268159\n",
      "\n",
      "---------------------\n",
      "\n",
      "accuracy: 0.913875\n",
      "\n",
      "---------------------\n",
      "\n",
      "f1_score: 0.38493126227459384\n"
     ]
    }
   ],
   "source": [
    "precision = metrics.precision_score(y_test, y_pred)\n",
    "recall = metrics.recall_score(y_test, y_pred)\n",
    "accuracy = metrics.accuracy_score(y_test, y_pred)\n",
    "\n",
    "print(\"precision: {:g}\".format(precision))\n",
    "print(\"recall: {:g}\".format(recall))\n",
    "\n",
    "print(\"\\n---------------------\\n\")\n",
    "\n",
    "print(\"accuracy: {}\".format(accuracy))\n",
    "\n",
    "print(\"\\n---------------------\\n\")\n",
    "\n",
    "f1_score = 2*precision*recall/(precision + recall)\n",
    "print(\"f1_score: {}\".format(f1_score))"
   ]
  },
  {
   "cell_type": "markdown",
   "id": "linear-there",
   "metadata": {},
   "source": [
    "### 1.2.2 Area under the curve"
   ]
  },
  {
   "cell_type": "code",
   "execution_count": 130,
   "id": "unauthorized-norman",
   "metadata": {},
   "outputs": [
    {
     "data": {
      "text/plain": [
       "array([0.        , 0.        , 0.        , ..., 0.98268482, 0.98268482,\n",
       "       1.        ])"
      ]
     },
     "execution_count": 130,
     "metadata": {},
     "output_type": "execute_result"
    }
   ],
   "source": [
    "lr_fpr + 0"
   ]
  },
  {
   "cell_type": "code",
   "execution_count": 107,
   "id": "diagnostic-translator",
   "metadata": {},
   "outputs": [
    {
     "name": "stdout",
     "output_type": "stream",
     "text": [
      "No Skill: ROC AUC=0.500\n",
      "Logistic: ROC AUC=0.857\n"
     ]
    },
    {
     "data": {
      "image/png": "[encoded data removed]",
      "text/plain": [
       "<Figure size 864x576 with 1 Axes>"
      ]
     },
     "metadata": {},
     "output_type": "display_data"
    }
   ],
   "source": [
    "lr_probs = clf.predict_proba(X_test)\n",
    "\n",
    "# generate a no skill prediction (majority class)\n",
    "ns_probs = [0 for _ in range(len(y_test))]\n",
    "# keep probabilities for the positive outcome only\n",
    "lr_probs = lr_probs[:, 1]\n",
    "# calculate scores\n",
    "ns_auc = metrics.roc_auc_score(y_test, ns_probs)\n",
    "lr_auc = metrics.roc_auc_score(y_test, lr_probs)\n",
    "# summarize scores\n",
    "print('No Skill: ROC AUC=%.3f' % (ns_auc))\n",
    "print('Logistic: ROC AUC=%.3f' % (lr_auc))\n",
    "# calculate roc curves\n",
    "ns_fpr, ns_tpr, _ = metrics.roc_curve(y_test, ns_probs)\n",
    "lr_fpr, lr_tpr, _ = metrics.roc_curve(y_test, lr_probs)\n",
    "# plot the roc curve for the model\n",
    "plt.plot(ns_fpr, ns_tpr, linestyle='--', label='No Skill')\n",
    "plt.plot(lr_fpr, lr_tpr, marker='.', label='Logistic')\n",
    "# axis labels\n",
    "plt.xlabel('False Positive Rate')\n",
    "plt.ylabel('True Positive Rate')\n",
    "# show the legend\n",
    "plt.legend()\n",
    "# show the plot\n",
    "plt.show()"
   ]
  },
  {
   "cell_type": "code",
   "execution_count": 89,
   "id": "legal-liver",
   "metadata": {},
   "outputs": [
    {
     "name": "stdout",
     "output_type": "stream",
     "text": [
      "Logistic: f1=0.385 auc=0.502\n"
     ]
    },
    {
     "data": {
      "image/png": "[encoded data removed]",
      "text/plain": [
       "<Figure size 864x576 with 1 Axes>"
      ]
     },
     "metadata": {},
     "output_type": "display_data"
    }
   ],
   "source": [
    "\n",
    "# predict probabilities\n",
    "lr_probs = clf.predict_proba(X_test)\n",
    "# keep probabilities for the positive outcome only\n",
    "lr_probs = lr_probs[:, 1]\n",
    "# predict class values\n",
    "yhat = y_pred\n",
    "lr_precision, lr_recall, _ = metrics.precision_recall_curve(y_test, lr_probs)\n",
    "lr_f1, lr_auc = metrics.f1_score(y_test, yhat), metrics.auc(lr_recall, lr_precision)\n",
    "# summarize scores\n",
    "print('Logistic: f1=%.3f auc=%.3f' % (lr_f1, lr_auc))\n",
    "# plot the precision-recall curves\n",
    "no_skill = len(y_test[y_test==1]) / len(y_test)\n",
    "plt.plot([0, 1], [no_skill, no_skill], linestyle='--', label='No Skill')\n",
    "plt.plot(lr_recall, lr_precision, marker='.', label='Logistic')\n",
    "# axis labels\n",
    "plt.xlabel('Recall')\n",
    "plt.ylabel('Precision')\n",
    "# show the legend\n",
    "plt.legend()\n",
    "# show the plot\n",
    "plt.show()\n"
   ]
  },
  {
   "cell_type": "code",
   "execution_count": null,
   "id": "auburn-eugene",
   "metadata": {},
   "outputs": [],
   "source": []
  }
 ],
 "metadata": {
  "kernelspec": {
   "display_name": "Python 3 (ipykernel)",
   "language": "python",
   "name": "python3"
  },
  "language_info": {
   "codemirror_mode": {
    "name": "ipython",
    "version": 3
   },
   "file_extension": ".py",
   "mimetype": "text/x-python",
   "name": "python",
   "nbconvert_exporter": "python",
   "pygments_lexer": "ipython3",
   "version": "3.8.10"
  }
 },
 "nbformat": 4,
 "nbformat_minor": 5
}
