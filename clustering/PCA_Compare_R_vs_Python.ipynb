{
 "cells": [
  {
   "cell_type": "code",
   "execution_count": 1,
   "id": "ahead-slovakia",
   "metadata": {},
   "outputs": [],
   "source": [
    "import numpy as np\n",
    "from sklearn.decomposition import PCA"
   ]
  },
  {
   "cell_type": "code",
   "execution_count": 2,
   "id": "awful-printer",
   "metadata": {},
   "outputs": [],
   "source": [
    "X = np.array([[-1, -1], [-2, -1], [-3, -2], [1, 1], [2, 1], [3, 2]])"
   ]
  },
  {
   "cell_type": "code",
   "execution_count": 3,
   "id": "treated-receipt",
   "metadata": {},
   "outputs": [],
   "source": [
    "# Automatically detect the maximum number of PCs to consider\n",
    "pca = PCA()"
   ]
  },
  {
   "cell_type": "code",
   "execution_count": 4,
   "id": "psychological-malpractice",
   "metadata": {},
   "outputs": [
    {
     "data": {
      "text/plain": [
       "PCA()"
      ]
     },
     "execution_count": 4,
     "metadata": {},
     "output_type": "execute_result"
    }
   ],
   "source": [
    "pca.fit(X)"
   ]
  },
  {
   "cell_type": "markdown",
   "id": "mechanical-lighting",
   "metadata": {},
   "source": [
    "#### Output generated in R using covariance matrix\n",
    "Proportion of total variance explained by each principal component \\\n",
    "temp = output_no_center_no_scale$sdev^2 \\\n",
    "temp/sum(temp) \\\n",
    "[1] 0.99244289 0.00755711"
   ]
  },
  {
   "cell_type": "code",
   "execution_count": 5,
   "id": "arbitrary-cigarette",
   "metadata": {},
   "outputs": [
    {
     "data": {
      "text/plain": [
       "array([0.99244289, 0.00755711])"
      ]
     },
     "execution_count": 5,
     "metadata": {},
     "output_type": "execute_result"
    }
   ],
   "source": [
    "pca.explained_variance_ratio_"
   ]
  },
  {
   "cell_type": "markdown",
   "id": "therapeutic-thread",
   "metadata": {},
   "source": [
    "#### Principal component scores obtained using the covariance matrix in R\n",
    "output_no_center_no_scale$x \\\n",
    "&emsp;  PC1  &emsp;  PC2 \\\n",
    "-1.383406  &emsp;  0.29357870 \\\n",
    "-2.221898  &emsp; -0.25133484 \\\n",
    "-3.605304  &emsp;  0.04224385 \\\n",
    " 1.383406  &emsp; -0.29357870 \\\n",
    " 2.221898  &emsp;  0.25133484 \\\n",
    " 3.605304  &emsp; -0.04224385"
   ]
  },
  {
   "cell_type": "code",
   "execution_count": 6,
   "id": "adjustable-location",
   "metadata": {},
   "outputs": [
    {
     "data": {
      "text/plain": [
       "array([[ 1.38340578,  0.2935787 ],\n",
       "       [ 2.22189802, -0.25133484],\n",
       "       [ 3.6053038 ,  0.04224385],\n",
       "       [-1.38340578, -0.2935787 ],\n",
       "       [-2.22189802,  0.25133484],\n",
       "       [-3.6053038 , -0.04224385]])"
      ]
     },
     "execution_count": 6,
     "metadata": {},
     "output_type": "execute_result"
    }
   ],
   "source": [
    "# Obtain the principal component scores\n",
    "pca_scores = pca.fit_transform(X)\n",
    "pca_scores"
   ]
  },
  {
   "cell_type": "code",
   "execution_count": null,
   "id": "blessed-solution",
   "metadata": {},
   "outputs": [],
   "source": []
  }
 ],
 "metadata": {
  "kernelspec": {
   "display_name": "Python 3",
   "language": "python",
   "name": "python3"
  },
  "language_info": {
   "codemirror_mode": {
    "name": "ipython",
    "version": 3
   },
   "file_extension": ".py",
   "mimetype": "text/x-python",
   "name": "python",
   "nbconvert_exporter": "python",
   "pygments_lexer": "ipython3",
   "version": "3.7.5"
  }
 },
 "nbformat": 4,
 "nbformat_minor": 5
}
