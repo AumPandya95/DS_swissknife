{
 "cells": [
  {
   "cell_type": "markdown",
   "id": "fundamental-presentation",
   "metadata": {},
   "source": [
    "## $\\textbf{R}$${obust}$ $\\textbf{L}$${inear}$ $\\textbf{M}$${odels}$"
   ]
  },
  {
   "cell_type": "code",
   "execution_count": 1,
   "id": "central-monroe",
   "metadata": {},
   "outputs": [],
   "source": [
    "import numpy as np\n",
    "import pandas as pd\n",
    "import statsmodels.api as sm\n",
    "from sklearn.datasets import make_regression\n",
    "from sklearn.linear_model import LinearRegression\n",
    "\n",
    "from statsmodels.sandbox.regression.predstd import wls_prediction_std\n",
    "\n",
    "from matplotlib import pyplot\n",
    "\n",
    "from random import random\n",
    "from random import randint\n",
    "from random import seed"
   ]
  },
  {
   "cell_type": "markdown",
   "id": "active-daisy",
   "metadata": {},
   "source": [
    "### $\\textit{Function cell}$"
   ]
  },
  {
   "cell_type": "code",
   "execution_count": 2,
   "id": "african-outreach",
   "metadata": {},
   "outputs": [],
   "source": [
    "# plot the dataset and the model's line of best fit\n",
    "def plot_best_fit(X, y, model, _type):\n",
    "    # plot the dataset\n",
    "    pyplot.scatter(X, y)\n",
    "    # plot the line of best fit\n",
    "    if _type == \"sklearn\":\n",
    "        xaxis = np.arange(X.min(), X.max(), 0.01)\n",
    "        yaxis = model.predict(xaxis.reshape((len(xaxis), 1)))\n",
    "    else:\n",
    "        xaxis = np.arange(X.min(), X.max(), 0.01)\n",
    "        _xaxis = sm.add_constant(xaxis)\n",
    "        yaxis = model.predict(_xaxis.reshape((len(xaxis), 2)))\n",
    "    pyplot.plot(xaxis, yaxis, color='r')\n",
    "    # show the plot\n",
    "    pyplot.title(type(model).__name__)\n",
    "    pyplot.show()\n",
    "    pyplot.clf()"
   ]
  },
  {
   "cell_type": "markdown",
   "id": "trying-guatemala",
   "metadata": {},
   "source": [
    "### $\\textit{Reading}$ $\\textit{Data}$"
   ]
  },
  {
   "cell_type": "code",
   "execution_count": 3,
   "id": "tribal-cause",
   "metadata": {},
   "outputs": [
    {
     "name": "stdout",
     "output_type": "stream",
     "text": [
      "(100, 1) (100,)\n"
     ]
    },
    {
     "data": {
      "image/png": "[encoded data removed]",
      "text/plain": [
       "<Figure size 1080x576 with 1 Axes>"
      ]
     },
     "metadata": {
      "needs_background": "light"
     },
     "output_type": "display_data"
    },
    {
     "data": {
      "text/plain": [
       "<Figure size 432x288 with 0 Axes>"
      ]
     },
     "metadata": {},
     "output_type": "display_data"
    }
   ],
   "source": [
    "# dummy data\n",
    "\n",
    "# create a regression dataset with outliers\n",
    "# prepare the dataset\n",
    "def get_dataset():\n",
    "    X, y = make_regression(n_samples=100,\n",
    "                           n_features=1, \n",
    "                           tail_strength=0.9,\n",
    "                           effective_rank=1,\n",
    "                           n_informative=1,\n",
    "                           noise=3, \n",
    "                           bias=50, random_state=1)\n",
    "    # add some artificial outliers\n",
    "    seed(1)\n",
    "    for i in range(10):\n",
    "        factor = randint(2, 4)\n",
    "        if random() > 0.5:\n",
    "            X[i] += factor * X.std()\n",
    "        else:\n",
    "            X[i] -= factor * X.std()\n",
    "    return X, y\n",
    "\n",
    "# load dataset\n",
    "X, y = get_dataset()\n",
    "# summarize shape\n",
    "print(X.shape, y.shape)\n",
    "# scatter plot of input vs output\n",
    "pyplot.figure(figsize=(15,8))\n",
    "pyplot.scatter(X, y)\n",
    "pyplot.show()\n",
    "pyplot.clf()"
   ]
  },
  {
   "cell_type": "markdown",
   "id": "prostate-cargo",
   "metadata": {},
   "source": [
    "### $\\textit{Train and Test data}$ "
   ]
  },
  {
   "cell_type": "code",
   "execution_count": 6,
   "id": "ongoing-honolulu",
   "metadata": {},
   "outputs": [],
   "source": [
    "X_train = X[:-10]\n",
    "y_train = y[:-10]\n",
    "X_test = X[90:]\n",
    "y_test = y[90:]"
   ]
  },
  {
   "cell_type": "markdown",
   "id": "white-literacy",
   "metadata": {},
   "source": [
    "### $\\textit{Linear Regression on dummy data}$ "
   ]
  },
  {
   "cell_type": "code",
   "execution_count": 9,
   "id": "agricultural-destination",
   "metadata": {},
   "outputs": [],
   "source": [
    "# Constant column added for intercept \n",
    "X_new = sm.add_constant(X_train)"
   ]
  },
  {
   "cell_type": "code",
   "execution_count": 7,
   "id": "dependent-majority",
   "metadata": {
    "scrolled": false
   },
   "outputs": [
    {
     "name": "stdout",
     "output_type": "stream",
     "text": [
      "                            OLS Regression Results                            \n",
      "==============================================================================\n",
      "Dep. Variable:                      y   R-squared:                       0.450\n",
      "Model:                            OLS   Adj. R-squared:                  0.444\n",
      "Method:                 Least Squares   F-statistic:                     72.03\n",
      "Date:                Fri, 04 Jun 2021   Prob (F-statistic):           4.66e-13\n",
      "Time:                        11:10:13   Log-Likelihood:                -298.97\n",
      "No. Observations:                  90   AIC:                             601.9\n",
      "Df Residuals:                      88   BIC:                             606.9\n",
      "Df Model:                           1                                         \n",
      "Covariance Type:            nonrobust                                         \n",
      "==============================================================================\n",
      "                 coef    std err          t      P>|t|      [0.025      0.975]\n",
      "------------------------------------------------------------------------------\n",
      "const         49.6275      0.715     69.413      0.000      48.207      51.048\n",
      "x1            45.8253      5.400      8.487      0.000      35.095      56.556\n",
      "==============================================================================\n",
      "Omnibus:                        2.646   Durbin-Watson:                   2.469\n",
      "Prob(Omnibus):                  0.266   Jarque-Bera (JB):                2.028\n",
      "Skew:                          -0.234   Prob(JB):                        0.363\n",
      "Kurtosis:                       3.568   Cond. No.                         7.55\n",
      "==============================================================================\n",
      "\n",
      "Notes:\n",
      "[1] Standard Errors assume that the covariance matrix of the errors is correctly specified.\n"
     ]
    },
    {
     "data": {
      "image/png": "[encoded data removed]",
      "text/plain": [
       "<Figure size 1080x576 with 1 Axes>"
      ]
     },
     "metadata": {
      "needs_background": "light"
     },
     "output_type": "display_data"
    },
    {
     "data": {
      "text/plain": [
       "<Figure size 432x288 with 0 Axes>"
      ]
     },
     "metadata": {},
     "output_type": "display_data"
    }
   ],
   "source": [
    "# Regression using sm.OLS\n",
    "statsmodel_model = sm.OLS(y_train, X_new)\n",
    "statsmodel_fit = statsmodel_model.fit()\n",
    "\n",
    "print(statsmodel_fit.summary())\n",
    "pyplot.figure(figsize=(15,8))\n",
    "plot_best_fit(X_train, y_train, statsmodel_fit, \"statsmodels\")"
   ]
  },
  {
   "cell_type": "code",
   "execution_count": 7,
   "id": "constitutional-mentor",
   "metadata": {},
   "outputs": [
    {
     "name": "stdout",
     "output_type": "stream",
     "text": [
      "[45.82531156]\n",
      "49.62751224353549\n"
     ]
    },
    {
     "data": {
      "image/png": "[encoded data removed]",
      "text/plain": [
       "<Figure size 1080x576 with 1 Axes>"
      ]
     },
     "metadata": {
      "needs_background": "light"
     },
     "output_type": "display_data"
    },
    {
     "data": {
      "text/plain": [
       "<Figure size 432x288 with 0 Axes>"
      ]
     },
     "metadata": {},
     "output_type": "display_data"
    }
   ],
   "source": [
    "# Regression using sklearn\n",
    "sk_model = LinearRegression(fit_intercept=True)\n",
    "sk_fit = sk_model.fit(X_train, y_train)\n",
    "\n",
    "print(sk_fit.coef_)\n",
    "print(sk_fit.intercept_)\n",
    "pyplot.figure(figsize=(15,8))\n",
    "plot_best_fit(X_train, y_train, sk_fit, \"sklearn\")"
   ]
  },
  {
   "cell_type": "markdown",
   "id": "spatial-gothic",
   "metadata": {},
   "source": [
    "#### $\\textit{Robust Regression on dummy data}$ "
   ]
  },
  {
   "cell_type": "code",
   "execution_count": 8,
   "id": "falling-comparative",
   "metadata": {
    "scrolled": false
   },
   "outputs": [
    {
     "data": {
      "image/png": "[encoded data removed]",
      "text/plain": [
       "<Figure size 1080x576 with 1 Axes>"
      ]
     },
     "metadata": {
      "needs_background": "light"
     },
     "output_type": "display_data"
    },
    {
     "data": {
      "text/plain": [
       "<Figure size 432x288 with 0 Axes>"
      ]
     },
     "metadata": {},
     "output_type": "display_data"
    }
   ],
   "source": [
    "rlm_model = sm.RLM(endog=y_train, \n",
    "                   exog=X_new, \n",
    "                   M=sm.robust.norms.HuberT())\n",
    "rlm_results = rlm_model.fit()\n",
    "\n",
    "pyplot.figure(figsize=(15,8))\n",
    "plot_best_fit(X_train, y_train, rlm_results, \"statsmodels\")"
   ]
  },
  {
   "cell_type": "markdown",
   "id": "dramatic-destiny",
   "metadata": {},
   "source": [
    "$\\textbf{Weightages to each observation}$ "
   ]
  },
  {
   "cell_type": "code",
   "execution_count": 9,
   "id": "lined-source",
   "metadata": {},
   "outputs": [
    {
     "data": {
      "text/plain": [
       "array([0.39827092, 0.33993668, 0.20123829, 0.21189827, 0.25787357,\n",
       "       0.26714016, 0.17926733, 0.3020011 , 0.19117227, 0.22104364,\n",
       "       1.        , 1.        , 1.        , 1.        , 1.        ,\n",
       "       1.        , 0.8321596 , 1.        , 1.        , 1.        ,\n",
       "       1.        , 1.        , 1.        , 1.        , 1.        ,\n",
       "       1.        , 1.        , 1.        , 1.        , 1.        ,\n",
       "       1.        , 1.        , 1.        , 1.        , 0.98811127,\n",
       "       1.        , 1.        , 1.        , 0.78801131, 1.        ,\n",
       "       0.93665817, 1.        , 1.        , 1.        , 0.96051293,\n",
       "       0.89040655, 0.5775073 , 1.        , 1.        , 1.        ,\n",
       "       0.77687437, 1.        , 0.74674828, 1.        , 1.        ,\n",
       "       1.        , 1.        , 1.        , 1.        , 1.        ,\n",
       "       1.        , 1.        , 1.        , 1.        , 1.        ,\n",
       "       1.        , 1.        , 1.        , 1.        , 1.        ,\n",
       "       1.        , 1.        , 1.        , 1.        , 0.98151422,\n",
       "       1.        , 1.        , 1.        , 1.        , 1.        ,\n",
       "       1.        , 1.        , 1.        , 1.        , 1.        ,\n",
       "       1.        , 1.        , 1.        , 1.        , 0.93988051])"
      ]
     },
     "execution_count": 9,
     "metadata": {},
     "output_type": "execute_result"
    }
   ],
   "source": [
    "rlm_results.weights"
   ]
  },
  {
   "cell_type": "markdown",
   "id": "little-neighborhood",
   "metadata": {},
   "source": [
    "$\\textbf{Params}$ "
   ]
  },
  {
   "cell_type": "code",
   "execution_count": 9,
   "id": "confirmed-revelation",
   "metadata": {},
   "outputs": [
    {
     "data": {
      "text/html": [
       "<table class=\"simpletable\">\n",
       "<caption>Robust linear Model Regression Results</caption>\n",
       "<tr>\n",
       "  <th>Dep. Variable:</th>          <td>y</td>        <th>  No. Observations:  </th> <td>    90</td>\n",
       "</tr>\n",
       "<tr>\n",
       "  <th>Model:</th>                 <td>RLM</td>       <th>  Df Residuals:      </th> <td>    88</td>\n",
       "</tr>\n",
       "<tr>\n",
       "  <th>Method:</th>               <td>IRLS</td>       <th>  Df Model:          </th> <td>     1</td>\n",
       "</tr>\n",
       "<tr>\n",
       "  <th>Norm:</th>                <td>HuberT</td>      <th>                     </th>    <td> </td>  \n",
       "</tr>\n",
       "<tr>\n",
       "  <th>Scale Est.:</th>            <td>mad</td>       <th>                     </th>    <td> </td>  \n",
       "</tr>\n",
       "<tr>\n",
       "  <th>Cov Type:</th>              <td>H1</td>        <th>                     </th>    <td> </td>  \n",
       "</tr>\n",
       "<tr>\n",
       "  <th>Date:</th>           <td>Fri, 04 Jun 2021</td> <th>                     </th>    <td> </td>  \n",
       "</tr>\n",
       "<tr>\n",
       "  <th>Time:</th>               <td>11:18:28</td>     <th>                     </th>    <td> </td>  \n",
       "</tr>\n",
       "<tr>\n",
       "  <th>No. Iterations:</th>        <td>50</td>        <th>                     </th>    <td> </td>  \n",
       "</tr>\n",
       "</table>\n",
       "<table class=\"simpletable\">\n",
       "<tr>\n",
       "    <td></td>       <th>coef</th>     <th>std err</th>      <th>z</th>      <th>P>|z|</th>  <th>[0.025</th>    <th>0.975]</th>  \n",
       "</tr>\n",
       "<tr>\n",
       "  <th>const</th> <td>   50.2215</td> <td>    0.443</td> <td>  113.388</td> <td> 0.000</td> <td>   49.353</td> <td>   51.090</td>\n",
       "</tr>\n",
       "<tr>\n",
       "  <th>x1</th>    <td>   71.0620</td> <td>    3.345</td> <td>   21.244</td> <td> 0.000</td> <td>   64.506</td> <td>   77.618</td>\n",
       "</tr>\n",
       "</table><br/><br/>If the model instance has been used for another fit with different fit parameters, then the fit options might not be the correct ones anymore ."
      ],
      "text/plain": [
       "<class 'statsmodels.iolib.summary.Summary'>\n",
       "\"\"\"\n",
       "                    Robust linear Model Regression Results                    \n",
       "==============================================================================\n",
       "Dep. Variable:                      y   No. Observations:                   90\n",
       "Model:                            RLM   Df Residuals:                       88\n",
       "Method:                          IRLS   Df Model:                            1\n",
       "Norm:                          HuberT                                         \n",
       "Scale Est.:                       mad                                         \n",
       "Cov Type:                          H1                                         \n",
       "Date:                Fri, 04 Jun 2021                                         \n",
       "Time:                        11:18:28                                         \n",
       "No. Iterations:                    50                                         \n",
       "==============================================================================\n",
       "                 coef    std err          z      P>|z|      [0.025      0.975]\n",
       "------------------------------------------------------------------------------\n",
       "const         50.2215      0.443    113.388      0.000      49.353      51.090\n",
       "x1            71.0620      3.345     21.244      0.000      64.506      77.618\n",
       "==============================================================================\n",
       "\n",
       "If the model instance has been used for another fit with different fit parameters, then the fit options might not be the correct ones anymore .\n",
       "\"\"\""
      ]
     },
     "execution_count": 9,
     "metadata": {},
     "output_type": "execute_result"
    }
   ],
   "source": [
    "rlm_results.summary()"
   ]
  },
  {
   "cell_type": "code",
   "execution_count": 10,
   "id": "million-calculator",
   "metadata": {
    "scrolled": true
   },
   "outputs": [
    {
     "name": "stdout",
     "output_type": "stream",
     "text": [
      "[50.22147575 71.061995  ]\n"
     ]
    }
   ],
   "source": [
    "print(rlm_results.params)"
   ]
  },
  {
   "cell_type": "markdown",
   "id": "martial-witness",
   "metadata": {},
   "source": [
    "$\\textbf{predict}$ "
   ]
  },
  {
   "cell_type": "code",
   "execution_count": 11,
   "id": "frozen-yahoo",
   "metadata": {},
   "outputs": [
    {
     "data": {
      "text/plain": [
       "array([51.20575872, 56.20580186, 47.93407868, 66.41819289, 48.37854374,\n",
       "       52.36711161, 54.45184037, 41.17493219, 48.69234794, 52.60903505])"
      ]
     },
     "execution_count": 11,
     "metadata": {},
     "output_type": "execute_result"
    }
   ],
   "source": [
    "x_test = sm.add_constant(X_test)\n",
    "pred = rlm_results.predict(x_test)\n",
    "pred"
   ]
  },
  {
   "cell_type": "markdown",
   "id": "unlikely-monkey",
   "metadata": {},
   "source": [
    "$\\textbf{Confidence intervals}$ "
   ]
  },
  {
   "cell_type": "code",
   "execution_count": 13,
   "id": "connected-quarterly",
   "metadata": {},
   "outputs": [],
   "source": [
    "# Property mse_resid is not present in RLM_Results; hence adding the property to the model\n",
    "rlm_results.mse_resid = np.sum(np.square(rlm_results.resid))/ len(rlm_results.resid)"
   ]
  },
  {
   "cell_type": "code",
   "execution_count": 14,
   "id": "supreme-success",
   "metadata": {},
   "outputs": [],
   "source": [
    "pred_std_err, lower_l, upper_l = wls_prediction_std(rlm_results, x_test)"
   ]
  },
  {
   "cell_type": "code",
   "execution_count": 15,
   "id": "mobile-tiffany",
   "metadata": {},
   "outputs": [
    {
     "data": {
      "text/html": [
       "<div>\n",
       "<style scoped>\n",
       "    .dataframe tbody tr th:only-of-type {\n",
       "        vertical-align: middle;\n",
       "    }\n",
       "\n",
       "    .dataframe tbody tr th {\n",
       "        vertical-align: top;\n",
       "    }\n",
       "\n",
       "    .dataframe thead th {\n",
       "        text-align: right;\n",
       "    }\n",
       "</style>\n",
       "<table border=\"1\" class=\"dataframe\">\n",
       "  <thead>\n",
       "    <tr style=\"text-align: right;\">\n",
       "      <th></th>\n",
       "      <th>actual</th>\n",
       "      <th>prediction</th>\n",
       "      <th>lower_interval</th>\n",
       "      <th>upper_interval</th>\n",
       "    </tr>\n",
       "  </thead>\n",
       "  <tbody>\n",
       "    <tr>\n",
       "      <th>0</th>\n",
       "      <td>51.784906</td>\n",
       "      <td>51.205759</td>\n",
       "      <td>36.233603</td>\n",
       "      <td>66.177914</td>\n",
       "    </tr>\n",
       "    <tr>\n",
       "      <th>1</th>\n",
       "      <td>63.907868</td>\n",
       "      <td>56.205802</td>\n",
       "      <td>41.224018</td>\n",
       "      <td>71.187585</td>\n",
       "    </tr>\n",
       "    <tr>\n",
       "      <th>2</th>\n",
       "      <td>47.491420</td>\n",
       "      <td>47.934079</td>\n",
       "      <td>32.960317</td>\n",
       "      <td>62.907841</td>\n",
       "    </tr>\n",
       "    <tr>\n",
       "      <th>3</th>\n",
       "      <td>69.063983</td>\n",
       "      <td>66.418193</td>\n",
       "      <td>51.371521</td>\n",
       "      <td>81.464865</td>\n",
       "    </tr>\n",
       "    <tr>\n",
       "      <th>4</th>\n",
       "      <td>53.699550</td>\n",
       "      <td>48.378544</td>\n",
       "      <td>33.405367</td>\n",
       "      <td>63.351720</td>\n",
       "    </tr>\n",
       "    <tr>\n",
       "      <th>5</th>\n",
       "      <td>46.202862</td>\n",
       "      <td>52.367112</td>\n",
       "      <td>37.394022</td>\n",
       "      <td>67.340201</td>\n",
       "    </tr>\n",
       "    <tr>\n",
       "      <th>6</th>\n",
       "      <td>59.963239</td>\n",
       "      <td>54.451840</td>\n",
       "      <td>39.475097</td>\n",
       "      <td>69.428584</td>\n",
       "    </tr>\n",
       "    <tr>\n",
       "      <th>7</th>\n",
       "      <td>38.821519</td>\n",
       "      <td>41.174932</td>\n",
       "      <td>26.178058</td>\n",
       "      <td>56.171806</td>\n",
       "    </tr>\n",
       "    <tr>\n",
       "      <th>8</th>\n",
       "      <td>47.543213</td>\n",
       "      <td>48.692348</td>\n",
       "      <td>33.719515</td>\n",
       "      <td>63.665181</td>\n",
       "    </tr>\n",
       "    <tr>\n",
       "      <th>9</th>\n",
       "      <td>50.400678</td>\n",
       "      <td>52.609035</td>\n",
       "      <td>37.635652</td>\n",
       "      <td>67.582418</td>\n",
       "    </tr>\n",
       "  </tbody>\n",
       "</table>\n",
       "</div>"
      ],
      "text/plain": [
       "      actual  prediction  lower_interval  upper_interval\n",
       "0  51.784906   51.205759       36.233603       66.177914\n",
       "1  63.907868   56.205802       41.224018       71.187585\n",
       "2  47.491420   47.934079       32.960317       62.907841\n",
       "3  69.063983   66.418193       51.371521       81.464865\n",
       "4  53.699550   48.378544       33.405367       63.351720\n",
       "5  46.202862   52.367112       37.394022       67.340201\n",
       "6  59.963239   54.451840       39.475097       69.428584\n",
       "7  38.821519   41.174932       26.178058       56.171806\n",
       "8  47.543213   48.692348       33.719515       63.665181\n",
       "9  50.400678   52.609035       37.635652       67.582418"
      ]
     },
     "execution_count": 15,
     "metadata": {},
     "output_type": "execute_result"
    }
   ],
   "source": [
    "pred_datafrane = pd.DataFrame({\n",
    "    \"actual\": list(y_test),\n",
    "    \"prediction\": list(pred),\n",
    "    \"lower_interval\": list(lower_l),\n",
    "    \"upper_interval\": list(upper_l)\n",
    "})\n",
    "pred_datafrane"
   ]
  },
  {
   "cell_type": "code",
   "execution_count": null,
   "id": "ambient-champagne",
   "metadata": {},
   "outputs": [],
   "source": []
  }
 ],
 "metadata": {
  "kernelspec": {
   "display_name": "ft_coding",
   "language": "python",
   "name": "ft_venv"
  },
  "language_info": {
   "codemirror_mode": {
    "name": "ipython",
    "version": 3
   },
   "file_extension": ".py",
   "mimetype": "text/x-python",
   "name": "python",
   "nbconvert_exporter": "python",
   "pygments_lexer": "ipython3",
   "version": "3.9.8"
  }
 },
 "nbformat": 4,
 "nbformat_minor": 5
}
